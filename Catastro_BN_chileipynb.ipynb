{
  "cells": [
    {
      "cell_type": "markdown",
      "metadata": {
        "id": "view-in-github",
        "colab_type": "text"
      },
      "source": [
        "<a href=\"https://colab.research.google.com/github/rauledop1/TEWS/blob/main/Catastro_BN_chileipynb.ipynb\" target=\"_parent\"><img src=\"https://colab.research.google.com/assets/colab-badge.svg\" alt=\"Open In Colab\"/></a>"
      ]
    },
    {
      "cell_type": "code",
      "execution_count": 41,
      "metadata": {
        "colab": {
          "base_uri": "https://localhost:8080/"
        },
        "id": "GnlTVZ4RhLjQ",
        "outputId": "b1297387-7b04-4b1c-84d8-7bb24de048d3"
      },
      "outputs": [
        {
          "output_type": "stream",
          "name": "stdout",
          "text": [
            "Requirement already satisfied: leafmap in /usr/local/lib/python3.10/dist-packages (0.38.0)\n",
            "Requirement already satisfied: rarfile in /usr/local/lib/python3.10/dist-packages (4.2)\n",
            "Requirement already satisfied: lonboard in /usr/local/lib/python3.10/dist-packages (0.9.3)\n",
            "Requirement already satisfied: anywidget>=0.9.13 in /usr/local/lib/python3.10/dist-packages (from leafmap) (0.9.13)\n",
            "Requirement already satisfied: bqplot>=0.12.43 in /usr/local/lib/python3.10/dist-packages (from leafmap) (0.12.43)\n",
            "Requirement already satisfied: colour>=0.1.5 in /usr/local/lib/python3.10/dist-packages (from leafmap) (0.1.5)\n",
            "Requirement already satisfied: folium>=0.14.0 in /usr/local/lib/python3.10/dist-packages (from leafmap) (0.17.0)\n",
            "Requirement already satisfied: gdown>=5.1.0 in /usr/local/lib/python3.10/dist-packages (from leafmap) (5.2.0)\n",
            "Requirement already satisfied: geojson>=3.1.0 in /usr/local/lib/python3.10/dist-packages (from leafmap) (3.1.0)\n",
            "Requirement already satisfied: ipyevents>=2.0.2 in /usr/local/lib/python3.10/dist-packages (from leafmap) (2.0.2)\n",
            "Requirement already satisfied: ipyfilechooser>=0.6.0 in /usr/local/lib/python3.10/dist-packages (from leafmap) (0.6.0)\n",
            "Requirement already satisfied: ipyleaflet>=0.18.2 in /usr/local/lib/python3.10/dist-packages (from leafmap) (0.19.2)\n",
            "Requirement already satisfied: ipyvuetify>=1.9.4 in /usr/local/lib/python3.10/dist-packages (from leafmap) (1.10.0)\n",
            "Requirement already satisfied: ipywidgets>=7.6.0 in /usr/local/lib/python3.10/dist-packages (from leafmap) (7.7.1)\n",
            "Requirement already satisfied: matplotlib>=3.7.1 in /usr/local/lib/python3.10/dist-packages (from leafmap) (3.7.1)\n",
            "Requirement already satisfied: numpy<3.0.0,>=1.25.0 in /usr/local/lib/python3.10/dist-packages (from leafmap) (1.26.4)\n",
            "Requirement already satisfied: pandas>=2.0.3 in /usr/local/lib/python3.10/dist-packages (from leafmap) (2.1.4)\n",
            "Requirement already satisfied: plotly>=5.15.0 in /usr/local/lib/python3.10/dist-packages (from leafmap) (5.24.1)\n",
            "Requirement already satisfied: pyshp>=2.3.1 in /usr/local/lib/python3.10/dist-packages (from leafmap) (2.3.1)\n",
            "Requirement already satisfied: pystac-client>=0.8.2 in /usr/local/lib/python3.10/dist-packages (from leafmap) (0.8.3)\n",
            "Requirement already satisfied: python-box>=7.2.0 in /usr/local/lib/python3.10/dist-packages (from leafmap) (7.2.0)\n",
            "Requirement already satisfied: scooby>=0.10.0 in /usr/local/lib/python3.10/dist-packages (from leafmap) (0.10.0)\n",
            "Requirement already satisfied: setuptools>=71.0.4 in /usr/local/lib/python3.10/dist-packages (from leafmap) (71.0.4)\n",
            "Requirement already satisfied: whiteboxgui>=2.3.0 in /usr/local/lib/python3.10/dist-packages (from leafmap) (2.3.0)\n",
            "Requirement already satisfied: xyzservices>=2024.6.0 in /usr/local/lib/python3.10/dist-packages (from leafmap) (2024.9.0)\n",
            "Requirement already satisfied: duckdb>=0.10.3 in /usr/local/lib/python3.10/dist-packages (from leafmap) (1.1.1)\n",
            "Requirement already satisfied: geopandas>=0.13 in /usr/local/lib/python3.10/dist-packages (from lonboard) (1.0.1)\n",
            "Requirement already satisfied: palettable<4.0.0,>=3.3.3 in /usr/local/lib/python3.10/dist-packages (from lonboard) (3.3.3)\n",
            "Requirement already satisfied: pyarrow>=14.0.1 in /usr/local/lib/python3.10/dist-packages (from lonboard) (17.0.0)\n",
            "Requirement already satisfied: shapely<3,>=2 in /usr/local/lib/python3.10/dist-packages (from lonboard) (2.0.6)\n",
            "Requirement already satisfied: typing-extensions<5.0.0,>=4.6.0 in /usr/local/lib/python3.10/dist-packages (from lonboard) (4.12.2)\n",
            "Requirement already satisfied: psygnal>=0.8.1 in /usr/local/lib/python3.10/dist-packages (from anywidget>=0.9.13->leafmap) (0.11.1)\n",
            "Requirement already satisfied: traitlets>=4.3.0 in /usr/local/lib/python3.10/dist-packages (from bqplot>=0.12.43->leafmap) (5.7.1)\n",
            "Requirement already satisfied: traittypes>=0.0.6 in /usr/local/lib/python3.10/dist-packages (from bqplot>=0.12.43->leafmap) (0.2.1)\n",
            "Requirement already satisfied: branca>=0.6.0 in /usr/local/lib/python3.10/dist-packages (from folium>=0.14.0->leafmap) (0.7.2)\n",
            "Requirement already satisfied: jinja2>=2.9 in /usr/local/lib/python3.10/dist-packages (from folium>=0.14.0->leafmap) (3.1.4)\n",
            "Requirement already satisfied: requests in /usr/local/lib/python3.10/dist-packages (from folium>=0.14.0->leafmap) (2.32.3)\n",
            "Requirement already satisfied: beautifulsoup4 in /usr/local/lib/python3.10/dist-packages (from gdown>=5.1.0->leafmap) (4.12.3)\n",
            "Requirement already satisfied: filelock in /usr/local/lib/python3.10/dist-packages (from gdown>=5.1.0->leafmap) (3.16.1)\n",
            "Requirement already satisfied: tqdm in /usr/local/lib/python3.10/dist-packages (from gdown>=5.1.0->leafmap) (4.66.5)\n",
            "Requirement already satisfied: pyogrio>=0.7.2 in /usr/local/lib/python3.10/dist-packages (from geopandas>=0.13->lonboard) (0.9.0)\n",
            "Requirement already satisfied: packaging in /usr/local/lib/python3.10/dist-packages (from geopandas>=0.13->lonboard) (24.1)\n",
            "Requirement already satisfied: pyproj>=3.3.0 in /usr/local/lib/python3.10/dist-packages (from geopandas>=0.13->lonboard) (3.6.1)\n",
            "Requirement already satisfied: jupyter-leaflet<0.20,>=0.19 in /usr/local/lib/python3.10/dist-packages (from ipyleaflet>=0.18.2->leafmap) (0.19.2)\n",
            "Requirement already satisfied: ipyvue<2,>=1.7 in /usr/local/lib/python3.10/dist-packages (from ipyvuetify>=1.9.4->leafmap) (1.11.1)\n",
            "Requirement already satisfied: ipykernel>=4.5.1 in /usr/local/lib/python3.10/dist-packages (from ipywidgets>=7.6.0->leafmap) (5.5.6)\n",
            "Requirement already satisfied: ipython-genutils~=0.2.0 in /usr/local/lib/python3.10/dist-packages (from ipywidgets>=7.6.0->leafmap) (0.2.0)\n",
            "Requirement already satisfied: widgetsnbextension~=3.6.0 in /usr/local/lib/python3.10/dist-packages (from ipywidgets>=7.6.0->leafmap) (3.6.9)\n",
            "Requirement already satisfied: ipython>=4.0.0 in /usr/local/lib/python3.10/dist-packages (from ipywidgets>=7.6.0->leafmap) (7.34.0)\n",
            "Requirement already satisfied: jupyterlab-widgets>=1.0.0 in /usr/local/lib/python3.10/dist-packages (from ipywidgets>=7.6.0->leafmap) (3.0.13)\n",
            "Requirement already satisfied: contourpy>=1.0.1 in /usr/local/lib/python3.10/dist-packages (from matplotlib>=3.7.1->leafmap) (1.3.0)\n",
            "Requirement already satisfied: cycler>=0.10 in /usr/local/lib/python3.10/dist-packages (from matplotlib>=3.7.1->leafmap) (0.12.1)\n",
            "Requirement already satisfied: fonttools>=4.22.0 in /usr/local/lib/python3.10/dist-packages (from matplotlib>=3.7.1->leafmap) (4.53.1)\n",
            "Requirement already satisfied: kiwisolver>=1.0.1 in /usr/local/lib/python3.10/dist-packages (from matplotlib>=3.7.1->leafmap) (1.4.7)\n",
            "Requirement already satisfied: pillow>=6.2.0 in /usr/local/lib/python3.10/dist-packages (from matplotlib>=3.7.1->leafmap) (10.4.0)\n",
            "Requirement already satisfied: pyparsing>=2.3.1 in /usr/local/lib/python3.10/dist-packages (from matplotlib>=3.7.1->leafmap) (3.1.4)\n",
            "Requirement already satisfied: python-dateutil>=2.7 in /usr/local/lib/python3.10/dist-packages (from matplotlib>=3.7.1->leafmap) (2.9.0.post0)\n",
            "Requirement already satisfied: pytz>=2020.1 in /usr/local/lib/python3.10/dist-packages (from pandas>=2.0.3->leafmap) (2024.2)\n",
            "Requirement already satisfied: tzdata>=2022.1 in /usr/local/lib/python3.10/dist-packages (from pandas>=2.0.3->leafmap) (2024.1)\n",
            "Requirement already satisfied: tenacity>=6.2.0 in /usr/local/lib/python3.10/dist-packages (from plotly>=5.15.0->leafmap) (9.0.0)\n",
            "Requirement already satisfied: pystac>=1.10.0 in /usr/local/lib/python3.10/dist-packages (from pystac[validation]>=1.10.0->pystac-client>=0.8.2->leafmap) (1.10.1)\n",
            "Requirement already satisfied: ipytree in /usr/local/lib/python3.10/dist-packages (from whiteboxgui>=2.3.0->leafmap) (0.2.2)\n",
            "Requirement already satisfied: whitebox in /usr/local/lib/python3.10/dist-packages (from whiteboxgui>=2.3.0->leafmap) (2.3.5)\n",
            "Requirement already satisfied: jupyter-client in /usr/local/lib/python3.10/dist-packages (from ipykernel>=4.5.1->ipywidgets>=7.6.0->leafmap) (6.1.12)\n",
            "Requirement already satisfied: tornado>=4.2 in /usr/local/lib/python3.10/dist-packages (from ipykernel>=4.5.1->ipywidgets>=7.6.0->leafmap) (6.3.3)\n",
            "Requirement already satisfied: jedi>=0.16 in /usr/local/lib/python3.10/dist-packages (from ipython>=4.0.0->ipywidgets>=7.6.0->leafmap) (0.19.1)\n",
            "Requirement already satisfied: decorator in /usr/local/lib/python3.10/dist-packages (from ipython>=4.0.0->ipywidgets>=7.6.0->leafmap) (5.1.1)\n",
            "Requirement already satisfied: pickleshare in /usr/local/lib/python3.10/dist-packages (from ipython>=4.0.0->ipywidgets>=7.6.0->leafmap) (0.7.5)\n",
            "Requirement already satisfied: prompt-toolkit!=3.0.0,!=3.0.1,<3.1.0,>=2.0.0 in /usr/local/lib/python3.10/dist-packages (from ipython>=4.0.0->ipywidgets>=7.6.0->leafmap) (3.0.47)\n",
            "Requirement already satisfied: pygments in /usr/local/lib/python3.10/dist-packages (from ipython>=4.0.0->ipywidgets>=7.6.0->leafmap) (2.18.0)\n",
            "Requirement already satisfied: backcall in /usr/local/lib/python3.10/dist-packages (from ipython>=4.0.0->ipywidgets>=7.6.0->leafmap) (0.2.0)\n",
            "Requirement already satisfied: matplotlib-inline in /usr/local/lib/python3.10/dist-packages (from ipython>=4.0.0->ipywidgets>=7.6.0->leafmap) (0.1.7)\n",
            "Requirement already satisfied: pexpect>4.3 in /usr/local/lib/python3.10/dist-packages (from ipython>=4.0.0->ipywidgets>=7.6.0->leafmap) (4.9.0)\n",
            "Requirement already satisfied: MarkupSafe>=2.0 in /usr/local/lib/python3.10/dist-packages (from jinja2>=2.9->folium>=0.14.0->leafmap) (2.1.5)\n",
            "Requirement already satisfied: certifi in /usr/local/lib/python3.10/dist-packages (from pyogrio>=0.7.2->geopandas>=0.13->lonboard) (2024.8.30)\n",
            "Requirement already satisfied: jsonschema~=4.18 in /usr/local/lib/python3.10/dist-packages (from pystac[validation]>=1.10.0->pystac-client>=0.8.2->leafmap) (4.23.0)\n",
            "Requirement already satisfied: six>=1.5 in /usr/local/lib/python3.10/dist-packages (from python-dateutil>=2.7->matplotlib>=3.7.1->leafmap) (1.16.0)\n",
            "Requirement already satisfied: charset-normalizer<4,>=2 in /usr/local/lib/python3.10/dist-packages (from requests->folium>=0.14.0->leafmap) (3.3.2)\n",
            "Requirement already satisfied: idna<4,>=2.5 in /usr/local/lib/python3.10/dist-packages (from requests->folium>=0.14.0->leafmap) (3.10)\n",
            "Requirement already satisfied: urllib3<3,>=1.21.1 in /usr/local/lib/python3.10/dist-packages (from requests->folium>=0.14.0->leafmap) (2.2.3)\n",
            "Requirement already satisfied: notebook>=4.4.1 in /usr/local/lib/python3.10/dist-packages (from widgetsnbextension~=3.6.0->ipywidgets>=7.6.0->leafmap) (6.5.5)\n",
            "Requirement already satisfied: soupsieve>1.2 in /usr/local/lib/python3.10/dist-packages (from beautifulsoup4->gdown>=5.1.0->leafmap) (2.6)\n",
            "Requirement already satisfied: PySocks!=1.5.7,>=1.5.6 in /usr/local/lib/python3.10/dist-packages (from requests[socks]->gdown>=5.1.0->leafmap) (1.7.1)\n",
            "Requirement already satisfied: Click>=6.0 in /usr/local/lib/python3.10/dist-packages (from whitebox->whiteboxgui>=2.3.0->leafmap) (8.1.7)\n",
            "Requirement already satisfied: parso<0.9.0,>=0.8.3 in /usr/local/lib/python3.10/dist-packages (from jedi>=0.16->ipython>=4.0.0->ipywidgets>=7.6.0->leafmap) (0.8.4)\n",
            "Requirement already satisfied: attrs>=22.2.0 in /usr/local/lib/python3.10/dist-packages (from jsonschema~=4.18->pystac[validation]>=1.10.0->pystac-client>=0.8.2->leafmap) (24.2.0)\n",
            "Requirement already satisfied: jsonschema-specifications>=2023.03.6 in /usr/local/lib/python3.10/dist-packages (from jsonschema~=4.18->pystac[validation]>=1.10.0->pystac-client>=0.8.2->leafmap) (2023.12.1)\n",
            "Requirement already satisfied: referencing>=0.28.4 in /usr/local/lib/python3.10/dist-packages (from jsonschema~=4.18->pystac[validation]>=1.10.0->pystac-client>=0.8.2->leafmap) (0.35.1)\n",
            "Requirement already satisfied: rpds-py>=0.7.1 in /usr/local/lib/python3.10/dist-packages (from jsonschema~=4.18->pystac[validation]>=1.10.0->pystac-client>=0.8.2->leafmap) (0.20.0)\n",
            "Requirement already satisfied: pyzmq<25,>=17 in /usr/local/lib/python3.10/dist-packages (from notebook>=4.4.1->widgetsnbextension~=3.6.0->ipywidgets>=7.6.0->leafmap) (24.0.1)\n",
            "Requirement already satisfied: argon2-cffi in /usr/local/lib/python3.10/dist-packages (from notebook>=4.4.1->widgetsnbextension~=3.6.0->ipywidgets>=7.6.0->leafmap) (23.1.0)\n",
            "Requirement already satisfied: jupyter-core>=4.6.1 in /usr/local/lib/python3.10/dist-packages (from notebook>=4.4.1->widgetsnbextension~=3.6.0->ipywidgets>=7.6.0->leafmap) (5.7.2)\n",
            "Requirement already satisfied: nbformat in /usr/local/lib/python3.10/dist-packages (from notebook>=4.4.1->widgetsnbextension~=3.6.0->ipywidgets>=7.6.0->leafmap) (5.10.4)\n",
            "Requirement already satisfied: nbconvert>=5 in /usr/local/lib/python3.10/dist-packages (from notebook>=4.4.1->widgetsnbextension~=3.6.0->ipywidgets>=7.6.0->leafmap) (7.16.4)\n",
            "Requirement already satisfied: nest-asyncio>=1.5 in /usr/local/lib/python3.10/dist-packages (from notebook>=4.4.1->widgetsnbextension~=3.6.0->ipywidgets>=7.6.0->leafmap) (1.6.0)\n",
            "Requirement already satisfied: Send2Trash>=1.8.0 in /usr/local/lib/python3.10/dist-packages (from notebook>=4.4.1->widgetsnbextension~=3.6.0->ipywidgets>=7.6.0->leafmap) (1.8.3)\n",
            "Requirement already satisfied: terminado>=0.8.3 in /usr/local/lib/python3.10/dist-packages (from notebook>=4.4.1->widgetsnbextension~=3.6.0->ipywidgets>=7.6.0->leafmap) (0.18.1)\n",
            "Requirement already satisfied: prometheus-client in /usr/local/lib/python3.10/dist-packages (from notebook>=4.4.1->widgetsnbextension~=3.6.0->ipywidgets>=7.6.0->leafmap) (0.21.0)\n",
            "Requirement already satisfied: nbclassic>=0.4.7 in /usr/local/lib/python3.10/dist-packages (from notebook>=4.4.1->widgetsnbextension~=3.6.0->ipywidgets>=7.6.0->leafmap) (1.1.0)\n",
            "Requirement already satisfied: ptyprocess>=0.5 in /usr/local/lib/python3.10/dist-packages (from pexpect>4.3->ipython>=4.0.0->ipywidgets>=7.6.0->leafmap) (0.7.0)\n",
            "Requirement already satisfied: wcwidth in /usr/local/lib/python3.10/dist-packages (from prompt-toolkit!=3.0.0,!=3.0.1,<3.1.0,>=2.0.0->ipython>=4.0.0->ipywidgets>=7.6.0->leafmap) (0.2.13)\n",
            "Requirement already satisfied: platformdirs>=2.5 in /usr/local/lib/python3.10/dist-packages (from jupyter-core>=4.6.1->notebook>=4.4.1->widgetsnbextension~=3.6.0->ipywidgets>=7.6.0->leafmap) (4.3.6)\n",
            "Requirement already satisfied: notebook-shim>=0.2.3 in /usr/local/lib/python3.10/dist-packages (from nbclassic>=0.4.7->notebook>=4.4.1->widgetsnbextension~=3.6.0->ipywidgets>=7.6.0->leafmap) (0.2.4)\n",
            "Requirement already satisfied: bleach!=5.0.0 in /usr/local/lib/python3.10/dist-packages (from nbconvert>=5->notebook>=4.4.1->widgetsnbextension~=3.6.0->ipywidgets>=7.6.0->leafmap) (6.1.0)\n",
            "Requirement already satisfied: defusedxml in /usr/local/lib/python3.10/dist-packages (from nbconvert>=5->notebook>=4.4.1->widgetsnbextension~=3.6.0->ipywidgets>=7.6.0->leafmap) (0.7.1)\n",
            "Requirement already satisfied: jupyterlab-pygments in /usr/local/lib/python3.10/dist-packages (from nbconvert>=5->notebook>=4.4.1->widgetsnbextension~=3.6.0->ipywidgets>=7.6.0->leafmap) (0.3.0)\n",
            "Requirement already satisfied: mistune<4,>=2.0.3 in /usr/local/lib/python3.10/dist-packages (from nbconvert>=5->notebook>=4.4.1->widgetsnbextension~=3.6.0->ipywidgets>=7.6.0->leafmap) (3.0.2)\n",
            "Requirement already satisfied: nbclient>=0.5.0 in /usr/local/lib/python3.10/dist-packages (from nbconvert>=5->notebook>=4.4.1->widgetsnbextension~=3.6.0->ipywidgets>=7.6.0->leafmap) (0.10.0)\n",
            "Requirement already satisfied: pandocfilters>=1.4.1 in /usr/local/lib/python3.10/dist-packages (from nbconvert>=5->notebook>=4.4.1->widgetsnbextension~=3.6.0->ipywidgets>=7.6.0->leafmap) (1.5.1)\n",
            "Requirement already satisfied: tinycss2 in /usr/local/lib/python3.10/dist-packages (from nbconvert>=5->notebook>=4.4.1->widgetsnbextension~=3.6.0->ipywidgets>=7.6.0->leafmap) (1.3.0)\n",
            "Requirement already satisfied: fastjsonschema>=2.15 in /usr/local/lib/python3.10/dist-packages (from nbformat->notebook>=4.4.1->widgetsnbextension~=3.6.0->ipywidgets>=7.6.0->leafmap) (2.20.0)\n",
            "Requirement already satisfied: argon2-cffi-bindings in /usr/local/lib/python3.10/dist-packages (from argon2-cffi->notebook>=4.4.1->widgetsnbextension~=3.6.0->ipywidgets>=7.6.0->leafmap) (21.2.0)\n",
            "Requirement already satisfied: webencodings in /usr/local/lib/python3.10/dist-packages (from bleach!=5.0.0->nbconvert>=5->notebook>=4.4.1->widgetsnbextension~=3.6.0->ipywidgets>=7.6.0->leafmap) (0.5.1)\n",
            "Requirement already satisfied: jupyter-server<3,>=1.8 in /usr/local/lib/python3.10/dist-packages (from notebook-shim>=0.2.3->nbclassic>=0.4.7->notebook>=4.4.1->widgetsnbextension~=3.6.0->ipywidgets>=7.6.0->leafmap) (1.24.0)\n",
            "Requirement already satisfied: cffi>=1.0.1 in /usr/local/lib/python3.10/dist-packages (from argon2-cffi-bindings->argon2-cffi->notebook>=4.4.1->widgetsnbextension~=3.6.0->ipywidgets>=7.6.0->leafmap) (1.17.1)\n",
            "Requirement already satisfied: pycparser in /usr/local/lib/python3.10/dist-packages (from cffi>=1.0.1->argon2-cffi-bindings->argon2-cffi->notebook>=4.4.1->widgetsnbextension~=3.6.0->ipywidgets>=7.6.0->leafmap) (2.22)\n",
            "Requirement already satisfied: anyio<4,>=3.1.0 in /usr/local/lib/python3.10/dist-packages (from jupyter-server<3,>=1.8->notebook-shim>=0.2.3->nbclassic>=0.4.7->notebook>=4.4.1->widgetsnbextension~=3.6.0->ipywidgets>=7.6.0->leafmap) (3.7.1)\n",
            "Requirement already satisfied: websocket-client in /usr/local/lib/python3.10/dist-packages (from jupyter-server<3,>=1.8->notebook-shim>=0.2.3->nbclassic>=0.4.7->notebook>=4.4.1->widgetsnbextension~=3.6.0->ipywidgets>=7.6.0->leafmap) (1.8.0)\n",
            "Requirement already satisfied: sniffio>=1.1 in /usr/local/lib/python3.10/dist-packages (from anyio<4,>=3.1.0->jupyter-server<3,>=1.8->notebook-shim>=0.2.3->nbclassic>=0.4.7->notebook>=4.4.1->widgetsnbextension~=3.6.0->ipywidgets>=7.6.0->leafmap) (1.3.1)\n",
            "Requirement already satisfied: exceptiongroup in /usr/local/lib/python3.10/dist-packages (from anyio<4,>=3.1.0->jupyter-server<3,>=1.8->notebook-shim>=0.2.3->nbclassic>=0.4.7->notebook>=4.4.1->widgetsnbextension~=3.6.0->ipywidgets>=7.6.0->leafmap) (1.2.2)\n"
          ]
        }
      ],
      "source": [
        "%pip install leafmap rarfile lonboard\n",
        "#%pip install lonboard"
      ]
    },
    {
      "cell_type": "code",
      "execution_count": 42,
      "metadata": {
        "id": "x8rK2nYwg_CR"
      },
      "outputs": [],
      "source": [
        "import duckdb\n",
        "import leafmap\n",
        "import rarfile\n",
        "import requests\n",
        "import os\n",
        "import pandas as pd\n",
        "import shutil"
      ]
    },
    {
      "cell_type": "code",
      "execution_count": 43,
      "metadata": {
        "id": "srcYshMnilnA"
      },
      "outputs": [],
      "source": [
        "#download file function\n",
        "def download_file(url, output_path):\n",
        "    # Send a HTTP request to the specified URL\n",
        "    response = requests.get(url)\n",
        "\n",
        "    # Check if the request was successful (status code 200)\n",
        "    if response.status_code == 200:\n",
        "        # Open the output file in binary mode and write the content\n",
        "        with open(output_path, 'wb') as file:\n",
        "            file.write(response.content)\n",
        "        print(f\"Downloaded file to {output_path}\")\n",
        "    else:\n",
        "        print(f\"Failed to download file. Status code: {response.status_code}\")\n",
        "\n",
        "#uncompress rar file\n",
        "def extract_rar(rar_file, extract_dir):\n",
        "    # Open the rar file\n",
        "    with rarfile.RarFile(rar_file) as rf:\n",
        "        # Extract all contents to the specified directory\n",
        "        rf.extractall(extract_dir)\n",
        "        print(f\"Extracted {rar_file} to {extract_dir}\")\n",
        "\n",
        "def extract_table_to_dataframe(url):\n",
        "    # Send an HTTP request to the URL\n",
        "    response = requests.get(url)\n",
        "\n",
        "    # Check if the request was successful\n",
        "    if response.status_code == 200:\n",
        "        # Use pandas to read the HTML and extract tables\n",
        "        tables = pd.read_html(response.text)\n",
        "\n",
        "        # If tables were found, return the first table as a DataFrame\n",
        "        if tables:\n",
        "            df = tables[0]\n",
        "            print(f\"Extracted table with {df.shape[0]} rows and {df.shape[1]} columns\")\n",
        "            return df\n",
        "        else:\n",
        "            print(\"No tables found on the webpage.\")\n",
        "            return None\n",
        "    else:\n",
        "        print(f\"Failed to fetch the webpage. Status code: {response.status_code}\")\n",
        "        return None\n",
        "\n",
        "def find_shp_files(base_dir):\n",
        "    shp_files = []\n",
        "\n",
        "    # Walk through the directory and subdirectories\n",
        "    for root, dirs, files in os.walk(base_dir):\n",
        "        # Search for .shp files\n",
        "        for file in files:\n",
        "            if file.endswith('.shp'):\n",
        "                shp_path = os.path.join(root, file)\n",
        "                shp_files.append(shp_path)\n",
        "                print(f\"Found shapefile: {shp_path}\")\n",
        "\n",
        "    if shp_files:\n",
        "        print(f\"Found {len(shp_files)} shapefile(s).\")\n",
        "        return shp_files\n",
        "    else:\n",
        "        print(\"No shapefiles found.\")\n",
        "        return None\n"
      ]
    },
    {
      "cell_type": "code",
      "execution_count": 44,
      "metadata": {
        "id": "fVkbITe9xUkx"
      },
      "outputs": [],
      "source": [
        "admin_url='https://raw.githubusercontent.com/rauledop1/TEWS/refs/heads/main/Catastro_BN.csv'"
      ]
    },
    {
      "cell_type": "code",
      "execution_count": 45,
      "metadata": {
        "id": "W2HbPLBLxcb4"
      },
      "outputs": [],
      "source": [
        "df=pd.read_csv(admin_url)"
      ]
    },
    {
      "cell_type": "code",
      "execution_count": 46,
      "metadata": {
        "id": "VLdbtbiN04ac"
      },
      "outputs": [],
      "source": [
        "#df=df.query(\"cod_region == 'CL-MA'\")\n",
        "url_catastro=df.file_url.to_list()\n",
        "year_update=df.year_update.to_list()\n",
        "cod_region=df.cod_region.to_list()\n",
        "crs_file=df.crs.to_list()"
      ]
    },
    {
      "cell_type": "code",
      "execution_count": 47,
      "metadata": {
        "id": "fiu-8w8tHcIv"
      },
      "outputs": [],
      "source": [
        "#Create a temporal DB\n",
        "con = duckdb.connect()\n",
        "\n",
        "#Load spatial and http extensions\n",
        "con.sql('''\n",
        "install httpfs;\n",
        "load httpfs;\n",
        "INSTALL spatial;\n",
        "LOAD spatial;\n",
        "''')"
      ]
    },
    {
      "cell_type": "code",
      "execution_count": null,
      "metadata": {
        "colab": {
          "base_uri": "https://localhost:8080/",
          "height": 916,
          "referenced_widgets": [
            "6b3088cbf716444c8c372307150804c9",
            "1aaf77b2144444e39d0f4800ecd2fce8",
            "a3be3aa8732b41499c68501372626b6e",
            "7b026fce135e43d58617c72c7eec542c",
            "c7514068d9934b9cb2c8c8630b78c79a",
            "c78309ca4c9b4843b225e90ad7be95a7",
            "907551cefa314d1cbd65856d65877011",
            "eb40048b88734568b08fc66b2639fe77",
            "9adec29d68a642d5847db7f414532511",
            "5ac43914016e43b980d237ab79ad7515",
            "3d98eba26d1448d598225f139c2c2514",
            "13947c6292c246ba9e81e41b65645e23",
            "d9f6461140c3443191b9b7e404973dea",
            "ab6fa198477243609eab55d44baa73ae",
            "ed82ef8038b34985889f645144c39151",
            "9ddb6b00dbb546a3ab0979f21b06a06c",
            "9a243113d4f444ce8297691de448dfc7",
            "3fcd2407457e4ea1bbab512633df6f0d",
            "74e047667a224dc0bb2a6e747a7301ec",
            "677b515d11b44e3fafd3b1965927cc48",
            "7497b36366024b55a82ba305052c465e",
            "ba82be54ced64be694be9e2fd5f477d7",
            "6203ff989e1f4605ac1021e16b5db9a3",
            "2e8aac0548404239ac66503edb930ca8"
          ]
        },
        "id": "tLkJ2j_li1t_",
        "outputId": "96ca7bce-62b4-4b5c-ea99-21e7631bc7f1"
      },
      "outputs": [
        {
          "output_type": "stream",
          "name": "stdout",
          "text": [
            "Downloaded file to CL-AI_2011.rar\n",
            "Extracted CL-AI_2011.rar to CL-AI_2011_BN\n",
            "Found shapefile: CL-AI_2011_BN/11. Región de Aysén/Catastro_RV_R11_2011_v2.shp\n",
            "Found 1 shapefile(s).\n"
          ]
        },
        {
          "output_type": "display_data",
          "data": {
            "text/plain": [
              "FloatProgress(value=0.0, layout=Layout(width='auto'), style=ProgressStyle(bar_color='black'))"
            ],
            "application/vnd.jupyter.widget-view+json": {
              "version_major": 2,
              "version_minor": 0,
              "model_id": "6b3088cbf716444c8c372307150804c9"
            }
          },
          "metadata": {
            "application/vnd.jupyter.widget-view+json": {
              "colab": {
                "custom_widget_manager": {
                  "url": "https://ssl.gstatic.com/colaboratory-static/widgets/colab-cdn-widget-manager/2b70e893a8ba7c0f/manager.min.js"
                }
              }
            }
          }
        },
        {
          "output_type": "stream",
          "name": "stdout",
          "text": [
            "Downloaded file to CL-AN_2019.rar\n",
            "Extracted CL-AN_2019.rar to CL-AN_2019_BN\n",
            "Found shapefile: CL-AN_2019_BN/CBN_REG02_2019/CBN_REG02_2019.shp\n",
            "Found 1 shapefile(s).\n"
          ]
        },
        {
          "output_type": "display_data",
          "data": {
            "text/plain": [
              "FloatProgress(value=0.0, layout=Layout(width='auto'), style=ProgressStyle(bar_color='black'))"
            ],
            "application/vnd.jupyter.widget-view+json": {
              "version_major": 2,
              "version_minor": 0,
              "model_id": "c78309ca4c9b4843b225e90ad7be95a7"
            }
          },
          "metadata": {
            "application/vnd.jupyter.widget-view+json": {
              "colab": {
                "custom_widget_manager": {
                  "url": "https://ssl.gstatic.com/colaboratory-static/widgets/colab-cdn-widget-manager/2b70e893a8ba7c0f/manager.min.js"
                }
              }
            }
          }
        },
        {
          "output_type": "stream",
          "name": "stdout",
          "text": [
            "Downloaded file to CL-AP_2015.rar\n",
            "Extracted CL-AP_2015.rar to CL-AP_2015_BN\n",
            "Found shapefile: CL-AP_2015_BN/catastro_rv_r15_2015_v2/catastro_rv_r15_2015_v2.shp\n",
            "Found 1 shapefile(s).\n",
            "Downloaded file to CL-AT_2018.rar\n",
            "Extracted CL-AT_2018.rar to CL-AT_2018_BN\n",
            "Found shapefile: CL-AT_2018_BN/catastro_rv_r03_2018/catastro_rv_r03_2018.shp\n",
            "Found 1 shapefile(s).\n"
          ]
        },
        {
          "output_type": "display_data",
          "data": {
            "text/plain": [
              "FloatProgress(value=0.0, layout=Layout(width='auto'), style=ProgressStyle(bar_color='black'))"
            ],
            "application/vnd.jupyter.widget-view+json": {
              "version_major": 2,
              "version_minor": 0,
              "model_id": "9adec29d68a642d5847db7f414532511"
            }
          },
          "metadata": {
            "application/vnd.jupyter.widget-view+json": {
              "colab": {
                "custom_widget_manager": {
                  "url": "https://ssl.gstatic.com/colaboratory-static/widgets/colab-cdn-widget-manager/2b70e893a8ba7c0f/manager.min.js"
                }
              }
            }
          }
        },
        {
          "output_type": "stream",
          "name": "stdout",
          "text": [
            "Downloaded file to CL-BI_2015.rar\n",
            "Extracted CL-BI_2015.rar to CL-BI_2015_BN\n",
            "Found shapefile: CL-BI_2015_BN/Catastro_RV_R08_2015.shp\n",
            "Found 1 shapefile(s).\n"
          ]
        },
        {
          "output_type": "display_data",
          "data": {
            "text/plain": [
              "FloatProgress(value=0.0, layout=Layout(width='auto'), style=ProgressStyle(bar_color='black'))"
            ],
            "application/vnd.jupyter.widget-view+json": {
              "version_major": 2,
              "version_minor": 0,
              "model_id": "13947c6292c246ba9e81e41b65645e23"
            }
          },
          "metadata": {
            "application/vnd.jupyter.widget-view+json": {
              "colab": {
                "custom_widget_manager": {
                  "url": "https://ssl.gstatic.com/colaboratory-static/widgets/colab-cdn-widget-manager/2b70e893a8ba7c0f/manager.min.js"
                }
              }
            }
          }
        },
        {
          "output_type": "stream",
          "name": "stdout",
          "text": [
            "Downloaded file to CL-CO_2014.rar\n",
            "Extracted CL-CO_2014.rar to CL-CO_2014_BN\n",
            "Found shapefile: CL-CO_2014_BN/04.Región de Coquimbo/Catastro_RV_R04_2014.shp\n",
            "Found 1 shapefile(s).\n"
          ]
        },
        {
          "output_type": "display_data",
          "data": {
            "text/plain": [
              "FloatProgress(value=0.0, layout=Layout(width='auto'), style=ProgressStyle(bar_color='black'))"
            ],
            "application/vnd.jupyter.widget-view+json": {
              "version_major": 2,
              "version_minor": 0,
              "model_id": "ed82ef8038b34985889f645144c39151"
            }
          },
          "metadata": {
            "application/vnd.jupyter.widget-view+json": {
              "colab": {
                "custom_widget_manager": {
                  "url": "https://ssl.gstatic.com/colaboratory-static/widgets/colab-cdn-widget-manager/2b70e893a8ba7c0f/manager.min.js"
                }
              }
            }
          }
        },
        {
          "output_type": "stream",
          "name": "stdout",
          "text": [
            "Downloaded file to CL-AR_2017.rar\n",
            "Extracted CL-AR_2017.rar to CL-AR_2017_BN\n",
            "Found shapefile: CL-AR_2017_BN/cbn_09reg_2017/cbn_09reg_2017.shp\n",
            "Found 1 shapefile(s).\n"
          ]
        },
        {
          "output_type": "display_data",
          "data": {
            "text/plain": [
              "FloatProgress(value=0.0, layout=Layout(width='auto'), style=ProgressStyle(bar_color='black'))"
            ],
            "application/vnd.jupyter.widget-view+json": {
              "version_major": 2,
              "version_minor": 0,
              "model_id": "3fcd2407457e4ea1bbab512633df6f0d"
            }
          },
          "metadata": {
            "application/vnd.jupyter.widget-view+json": {
              "colab": {
                "custom_widget_manager": {
                  "url": "https://ssl.gstatic.com/colaboratory-static/widgets/colab-cdn-widget-manager/2b70e893a8ba7c0f/manager.min.js"
                }
              }
            }
          }
        },
        {
          "output_type": "stream",
          "name": "stdout",
          "text": [
            "Downloaded file to CL-LI_2013.rar\n",
            "Extracted CL-LI_2013.rar to CL-LI_2013_BN\n",
            "Found shapefile: CL-LI_2013_BN/06. Región de OHiggins/Catastro_RV_R06_2013.shp\n",
            "Found 1 shapefile(s).\n"
          ]
        },
        {
          "output_type": "display_data",
          "data": {
            "text/plain": [
              "FloatProgress(value=0.0, layout=Layout(width='auto'), style=ProgressStyle(bar_color='black'))"
            ],
            "application/vnd.jupyter.widget-view+json": {
              "version_major": 2,
              "version_minor": 0,
              "model_id": "7497b36366024b55a82ba305052c465e"
            }
          },
          "metadata": {
            "application/vnd.jupyter.widget-view+json": {
              "colab": {
                "custom_widget_manager": {
                  "url": "https://ssl.gstatic.com/colaboratory-static/widgets/colab-cdn-widget-manager/2b70e893a8ba7c0f/manager.min.js"
                }
              }
            }
          }
        },
        {
          "output_type": "stream",
          "name": "stdout",
          "text": [
            "Downloaded file to CL-LL_2018.rar\n",
            "Extracted CL-LL_2018.rar to CL-LL_2018_BN\n",
            "Found shapefile: CL-LL_2018_BN/cbn_10reg_2018/cbn_10reg_2018.shp\n",
            "Found 1 shapefile(s).\n"
          ]
        },
        {
          "output_type": "display_data",
          "data": {
            "text/plain": [
              "FloatProgress(value=0.0, layout=Layout(width='auto'), style=ProgressStyle(bar_color='black'))"
            ],
            "application/vnd.jupyter.widget-view+json": {
              "version_major": 2,
              "version_minor": 0,
              "model_id": "2e8aac0548404239ac66503edb930ca8"
            }
          },
          "metadata": {
            "application/vnd.jupyter.widget-view+json": {
              "colab": {
                "custom_widget_manager": {
                  "url": "https://ssl.gstatic.com/colaboratory-static/widgets/colab-cdn-widget-manager/2b70e893a8ba7c0f/manager.min.js"
                }
              }
            }
          }
        }
      ],
      "source": [
        "for i,j,k,c in zip(url_catastro, year_update,cod_region, crs_file):\n",
        "\n",
        "  compress_file=f'{k}_{j}.rar'\n",
        "  folder_p=f'{k}_{j}_BN'\n",
        "  table_name=k.replace('-','_')+f'_{j}'\n",
        "\n",
        "  download_file(i,compress_file)\n",
        "\n",
        "  if not os.path.exists(folder_p):\n",
        "    os.makedirs(folder_p)\n",
        "\n",
        "  extract_rar(compress_file, folder_p)\n",
        "\n",
        "  shp=find_shp_files(folder_p)\n",
        "\n",
        "  shp=shp[0]\n",
        "\n",
        "  con.sql(f'''\n",
        "    create table '{table_name}' as\n",
        "    SELECT *, '{table_name}' as cod_catastro, st_transform(geom, '{c}','EPSG:4326') as geo_geom\n",
        "      from st_read('{shp}')\n",
        "    ''')\n",
        "  os.remove(compress_file)\n",
        "  shutil.rmtree(folder_p)"
      ]
    },
    {
      "cell_type": "code",
      "execution_count": null,
      "metadata": {
        "id": "s5EkIdAsg6ao"
      },
      "outputs": [],
      "source": [
        "con.sql('''\n",
        "SHOW ALL TABLES\n",
        "''')"
      ]
    },
    {
      "cell_type": "code",
      "execution_count": null,
      "metadata": {
        "id": "7AOEBYhVlgPf"
      },
      "outputs": [],
      "source": [
        "con.sql('''\n",
        "create table catastro_bn as\n",
        "with aa as (\n",
        "SELECT cod_catastro, id_uso, id_subuso, id_estruc,id_esp1, id_esp2, id_esp3, id_esp4, id_esp5, id_esp6, uso_tierra, uso, subuso, estructura, cobertura, altura, tipo_fores, subtipofor, especi1_ci, especi2_ci, especi3_ci, especi4_ci, especi5_ci, especi6_ci, codreg, codprov, codcom, superf_ha,  geo_geom as geom FROM CL_NB_2015\n",
        "union\n",
        "SELECT cod_catastro, id_uso, id_subuso, id_estruc,id_esp1, id_esp2, id_esp3, id_esp4, id_esp5, id_esp6, uso_tierra, uso, subuso, estructura, cobertura, altura, tipo_fores, subtipofor, especi1_ci, especi2_ci, especi3_ci, especi4_ci, especi5_ci, especi6_ci, codreg, codprov, codcom, superf_ha,  geo_geom as geom FROM CL_AI_2011\n",
        "union\n",
        "SELECT cod_catastro, id_uso, id_subuso, id_estruc,id_esp1, id_esp2, id_esp3, id_esp4, id_esp5, id_esp6, uso_tierra, uso, subuso, estructura, cobertura, altura, tipo_fores, subtipofor, especi1_ci, especi2_ci, especi3_ci, especi4_ci, especi5_ci, especi6_ci, codreg, codprov, codcom, superf_ha,  geo_geom as geom FROM CL_AN_2019\n",
        "union\n",
        "SELECT cod_catastro, id_uso, id_subuso, id_estruc,id_esp1, id_esp2, id_esp3, id_esp4, id_esp5, id_esp6, uso_tierra, uso, subuso, estructura, cobertura, altura, tipo_fores, subtipofor, especi1_ci, especi2_ci, especi3_ci, especi4_ci, especi5_ci, especi6_ci, codreg, codprov, codcom, superf_ha,  geo_geom as geom FROM CL_AP_2015\n",
        "union\n",
        "SELECT cod_catastro, id_uso, id_subuso, id_estruc,id_esp1, id_esp2, id_esp3, id_esp4, id_esp5, id_esp6, uso_tierra, uso, subuso, estructura, cobertura, altura, tipo_fores, subtipofor, especi1_ci, especi2_ci, especi3_ci, especi4_ci, especi5_ci, especi6_ci, codreg, codprov, codcom, superf_ha,  geo_geom as geom FROM CL_AT_2018\n",
        "union\n",
        "SELECT cod_catastro, id_uso, id_subuso, id_estruc,id_esp1, id_esp2, id_esp3, id_esp4, id_esp5, id_esp6, uso_tierra, uso, subuso, estructura, cobertura, altura, tipo_fores, subtipofor, especi1_ci, especi2_ci, especi3_ci, especi4_ci, especi5_ci, especi6_ci, codreg, codprov, codcomun as codcom, superf_ha,  geo_geom as geom FROM CL_BI_2015\n",
        "union\n",
        "SELECT cod_catastro, id_uso, id_subuso, id_estruc,id_esp1, id_esp2, id_esp3, id_esp4, id_esp5, id_esp6, uso_tierra, uso, subuso, estructura, cobertura, altura, tipo_fores, subtipofor, especi1_ci, especi2_ci, especi3_ci, especi4_ci, especi5_ci, especi6_ci, codreg, codprov, codcom, superf_ha,  geo_geom as geom FROM CL_CO_2014\n",
        "union\n",
        "SELECT cod_catastro, id_uso, id_subuso, id_estruc,id_esp1, id_esp2, id_esp3, id_esp4, id_esp5, id_esp6, uso_tierr as uso_tierra, uso, subuso, estructura, cobertura, altura, tipo_fore as tipo_fores, subtipofo as subtipofor, especi1_ci, especi2_ci, especi3_ci, especi4_ci, especi5_ci, especi6_ci, codreg, codprov, codcom, superf_ha,  geo_geom as geom FROM CL_AR_2017\n",
        "union\n",
        "SELECT cod_catastro, id_uso, id_subuso, id_estruc,id_esp1, id_esp2, id_esp3, id_esp4, id_esp5, id_esp6, uso_tierra, uso, subuso, estructura, cobertura, altura, tipo_fores, subtipofor, especi1_ci, especi2_ci, especi3_ci, especi4_ci, especi5_ci, especi6_ci, codreg, codprov, codcom, superf_ha,  geo_geom as geom FROM CL_LI_2013\n",
        "union\n",
        "SELECT cod_catastro, id_uso, id_subuso, id_estruc,id_esp1, id_esp2, id_esp3, id_esp4, id_esp5, id_esp6, uso_tierra, uso, subuso, estructura, cobertura, altura, tipo_fores, subtipofor, especi1_ci, especi2_ci, especi3_ci, especi4_ci, especi5_ci, especi6_ci, codreg, codprov, codcom, superf_ha,  geo_geom as geom FROM CL_LL_2018\n",
        "union\n",
        "SELECT cod_catastro, id_uso, id_subuso, id_estruc,id_esp1, id_esp2, id_esp3, id_esp4, id_esp5, id_esp6, uso_tierra, uso, subuso, estructura, cobertura, altura, tipo_fores, subtipofor, especi1_ci, especi2_ci, especi3_ci, especi4_ci, especi5_ci, especi6_ci, codreg, codprov, codcom, superf_ha,  geo_geom as geom FROM CL_LR_2017\n",
        "union\n",
        "SELECT cod_catastro, id_uso, id_subuso, id_estruc,id_esp1, id_esp2, id_esp3, id_esp4, id_esp5, id_esp6, uso_tierra, uso, subuso, estructura, cobertura, altura, tipo_fores, subtipofor, especi1_ci, especi2_ci, especi3_ci, especi4_ci, especi5_ci, especi6_ci, codreg, codprov, codcom, superf_ha,  geo_geom as geom FROM CL_MA_2017\n",
        "union\n",
        "SELECT cod_catastro, id_uso, id_subuso, id_estruc,id_esp1, id_esp2, id_esp3, id_esp4, id_esp5, id_esp6, uso_tierra, uso, subuso, estructura, cobertura, altura, tipo_fores, subtipofor, especi1_ci, especi2_ci, especi3_ci, especi4_ci, especi5_ci, especi6_ci, codreg, codprov, codcom, superf_ha,  geo_geom as geom FROM CL_ML_2016\n",
        "union\n",
        "SELECT cod_catastro, id_uso, id_subuso, id_estruc,id_esp1, id_esp2, id_esp3, id_esp4, id_esp5, id_esp6, uso_tierra, uso, subuso, estructura, cobertura, altura, tipo_fores, subtipofor, especi1_ci, especi2_ci, especi3_ci, especi4_ci, especi5_ci, especi6_ci, codreg, codprov, codcom, superf_ha,  geo_geom as geom FROM CL_RM_2019\n",
        "union\n",
        "SELECT cod_catastro, id_uso, id_subuso, id_estruc,id_esp1, id_esp2, id_esp3, id_esp4, id_esp5, id_esp6, uso_tierra, uso, subuso, estructura, cobertura, altura, tipo_fores, subtipofor, especi1_ci, especi2_ci, especi3_ci, especi4_ci, especi5_ci, especi6_ci, codreg, codprov, codcom, superf_ha,  geo_geom as geom FROM CL_TA_2016\n",
        "union\n",
        "SELECT cod_catastro, id_uso, id_subuso, id_estruc,id_esp1, id_esp2, id_esp3, id_esp4, id_esp5, id_esp6, uso_tierra, uso, subuso, estructura, cobertura, altura, tipo_fores, subtipofor, especi1_ci, especi2_ci, especi3_ci, especi4_ci, especi5_ci, especi6_ci, codreg, codprov, codcom, superf_ha,  geo_geom as geom FROM CL_VS_2019\n",
        ")\n",
        "select *\n",
        "--cod_catastro,\n",
        "--count(*) as npolygon,\n",
        "--sum(superf_ha) as sup_c\n",
        "--sum(st_area(st_transform(geo_geom,'EPSG:4326','EPSG:32718'))/10000) as sup_g\n",
        "from aa\n",
        "--group by cod_catastro, id_uso, id_subuso, id_estruc,id_esp1, id_esp2, id_esp3, id_esp4, id_esp5, id_esp6\n",
        "''')\n"
      ]
    },
    {
      "cell_type": "code",
      "execution_count": null,
      "metadata": {
        "colab": {
          "background_save": true
        },
        "id": "RFDDnkWs_eRW"
      },
      "outputs": [],
      "source": [
        "con.sql('''\n",
        "copy\n",
        "(select cod_catastro, id_uso, id_subuso, id_estruc,id_esp1, id_esp2, id_esp3, id_esp4, id_esp5, id_esp6, uso_tierra, uso, subuso, estructura, cobertura, altura, tipo_fores, subtipofor, especi1_ci, especi2_ci, especi3_ci, especi4_ci, especi5_ci, especi6_ci, codreg, codprov, codcom, superf_ha, st_astext(geom) as wkt from catastro_bn)\n",
        " TO 'CAT_BN_RP.parquet' (FORMAT PARQUET)\n",
        " ''')"
      ]
    }
  ],
  "metadata": {
    "accelerator": "TPU",
    "colab": {
      "gpuType": "V28",
      "provenance": [],
      "mount_file_id": "11ncdfH7IfRj9bmiwg2WqybRGIm4-E5ee",
      "authorship_tag": "ABX9TyMumyVhF36Xq9yMPQ+dCZ2+",
      "include_colab_link": true
    },
    "kernelspec": {
      "display_name": "Python 3",
      "name": "python3"
    },
    "language_info": {
      "name": "python"
    },
    "widgets": {
      "application/vnd.jupyter.widget-state+json": {
        "6b3088cbf716444c8c372307150804c9": {
          "model_module": "@jupyter-widgets/controls",
          "model_name": "FloatProgressModel",
          "model_module_version": "1.5.0",
          "state": {
            "_dom_classes": [],
            "_model_module": "@jupyter-widgets/controls",
            "_model_module_version": "1.5.0",
            "_model_name": "FloatProgressModel",
            "_view_count": null,
            "_view_module": "@jupyter-widgets/controls",
            "_view_module_version": "1.5.0",
            "_view_name": "ProgressView",
            "bar_style": "",
            "description": "",
            "description_tooltip": null,
            "layout": "IPY_MODEL_1aaf77b2144444e39d0f4800ecd2fce8",
            "max": 100,
            "min": 0,
            "orientation": "horizontal",
            "style": "IPY_MODEL_a3be3aa8732b41499c68501372626b6e",
            "value": 100
          }
        },
        "1aaf77b2144444e39d0f4800ecd2fce8": {
          "model_module": "@jupyter-widgets/base",
          "model_name": "LayoutModel",
          "model_module_version": "1.2.0",
          "state": {
            "_model_module": "@jupyter-widgets/base",
            "_model_module_version": "1.2.0",
            "_model_name": "LayoutModel",
            "_view_count": null,
            "_view_module": "@jupyter-widgets/base",
            "_view_module_version": "1.2.0",
            "_view_name": "LayoutView",
            "align_content": null,
            "align_items": null,
            "align_self": null,
            "border": null,
            "bottom": null,
            "display": null,
            "flex": null,
            "flex_flow": null,
            "grid_area": null,
            "grid_auto_columns": null,
            "grid_auto_flow": null,
            "grid_auto_rows": null,
            "grid_column": null,
            "grid_gap": null,
            "grid_row": null,
            "grid_template_areas": null,
            "grid_template_columns": null,
            "grid_template_rows": null,
            "height": null,
            "justify_content": null,
            "justify_items": null,
            "left": null,
            "margin": null,
            "max_height": null,
            "max_width": null,
            "min_height": null,
            "min_width": null,
            "object_fit": null,
            "object_position": null,
            "order": null,
            "overflow": null,
            "overflow_x": null,
            "overflow_y": null,
            "padding": null,
            "right": null,
            "top": null,
            "visibility": null,
            "width": "auto"
          }
        },
        "a3be3aa8732b41499c68501372626b6e": {
          "model_module": "@jupyter-widgets/controls",
          "model_name": "ProgressStyleModel",
          "model_module_version": "1.5.0",
          "state": {
            "_model_module": "@jupyter-widgets/controls",
            "_model_module_version": "1.5.0",
            "_model_name": "ProgressStyleModel",
            "_view_count": null,
            "_view_module": "@jupyter-widgets/base",
            "_view_module_version": "1.2.0",
            "_view_name": "StyleView",
            "bar_color": "black",
            "description_width": ""
          }
        },
        "7b026fce135e43d58617c72c7eec542c": {
          "model_module": "@jupyter-widgets/base",
          "model_name": "LayoutModel",
          "model_module_version": "1.2.0",
          "state": {
            "_model_module": "@jupyter-widgets/base",
            "_model_module_version": "1.2.0",
            "_model_name": "LayoutModel",
            "_view_count": null,
            "_view_module": "@jupyter-widgets/base",
            "_view_module_version": "1.2.0",
            "_view_name": "LayoutView",
            "align_content": null,
            "align_items": null,
            "align_self": null,
            "border": null,
            "bottom": null,
            "display": null,
            "flex": null,
            "flex_flow": null,
            "grid_area": null,
            "grid_auto_columns": null,
            "grid_auto_flow": null,
            "grid_auto_rows": null,
            "grid_column": null,
            "grid_gap": null,
            "grid_row": null,
            "grid_template_areas": null,
            "grid_template_columns": null,
            "grid_template_rows": null,
            "height": null,
            "justify_content": null,
            "justify_items": null,
            "left": null,
            "margin": null,
            "max_height": null,
            "max_width": null,
            "min_height": null,
            "min_width": null,
            "object_fit": null,
            "object_position": null,
            "order": null,
            "overflow": null,
            "overflow_x": null,
            "overflow_y": null,
            "padding": null,
            "right": null,
            "top": null,
            "visibility": null,
            "width": "auto"
          }
        },
        "c7514068d9934b9cb2c8c8630b78c79a": {
          "model_module": "@jupyter-widgets/controls",
          "model_name": "ProgressStyleModel",
          "model_module_version": "1.5.0",
          "state": {
            "_model_module": "@jupyter-widgets/controls",
            "_model_module_version": "1.5.0",
            "_model_name": "ProgressStyleModel",
            "_view_count": null,
            "_view_module": "@jupyter-widgets/base",
            "_view_module_version": "1.2.0",
            "_view_name": "StyleView",
            "bar_color": "black",
            "description_width": ""
          }
        },
        "c78309ca4c9b4843b225e90ad7be95a7": {
          "model_module": "@jupyter-widgets/controls",
          "model_name": "FloatProgressModel",
          "model_module_version": "1.5.0",
          "state": {
            "_dom_classes": [],
            "_model_module": "@jupyter-widgets/controls",
            "_model_module_version": "1.5.0",
            "_model_name": "FloatProgressModel",
            "_view_count": null,
            "_view_module": "@jupyter-widgets/controls",
            "_view_module_version": "1.5.0",
            "_view_name": "ProgressView",
            "bar_style": "",
            "description": "",
            "description_tooltip": null,
            "layout": "IPY_MODEL_7b026fce135e43d58617c72c7eec542c",
            "max": 100,
            "min": 0,
            "orientation": "horizontal",
            "style": "IPY_MODEL_c7514068d9934b9cb2c8c8630b78c79a",
            "value": 100
          }
        },
        "907551cefa314d1cbd65856d65877011": {
          "model_module": "@jupyter-widgets/base",
          "model_name": "LayoutModel",
          "model_module_version": "1.2.0",
          "state": {
            "_model_module": "@jupyter-widgets/base",
            "_model_module_version": "1.2.0",
            "_model_name": "LayoutModel",
            "_view_count": null,
            "_view_module": "@jupyter-widgets/base",
            "_view_module_version": "1.2.0",
            "_view_name": "LayoutView",
            "align_content": null,
            "align_items": null,
            "align_self": null,
            "border": null,
            "bottom": null,
            "display": null,
            "flex": null,
            "flex_flow": null,
            "grid_area": null,
            "grid_auto_columns": null,
            "grid_auto_flow": null,
            "grid_auto_rows": null,
            "grid_column": null,
            "grid_gap": null,
            "grid_row": null,
            "grid_template_areas": null,
            "grid_template_columns": null,
            "grid_template_rows": null,
            "height": null,
            "justify_content": null,
            "justify_items": null,
            "left": null,
            "margin": null,
            "max_height": null,
            "max_width": null,
            "min_height": null,
            "min_width": null,
            "object_fit": null,
            "object_position": null,
            "order": null,
            "overflow": null,
            "overflow_x": null,
            "overflow_y": null,
            "padding": null,
            "right": null,
            "top": null,
            "visibility": null,
            "width": "auto"
          }
        },
        "eb40048b88734568b08fc66b2639fe77": {
          "model_module": "@jupyter-widgets/controls",
          "model_name": "ProgressStyleModel",
          "model_module_version": "1.5.0",
          "state": {
            "_model_module": "@jupyter-widgets/controls",
            "_model_module_version": "1.5.0",
            "_model_name": "ProgressStyleModel",
            "_view_count": null,
            "_view_module": "@jupyter-widgets/base",
            "_view_module_version": "1.2.0",
            "_view_name": "StyleView",
            "bar_color": "black",
            "description_width": ""
          }
        },
        "9adec29d68a642d5847db7f414532511": {
          "model_module": "@jupyter-widgets/controls",
          "model_name": "FloatProgressModel",
          "model_module_version": "1.5.0",
          "state": {
            "_dom_classes": [],
            "_model_module": "@jupyter-widgets/controls",
            "_model_module_version": "1.5.0",
            "_model_name": "FloatProgressModel",
            "_view_count": null,
            "_view_module": "@jupyter-widgets/controls",
            "_view_module_version": "1.5.0",
            "_view_name": "ProgressView",
            "bar_style": "",
            "description": "",
            "description_tooltip": null,
            "layout": "IPY_MODEL_907551cefa314d1cbd65856d65877011",
            "max": 100,
            "min": 0,
            "orientation": "horizontal",
            "style": "IPY_MODEL_eb40048b88734568b08fc66b2639fe77",
            "value": 100
          }
        },
        "5ac43914016e43b980d237ab79ad7515": {
          "model_module": "@jupyter-widgets/base",
          "model_name": "LayoutModel",
          "model_module_version": "1.2.0",
          "state": {
            "_model_module": "@jupyter-widgets/base",
            "_model_module_version": "1.2.0",
            "_model_name": "LayoutModel",
            "_view_count": null,
            "_view_module": "@jupyter-widgets/base",
            "_view_module_version": "1.2.0",
            "_view_name": "LayoutView",
            "align_content": null,
            "align_items": null,
            "align_self": null,
            "border": null,
            "bottom": null,
            "display": null,
            "flex": null,
            "flex_flow": null,
            "grid_area": null,
            "grid_auto_columns": null,
            "grid_auto_flow": null,
            "grid_auto_rows": null,
            "grid_column": null,
            "grid_gap": null,
            "grid_row": null,
            "grid_template_areas": null,
            "grid_template_columns": null,
            "grid_template_rows": null,
            "height": null,
            "justify_content": null,
            "justify_items": null,
            "left": null,
            "margin": null,
            "max_height": null,
            "max_width": null,
            "min_height": null,
            "min_width": null,
            "object_fit": null,
            "object_position": null,
            "order": null,
            "overflow": null,
            "overflow_x": null,
            "overflow_y": null,
            "padding": null,
            "right": null,
            "top": null,
            "visibility": null,
            "width": "auto"
          }
        },
        "3d98eba26d1448d598225f139c2c2514": {
          "model_module": "@jupyter-widgets/controls",
          "model_name": "ProgressStyleModel",
          "model_module_version": "1.5.0",
          "state": {
            "_model_module": "@jupyter-widgets/controls",
            "_model_module_version": "1.5.0",
            "_model_name": "ProgressStyleModel",
            "_view_count": null,
            "_view_module": "@jupyter-widgets/base",
            "_view_module_version": "1.2.0",
            "_view_name": "StyleView",
            "bar_color": "black",
            "description_width": ""
          }
        },
        "13947c6292c246ba9e81e41b65645e23": {
          "model_module": "@jupyter-widgets/controls",
          "model_name": "FloatProgressModel",
          "model_module_version": "1.5.0",
          "state": {
            "_dom_classes": [],
            "_model_module": "@jupyter-widgets/controls",
            "_model_module_version": "1.5.0",
            "_model_name": "FloatProgressModel",
            "_view_count": null,
            "_view_module": "@jupyter-widgets/controls",
            "_view_module_version": "1.5.0",
            "_view_name": "ProgressView",
            "bar_style": "",
            "description": "",
            "description_tooltip": null,
            "layout": "IPY_MODEL_5ac43914016e43b980d237ab79ad7515",
            "max": 100,
            "min": 0,
            "orientation": "horizontal",
            "style": "IPY_MODEL_3d98eba26d1448d598225f139c2c2514",
            "value": 100
          }
        },
        "d9f6461140c3443191b9b7e404973dea": {
          "model_module": "@jupyter-widgets/base",
          "model_name": "LayoutModel",
          "model_module_version": "1.2.0",
          "state": {
            "_model_module": "@jupyter-widgets/base",
            "_model_module_version": "1.2.0",
            "_model_name": "LayoutModel",
            "_view_count": null,
            "_view_module": "@jupyter-widgets/base",
            "_view_module_version": "1.2.0",
            "_view_name": "LayoutView",
            "align_content": null,
            "align_items": null,
            "align_self": null,
            "border": null,
            "bottom": null,
            "display": null,
            "flex": null,
            "flex_flow": null,
            "grid_area": null,
            "grid_auto_columns": null,
            "grid_auto_flow": null,
            "grid_auto_rows": null,
            "grid_column": null,
            "grid_gap": null,
            "grid_row": null,
            "grid_template_areas": null,
            "grid_template_columns": null,
            "grid_template_rows": null,
            "height": null,
            "justify_content": null,
            "justify_items": null,
            "left": null,
            "margin": null,
            "max_height": null,
            "max_width": null,
            "min_height": null,
            "min_width": null,
            "object_fit": null,
            "object_position": null,
            "order": null,
            "overflow": null,
            "overflow_x": null,
            "overflow_y": null,
            "padding": null,
            "right": null,
            "top": null,
            "visibility": null,
            "width": "auto"
          }
        },
        "ab6fa198477243609eab55d44baa73ae": {
          "model_module": "@jupyter-widgets/controls",
          "model_name": "ProgressStyleModel",
          "model_module_version": "1.5.0",
          "state": {
            "_model_module": "@jupyter-widgets/controls",
            "_model_module_version": "1.5.0",
            "_model_name": "ProgressStyleModel",
            "_view_count": null,
            "_view_module": "@jupyter-widgets/base",
            "_view_module_version": "1.2.0",
            "_view_name": "StyleView",
            "bar_color": "black",
            "description_width": ""
          }
        },
        "ed82ef8038b34985889f645144c39151": {
          "model_module": "@jupyter-widgets/controls",
          "model_name": "FloatProgressModel",
          "model_module_version": "1.5.0",
          "state": {
            "_dom_classes": [],
            "_model_module": "@jupyter-widgets/controls",
            "_model_module_version": "1.5.0",
            "_model_name": "FloatProgressModel",
            "_view_count": null,
            "_view_module": "@jupyter-widgets/controls",
            "_view_module_version": "1.5.0",
            "_view_name": "ProgressView",
            "bar_style": "",
            "description": "",
            "description_tooltip": null,
            "layout": "IPY_MODEL_d9f6461140c3443191b9b7e404973dea",
            "max": 100,
            "min": 0,
            "orientation": "horizontal",
            "style": "IPY_MODEL_ab6fa198477243609eab55d44baa73ae",
            "value": 100
          }
        },
        "9ddb6b00dbb546a3ab0979f21b06a06c": {
          "model_module": "@jupyter-widgets/base",
          "model_name": "LayoutModel",
          "model_module_version": "1.2.0",
          "state": {
            "_model_module": "@jupyter-widgets/base",
            "_model_module_version": "1.2.0",
            "_model_name": "LayoutModel",
            "_view_count": null,
            "_view_module": "@jupyter-widgets/base",
            "_view_module_version": "1.2.0",
            "_view_name": "LayoutView",
            "align_content": null,
            "align_items": null,
            "align_self": null,
            "border": null,
            "bottom": null,
            "display": null,
            "flex": null,
            "flex_flow": null,
            "grid_area": null,
            "grid_auto_columns": null,
            "grid_auto_flow": null,
            "grid_auto_rows": null,
            "grid_column": null,
            "grid_gap": null,
            "grid_row": null,
            "grid_template_areas": null,
            "grid_template_columns": null,
            "grid_template_rows": null,
            "height": null,
            "justify_content": null,
            "justify_items": null,
            "left": null,
            "margin": null,
            "max_height": null,
            "max_width": null,
            "min_height": null,
            "min_width": null,
            "object_fit": null,
            "object_position": null,
            "order": null,
            "overflow": null,
            "overflow_x": null,
            "overflow_y": null,
            "padding": null,
            "right": null,
            "top": null,
            "visibility": null,
            "width": "auto"
          }
        },
        "9a243113d4f444ce8297691de448dfc7": {
          "model_module": "@jupyter-widgets/controls",
          "model_name": "ProgressStyleModel",
          "model_module_version": "1.5.0",
          "state": {
            "_model_module": "@jupyter-widgets/controls",
            "_model_module_version": "1.5.0",
            "_model_name": "ProgressStyleModel",
            "_view_count": null,
            "_view_module": "@jupyter-widgets/base",
            "_view_module_version": "1.2.0",
            "_view_name": "StyleView",
            "bar_color": "black",
            "description_width": ""
          }
        },
        "3fcd2407457e4ea1bbab512633df6f0d": {
          "model_module": "@jupyter-widgets/controls",
          "model_name": "FloatProgressModel",
          "model_module_version": "1.5.0",
          "state": {
            "_dom_classes": [],
            "_model_module": "@jupyter-widgets/controls",
            "_model_module_version": "1.5.0",
            "_model_name": "FloatProgressModel",
            "_view_count": null,
            "_view_module": "@jupyter-widgets/controls",
            "_view_module_version": "1.5.0",
            "_view_name": "ProgressView",
            "bar_style": "",
            "description": "",
            "description_tooltip": null,
            "layout": "IPY_MODEL_9ddb6b00dbb546a3ab0979f21b06a06c",
            "max": 100,
            "min": 0,
            "orientation": "horizontal",
            "style": "IPY_MODEL_9a243113d4f444ce8297691de448dfc7",
            "value": 100
          }
        },
        "74e047667a224dc0bb2a6e747a7301ec": {
          "model_module": "@jupyter-widgets/base",
          "model_name": "LayoutModel",
          "model_module_version": "1.2.0",
          "state": {
            "_model_module": "@jupyter-widgets/base",
            "_model_module_version": "1.2.0",
            "_model_name": "LayoutModel",
            "_view_count": null,
            "_view_module": "@jupyter-widgets/base",
            "_view_module_version": "1.2.0",
            "_view_name": "LayoutView",
            "align_content": null,
            "align_items": null,
            "align_self": null,
            "border": null,
            "bottom": null,
            "display": null,
            "flex": null,
            "flex_flow": null,
            "grid_area": null,
            "grid_auto_columns": null,
            "grid_auto_flow": null,
            "grid_auto_rows": null,
            "grid_column": null,
            "grid_gap": null,
            "grid_row": null,
            "grid_template_areas": null,
            "grid_template_columns": null,
            "grid_template_rows": null,
            "height": null,
            "justify_content": null,
            "justify_items": null,
            "left": null,
            "margin": null,
            "max_height": null,
            "max_width": null,
            "min_height": null,
            "min_width": null,
            "object_fit": null,
            "object_position": null,
            "order": null,
            "overflow": null,
            "overflow_x": null,
            "overflow_y": null,
            "padding": null,
            "right": null,
            "top": null,
            "visibility": null,
            "width": "auto"
          }
        },
        "677b515d11b44e3fafd3b1965927cc48": {
          "model_module": "@jupyter-widgets/controls",
          "model_name": "ProgressStyleModel",
          "model_module_version": "1.5.0",
          "state": {
            "_model_module": "@jupyter-widgets/controls",
            "_model_module_version": "1.5.0",
            "_model_name": "ProgressStyleModel",
            "_view_count": null,
            "_view_module": "@jupyter-widgets/base",
            "_view_module_version": "1.2.0",
            "_view_name": "StyleView",
            "bar_color": "black",
            "description_width": ""
          }
        },
        "7497b36366024b55a82ba305052c465e": {
          "model_module": "@jupyter-widgets/controls",
          "model_name": "FloatProgressModel",
          "model_module_version": "1.5.0",
          "state": {
            "_dom_classes": [],
            "_model_module": "@jupyter-widgets/controls",
            "_model_module_version": "1.5.0",
            "_model_name": "FloatProgressModel",
            "_view_count": null,
            "_view_module": "@jupyter-widgets/controls",
            "_view_module_version": "1.5.0",
            "_view_name": "ProgressView",
            "bar_style": "",
            "description": "",
            "description_tooltip": null,
            "layout": "IPY_MODEL_74e047667a224dc0bb2a6e747a7301ec",
            "max": 100,
            "min": 0,
            "orientation": "horizontal",
            "style": "IPY_MODEL_677b515d11b44e3fafd3b1965927cc48",
            "value": 100
          }
        },
        "ba82be54ced64be694be9e2fd5f477d7": {
          "model_module": "@jupyter-widgets/base",
          "model_name": "LayoutModel",
          "model_module_version": "1.2.0",
          "state": {
            "_model_module": "@jupyter-widgets/base",
            "_model_module_version": "1.2.0",
            "_model_name": "LayoutModel",
            "_view_count": null,
            "_view_module": "@jupyter-widgets/base",
            "_view_module_version": "1.2.0",
            "_view_name": "LayoutView",
            "align_content": null,
            "align_items": null,
            "align_self": null,
            "border": null,
            "bottom": null,
            "display": null,
            "flex": null,
            "flex_flow": null,
            "grid_area": null,
            "grid_auto_columns": null,
            "grid_auto_flow": null,
            "grid_auto_rows": null,
            "grid_column": null,
            "grid_gap": null,
            "grid_row": null,
            "grid_template_areas": null,
            "grid_template_columns": null,
            "grid_template_rows": null,
            "height": null,
            "justify_content": null,
            "justify_items": null,
            "left": null,
            "margin": null,
            "max_height": null,
            "max_width": null,
            "min_height": null,
            "min_width": null,
            "object_fit": null,
            "object_position": null,
            "order": null,
            "overflow": null,
            "overflow_x": null,
            "overflow_y": null,
            "padding": null,
            "right": null,
            "top": null,
            "visibility": null,
            "width": "auto"
          }
        },
        "6203ff989e1f4605ac1021e16b5db9a3": {
          "model_module": "@jupyter-widgets/controls",
          "model_name": "ProgressStyleModel",
          "model_module_version": "1.5.0",
          "state": {
            "_model_module": "@jupyter-widgets/controls",
            "_model_module_version": "1.5.0",
            "_model_name": "ProgressStyleModel",
            "_view_count": null,
            "_view_module": "@jupyter-widgets/base",
            "_view_module_version": "1.2.0",
            "_view_name": "StyleView",
            "bar_color": "black",
            "description_width": ""
          }
        },
        "2e8aac0548404239ac66503edb930ca8": {
          "model_module": "@jupyter-widgets/controls",
          "model_name": "FloatProgressModel",
          "model_module_version": "1.5.0",
          "state": {
            "_dom_classes": [],
            "_model_module": "@jupyter-widgets/controls",
            "_model_module_version": "1.5.0",
            "_model_name": "FloatProgressModel",
            "_view_count": null,
            "_view_module": "@jupyter-widgets/controls",
            "_view_module_version": "1.5.0",
            "_view_name": "ProgressView",
            "bar_style": "",
            "description": "",
            "description_tooltip": null,
            "layout": "IPY_MODEL_ba82be54ced64be694be9e2fd5f477d7",
            "max": 100,
            "min": 0,
            "orientation": "horizontal",
            "style": "IPY_MODEL_6203ff989e1f4605ac1021e16b5db9a3",
            "value": 100
          }
        }
      }
    }
  },
  "nbformat": 4,
  "nbformat_minor": 0
}