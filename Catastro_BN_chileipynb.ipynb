{
  "cells": [
    {
      "cell_type": "markdown",
      "metadata": {
        "id": "view-in-github",
        "colab_type": "text"
      },
      "source": [
        "<a href=\"https://colab.research.google.com/github/rauledop1/TEWS/blob/main/Catastro_BN_chileipynb.ipynb\" target=\"_parent\"><img src=\"https://colab.research.google.com/assets/colab-badge.svg\" alt=\"Open In Colab\"/></a>"
      ]
    },
    {
      "cell_type": "code",
      "execution_count": 12,
      "metadata": {
        "colab": {
          "base_uri": "https://localhost:8080/"
        },
        "id": "GnlTVZ4RhLjQ",
        "outputId": "45c27f86-ad8b-4c52-ed01-58330e168bcd"
      },
      "outputs": [
        {
          "output_type": "stream",
          "name": "stdout",
          "text": [
            "Requirement already satisfied: leafmap in /usr/local/lib/python3.10/dist-packages (0.38.0)\n",
            "Requirement already satisfied: rarfile in /usr/local/lib/python3.10/dist-packages (4.2)\n",
            "Requirement already satisfied: lonboard in /usr/local/lib/python3.10/dist-packages (0.9.3)\n",
            "Requirement already satisfied: anywidget>=0.9.13 in /usr/local/lib/python3.10/dist-packages (from leafmap) (0.9.13)\n",
            "Requirement already satisfied: bqplot>=0.12.43 in /usr/local/lib/python3.10/dist-packages (from leafmap) (0.12.43)\n",
            "Requirement already satisfied: colour>=0.1.5 in /usr/local/lib/python3.10/dist-packages (from leafmap) (0.1.5)\n",
            "Requirement already satisfied: folium>=0.14.0 in /usr/local/lib/python3.10/dist-packages (from leafmap) (0.17.0)\n",
            "Requirement already satisfied: gdown>=5.1.0 in /usr/local/lib/python3.10/dist-packages (from leafmap) (5.2.0)\n",
            "Requirement already satisfied: geojson>=3.1.0 in /usr/local/lib/python3.10/dist-packages (from leafmap) (3.1.0)\n",
            "Requirement already satisfied: ipyevents>=2.0.2 in /usr/local/lib/python3.10/dist-packages (from leafmap) (2.0.2)\n",
            "Requirement already satisfied: ipyfilechooser>=0.6.0 in /usr/local/lib/python3.10/dist-packages (from leafmap) (0.6.0)\n",
            "Requirement already satisfied: ipyleaflet>=0.18.2 in /usr/local/lib/python3.10/dist-packages (from leafmap) (0.19.2)\n",
            "Requirement already satisfied: ipyvuetify>=1.9.4 in /usr/local/lib/python3.10/dist-packages (from leafmap) (1.10.0)\n",
            "Requirement already satisfied: ipywidgets>=7.6.0 in /usr/local/lib/python3.10/dist-packages (from leafmap) (7.7.1)\n",
            "Requirement already satisfied: matplotlib>=3.7.1 in /usr/local/lib/python3.10/dist-packages (from leafmap) (3.7.1)\n",
            "Requirement already satisfied: numpy<3.0.0,>=1.25.0 in /usr/local/lib/python3.10/dist-packages (from leafmap) (1.26.4)\n",
            "Requirement already satisfied: pandas>=2.0.3 in /usr/local/lib/python3.10/dist-packages (from leafmap) (2.1.4)\n",
            "Requirement already satisfied: plotly>=5.15.0 in /usr/local/lib/python3.10/dist-packages (from leafmap) (5.24.1)\n",
            "Requirement already satisfied: pyshp>=2.3.1 in /usr/local/lib/python3.10/dist-packages (from leafmap) (2.3.1)\n",
            "Requirement already satisfied: pystac-client>=0.8.2 in /usr/local/lib/python3.10/dist-packages (from leafmap) (0.8.3)\n",
            "Requirement already satisfied: python-box>=7.2.0 in /usr/local/lib/python3.10/dist-packages (from leafmap) (7.2.0)\n",
            "Requirement already satisfied: scooby>=0.10.0 in /usr/local/lib/python3.10/dist-packages (from leafmap) (0.10.0)\n",
            "Requirement already satisfied: setuptools>=71.0.4 in /usr/local/lib/python3.10/dist-packages (from leafmap) (71.0.4)\n",
            "Requirement already satisfied: whiteboxgui>=2.3.0 in /usr/local/lib/python3.10/dist-packages (from leafmap) (2.3.0)\n",
            "Requirement already satisfied: xyzservices>=2024.6.0 in /usr/local/lib/python3.10/dist-packages (from leafmap) (2024.9.0)\n",
            "Requirement already satisfied: duckdb>=0.10.3 in /usr/local/lib/python3.10/dist-packages (from leafmap) (1.1.1)\n",
            "Requirement already satisfied: geopandas>=0.13 in /usr/local/lib/python3.10/dist-packages (from lonboard) (1.0.1)\n",
            "Requirement already satisfied: palettable<4.0.0,>=3.3.3 in /usr/local/lib/python3.10/dist-packages (from lonboard) (3.3.3)\n",
            "Requirement already satisfied: pyarrow>=14.0.1 in /usr/local/lib/python3.10/dist-packages (from lonboard) (17.0.0)\n",
            "Requirement already satisfied: shapely<3,>=2 in /usr/local/lib/python3.10/dist-packages (from lonboard) (2.0.6)\n",
            "Requirement already satisfied: typing-extensions<5.0.0,>=4.6.0 in /usr/local/lib/python3.10/dist-packages (from lonboard) (4.12.2)\n",
            "Requirement already satisfied: psygnal>=0.8.1 in /usr/local/lib/python3.10/dist-packages (from anywidget>=0.9.13->leafmap) (0.11.1)\n",
            "Requirement already satisfied: traitlets>=4.3.0 in /usr/local/lib/python3.10/dist-packages (from bqplot>=0.12.43->leafmap) (5.7.1)\n",
            "Requirement already satisfied: traittypes>=0.0.6 in /usr/local/lib/python3.10/dist-packages (from bqplot>=0.12.43->leafmap) (0.2.1)\n",
            "Requirement already satisfied: branca>=0.6.0 in /usr/local/lib/python3.10/dist-packages (from folium>=0.14.0->leafmap) (0.7.2)\n",
            "Requirement already satisfied: jinja2>=2.9 in /usr/local/lib/python3.10/dist-packages (from folium>=0.14.0->leafmap) (3.1.4)\n",
            "Requirement already satisfied: requests in /usr/local/lib/python3.10/dist-packages (from folium>=0.14.0->leafmap) (2.32.3)\n",
            "Requirement already satisfied: beautifulsoup4 in /usr/local/lib/python3.10/dist-packages (from gdown>=5.1.0->leafmap) (4.12.3)\n",
            "Requirement already satisfied: filelock in /usr/local/lib/python3.10/dist-packages (from gdown>=5.1.0->leafmap) (3.16.1)\n",
            "Requirement already satisfied: tqdm in /usr/local/lib/python3.10/dist-packages (from gdown>=5.1.0->leafmap) (4.66.5)\n",
            "Requirement already satisfied: pyogrio>=0.7.2 in /usr/local/lib/python3.10/dist-packages (from geopandas>=0.13->lonboard) (0.9.0)\n",
            "Requirement already satisfied: packaging in /usr/local/lib/python3.10/dist-packages (from geopandas>=0.13->lonboard) (24.1)\n",
            "Requirement already satisfied: pyproj>=3.3.0 in /usr/local/lib/python3.10/dist-packages (from geopandas>=0.13->lonboard) (3.6.1)\n",
            "Requirement already satisfied: jupyter-leaflet<0.20,>=0.19 in /usr/local/lib/python3.10/dist-packages (from ipyleaflet>=0.18.2->leafmap) (0.19.2)\n",
            "Requirement already satisfied: ipyvue<2,>=1.7 in /usr/local/lib/python3.10/dist-packages (from ipyvuetify>=1.9.4->leafmap) (1.11.1)\n",
            "Requirement already satisfied: ipykernel>=4.5.1 in /usr/local/lib/python3.10/dist-packages (from ipywidgets>=7.6.0->leafmap) (5.5.6)\n",
            "Requirement already satisfied: ipython-genutils~=0.2.0 in /usr/local/lib/python3.10/dist-packages (from ipywidgets>=7.6.0->leafmap) (0.2.0)\n",
            "Requirement already satisfied: widgetsnbextension~=3.6.0 in /usr/local/lib/python3.10/dist-packages (from ipywidgets>=7.6.0->leafmap) (3.6.9)\n",
            "Requirement already satisfied: ipython>=4.0.0 in /usr/local/lib/python3.10/dist-packages (from ipywidgets>=7.6.0->leafmap) (7.34.0)\n",
            "Requirement already satisfied: jupyterlab-widgets>=1.0.0 in /usr/local/lib/python3.10/dist-packages (from ipywidgets>=7.6.0->leafmap) (3.0.13)\n",
            "Requirement already satisfied: contourpy>=1.0.1 in /usr/local/lib/python3.10/dist-packages (from matplotlib>=3.7.1->leafmap) (1.3.0)\n",
            "Requirement already satisfied: cycler>=0.10 in /usr/local/lib/python3.10/dist-packages (from matplotlib>=3.7.1->leafmap) (0.12.1)\n",
            "Requirement already satisfied: fonttools>=4.22.0 in /usr/local/lib/python3.10/dist-packages (from matplotlib>=3.7.1->leafmap) (4.53.1)\n",
            "Requirement already satisfied: kiwisolver>=1.0.1 in /usr/local/lib/python3.10/dist-packages (from matplotlib>=3.7.1->leafmap) (1.4.7)\n",
            "Requirement already satisfied: pillow>=6.2.0 in /usr/local/lib/python3.10/dist-packages (from matplotlib>=3.7.1->leafmap) (10.4.0)\n",
            "Requirement already satisfied: pyparsing>=2.3.1 in /usr/local/lib/python3.10/dist-packages (from matplotlib>=3.7.1->leafmap) (3.1.4)\n",
            "Requirement already satisfied: python-dateutil>=2.7 in /usr/local/lib/python3.10/dist-packages (from matplotlib>=3.7.1->leafmap) (2.9.0.post0)\n",
            "Requirement already satisfied: pytz>=2020.1 in /usr/local/lib/python3.10/dist-packages (from pandas>=2.0.3->leafmap) (2024.2)\n",
            "Requirement already satisfied: tzdata>=2022.1 in /usr/local/lib/python3.10/dist-packages (from pandas>=2.0.3->leafmap) (2024.1)\n",
            "Requirement already satisfied: tenacity>=6.2.0 in /usr/local/lib/python3.10/dist-packages (from plotly>=5.15.0->leafmap) (9.0.0)\n",
            "Requirement already satisfied: pystac>=1.10.0 in /usr/local/lib/python3.10/dist-packages (from pystac[validation]>=1.10.0->pystac-client>=0.8.2->leafmap) (1.10.1)\n",
            "Requirement already satisfied: ipytree in /usr/local/lib/python3.10/dist-packages (from whiteboxgui>=2.3.0->leafmap) (0.2.2)\n",
            "Requirement already satisfied: whitebox in /usr/local/lib/python3.10/dist-packages (from whiteboxgui>=2.3.0->leafmap) (2.3.5)\n",
            "Requirement already satisfied: jupyter-client in /usr/local/lib/python3.10/dist-packages (from ipykernel>=4.5.1->ipywidgets>=7.6.0->leafmap) (6.1.12)\n",
            "Requirement already satisfied: tornado>=4.2 in /usr/local/lib/python3.10/dist-packages (from ipykernel>=4.5.1->ipywidgets>=7.6.0->leafmap) (6.3.3)\n",
            "Requirement already satisfied: jedi>=0.16 in /usr/local/lib/python3.10/dist-packages (from ipython>=4.0.0->ipywidgets>=7.6.0->leafmap) (0.19.1)\n",
            "Requirement already satisfied: decorator in /usr/local/lib/python3.10/dist-packages (from ipython>=4.0.0->ipywidgets>=7.6.0->leafmap) (5.1.1)\n",
            "Requirement already satisfied: pickleshare in /usr/local/lib/python3.10/dist-packages (from ipython>=4.0.0->ipywidgets>=7.6.0->leafmap) (0.7.5)\n",
            "Requirement already satisfied: prompt-toolkit!=3.0.0,!=3.0.1,<3.1.0,>=2.0.0 in /usr/local/lib/python3.10/dist-packages (from ipython>=4.0.0->ipywidgets>=7.6.0->leafmap) (3.0.47)\n",
            "Requirement already satisfied: pygments in /usr/local/lib/python3.10/dist-packages (from ipython>=4.0.0->ipywidgets>=7.6.0->leafmap) (2.18.0)\n",
            "Requirement already satisfied: backcall in /usr/local/lib/python3.10/dist-packages (from ipython>=4.0.0->ipywidgets>=7.6.0->leafmap) (0.2.0)\n",
            "Requirement already satisfied: matplotlib-inline in /usr/local/lib/python3.10/dist-packages (from ipython>=4.0.0->ipywidgets>=7.6.0->leafmap) (0.1.7)\n",
            "Requirement already satisfied: pexpect>4.3 in /usr/local/lib/python3.10/dist-packages (from ipython>=4.0.0->ipywidgets>=7.6.0->leafmap) (4.9.0)\n",
            "Requirement already satisfied: MarkupSafe>=2.0 in /usr/local/lib/python3.10/dist-packages (from jinja2>=2.9->folium>=0.14.0->leafmap) (2.1.5)\n",
            "Requirement already satisfied: certifi in /usr/local/lib/python3.10/dist-packages (from pyogrio>=0.7.2->geopandas>=0.13->lonboard) (2024.8.30)\n",
            "Requirement already satisfied: jsonschema~=4.18 in /usr/local/lib/python3.10/dist-packages (from pystac[validation]>=1.10.0->pystac-client>=0.8.2->leafmap) (4.23.0)\n",
            "Requirement already satisfied: six>=1.5 in /usr/local/lib/python3.10/dist-packages (from python-dateutil>=2.7->matplotlib>=3.7.1->leafmap) (1.16.0)\n",
            "Requirement already satisfied: charset-normalizer<4,>=2 in /usr/local/lib/python3.10/dist-packages (from requests->folium>=0.14.0->leafmap) (3.3.2)\n",
            "Requirement already satisfied: idna<4,>=2.5 in /usr/local/lib/python3.10/dist-packages (from requests->folium>=0.14.0->leafmap) (3.10)\n",
            "Requirement already satisfied: urllib3<3,>=1.21.1 in /usr/local/lib/python3.10/dist-packages (from requests->folium>=0.14.0->leafmap) (2.2.3)\n",
            "Requirement already satisfied: notebook>=4.4.1 in /usr/local/lib/python3.10/dist-packages (from widgetsnbextension~=3.6.0->ipywidgets>=7.6.0->leafmap) (6.5.5)\n",
            "Requirement already satisfied: soupsieve>1.2 in /usr/local/lib/python3.10/dist-packages (from beautifulsoup4->gdown>=5.1.0->leafmap) (2.6)\n",
            "Requirement already satisfied: PySocks!=1.5.7,>=1.5.6 in /usr/local/lib/python3.10/dist-packages (from requests[socks]->gdown>=5.1.0->leafmap) (1.7.1)\n",
            "Requirement already satisfied: Click>=6.0 in /usr/local/lib/python3.10/dist-packages (from whitebox->whiteboxgui>=2.3.0->leafmap) (8.1.7)\n",
            "Requirement already satisfied: parso<0.9.0,>=0.8.3 in /usr/local/lib/python3.10/dist-packages (from jedi>=0.16->ipython>=4.0.0->ipywidgets>=7.6.0->leafmap) (0.8.4)\n",
            "Requirement already satisfied: attrs>=22.2.0 in /usr/local/lib/python3.10/dist-packages (from jsonschema~=4.18->pystac[validation]>=1.10.0->pystac-client>=0.8.2->leafmap) (24.2.0)\n",
            "Requirement already satisfied: jsonschema-specifications>=2023.03.6 in /usr/local/lib/python3.10/dist-packages (from jsonschema~=4.18->pystac[validation]>=1.10.0->pystac-client>=0.8.2->leafmap) (2023.12.1)\n",
            "Requirement already satisfied: referencing>=0.28.4 in /usr/local/lib/python3.10/dist-packages (from jsonschema~=4.18->pystac[validation]>=1.10.0->pystac-client>=0.8.2->leafmap) (0.35.1)\n",
            "Requirement already satisfied: rpds-py>=0.7.1 in /usr/local/lib/python3.10/dist-packages (from jsonschema~=4.18->pystac[validation]>=1.10.0->pystac-client>=0.8.2->leafmap) (0.20.0)\n",
            "Requirement already satisfied: pyzmq<25,>=17 in /usr/local/lib/python3.10/dist-packages (from notebook>=4.4.1->widgetsnbextension~=3.6.0->ipywidgets>=7.6.0->leafmap) (24.0.1)\n",
            "Requirement already satisfied: argon2-cffi in /usr/local/lib/python3.10/dist-packages (from notebook>=4.4.1->widgetsnbextension~=3.6.0->ipywidgets>=7.6.0->leafmap) (23.1.0)\n",
            "Requirement already satisfied: jupyter-core>=4.6.1 in /usr/local/lib/python3.10/dist-packages (from notebook>=4.4.1->widgetsnbextension~=3.6.0->ipywidgets>=7.6.0->leafmap) (5.7.2)\n",
            "Requirement already satisfied: nbformat in /usr/local/lib/python3.10/dist-packages (from notebook>=4.4.1->widgetsnbextension~=3.6.0->ipywidgets>=7.6.0->leafmap) (5.10.4)\n",
            "Requirement already satisfied: nbconvert>=5 in /usr/local/lib/python3.10/dist-packages (from notebook>=4.4.1->widgetsnbextension~=3.6.0->ipywidgets>=7.6.0->leafmap) (7.16.4)\n",
            "Requirement already satisfied: nest-asyncio>=1.5 in /usr/local/lib/python3.10/dist-packages (from notebook>=4.4.1->widgetsnbextension~=3.6.0->ipywidgets>=7.6.0->leafmap) (1.6.0)\n",
            "Requirement already satisfied: Send2Trash>=1.8.0 in /usr/local/lib/python3.10/dist-packages (from notebook>=4.4.1->widgetsnbextension~=3.6.0->ipywidgets>=7.6.0->leafmap) (1.8.3)\n",
            "Requirement already satisfied: terminado>=0.8.3 in /usr/local/lib/python3.10/dist-packages (from notebook>=4.4.1->widgetsnbextension~=3.6.0->ipywidgets>=7.6.0->leafmap) (0.18.1)\n",
            "Requirement already satisfied: prometheus-client in /usr/local/lib/python3.10/dist-packages (from notebook>=4.4.1->widgetsnbextension~=3.6.0->ipywidgets>=7.6.0->leafmap) (0.21.0)\n",
            "Requirement already satisfied: nbclassic>=0.4.7 in /usr/local/lib/python3.10/dist-packages (from notebook>=4.4.1->widgetsnbextension~=3.6.0->ipywidgets>=7.6.0->leafmap) (1.1.0)\n",
            "Requirement already satisfied: ptyprocess>=0.5 in /usr/local/lib/python3.10/dist-packages (from pexpect>4.3->ipython>=4.0.0->ipywidgets>=7.6.0->leafmap) (0.7.0)\n",
            "Requirement already satisfied: wcwidth in /usr/local/lib/python3.10/dist-packages (from prompt-toolkit!=3.0.0,!=3.0.1,<3.1.0,>=2.0.0->ipython>=4.0.0->ipywidgets>=7.6.0->leafmap) (0.2.13)\n",
            "Requirement already satisfied: platformdirs>=2.5 in /usr/local/lib/python3.10/dist-packages (from jupyter-core>=4.6.1->notebook>=4.4.1->widgetsnbextension~=3.6.0->ipywidgets>=7.6.0->leafmap) (4.3.6)\n",
            "Requirement already satisfied: notebook-shim>=0.2.3 in /usr/local/lib/python3.10/dist-packages (from nbclassic>=0.4.7->notebook>=4.4.1->widgetsnbextension~=3.6.0->ipywidgets>=7.6.0->leafmap) (0.2.4)\n",
            "Requirement already satisfied: bleach!=5.0.0 in /usr/local/lib/python3.10/dist-packages (from nbconvert>=5->notebook>=4.4.1->widgetsnbextension~=3.6.0->ipywidgets>=7.6.0->leafmap) (6.1.0)\n",
            "Requirement already satisfied: defusedxml in /usr/local/lib/python3.10/dist-packages (from nbconvert>=5->notebook>=4.4.1->widgetsnbextension~=3.6.0->ipywidgets>=7.6.0->leafmap) (0.7.1)\n",
            "Requirement already satisfied: jupyterlab-pygments in /usr/local/lib/python3.10/dist-packages (from nbconvert>=5->notebook>=4.4.1->widgetsnbextension~=3.6.0->ipywidgets>=7.6.0->leafmap) (0.3.0)\n",
            "Requirement already satisfied: mistune<4,>=2.0.3 in /usr/local/lib/python3.10/dist-packages (from nbconvert>=5->notebook>=4.4.1->widgetsnbextension~=3.6.0->ipywidgets>=7.6.0->leafmap) (3.0.2)\n",
            "Requirement already satisfied: nbclient>=0.5.0 in /usr/local/lib/python3.10/dist-packages (from nbconvert>=5->notebook>=4.4.1->widgetsnbextension~=3.6.0->ipywidgets>=7.6.0->leafmap) (0.10.0)\n",
            "Requirement already satisfied: pandocfilters>=1.4.1 in /usr/local/lib/python3.10/dist-packages (from nbconvert>=5->notebook>=4.4.1->widgetsnbextension~=3.6.0->ipywidgets>=7.6.0->leafmap) (1.5.1)\n",
            "Requirement already satisfied: tinycss2 in /usr/local/lib/python3.10/dist-packages (from nbconvert>=5->notebook>=4.4.1->widgetsnbextension~=3.6.0->ipywidgets>=7.6.0->leafmap) (1.3.0)\n",
            "Requirement already satisfied: fastjsonschema>=2.15 in /usr/local/lib/python3.10/dist-packages (from nbformat->notebook>=4.4.1->widgetsnbextension~=3.6.0->ipywidgets>=7.6.0->leafmap) (2.20.0)\n",
            "Requirement already satisfied: argon2-cffi-bindings in /usr/local/lib/python3.10/dist-packages (from argon2-cffi->notebook>=4.4.1->widgetsnbextension~=3.6.0->ipywidgets>=7.6.0->leafmap) (21.2.0)\n",
            "Requirement already satisfied: webencodings in /usr/local/lib/python3.10/dist-packages (from bleach!=5.0.0->nbconvert>=5->notebook>=4.4.1->widgetsnbextension~=3.6.0->ipywidgets>=7.6.0->leafmap) (0.5.1)\n",
            "Requirement already satisfied: jupyter-server<3,>=1.8 in /usr/local/lib/python3.10/dist-packages (from notebook-shim>=0.2.3->nbclassic>=0.4.7->notebook>=4.4.1->widgetsnbextension~=3.6.0->ipywidgets>=7.6.0->leafmap) (1.24.0)\n",
            "Requirement already satisfied: cffi>=1.0.1 in /usr/local/lib/python3.10/dist-packages (from argon2-cffi-bindings->argon2-cffi->notebook>=4.4.1->widgetsnbextension~=3.6.0->ipywidgets>=7.6.0->leafmap) (1.17.1)\n",
            "Requirement already satisfied: pycparser in /usr/local/lib/python3.10/dist-packages (from cffi>=1.0.1->argon2-cffi-bindings->argon2-cffi->notebook>=4.4.1->widgetsnbextension~=3.6.0->ipywidgets>=7.6.0->leafmap) (2.22)\n",
            "Requirement already satisfied: anyio<4,>=3.1.0 in /usr/local/lib/python3.10/dist-packages (from jupyter-server<3,>=1.8->notebook-shim>=0.2.3->nbclassic>=0.4.7->notebook>=4.4.1->widgetsnbextension~=3.6.0->ipywidgets>=7.6.0->leafmap) (3.7.1)\n",
            "Requirement already satisfied: websocket-client in /usr/local/lib/python3.10/dist-packages (from jupyter-server<3,>=1.8->notebook-shim>=0.2.3->nbclassic>=0.4.7->notebook>=4.4.1->widgetsnbextension~=3.6.0->ipywidgets>=7.6.0->leafmap) (1.8.0)\n",
            "Requirement already satisfied: sniffio>=1.1 in /usr/local/lib/python3.10/dist-packages (from anyio<4,>=3.1.0->jupyter-server<3,>=1.8->notebook-shim>=0.2.3->nbclassic>=0.4.7->notebook>=4.4.1->widgetsnbextension~=3.6.0->ipywidgets>=7.6.0->leafmap) (1.3.1)\n",
            "Requirement already satisfied: exceptiongroup in /usr/local/lib/python3.10/dist-packages (from anyio<4,>=3.1.0->jupyter-server<3,>=1.8->notebook-shim>=0.2.3->nbclassic>=0.4.7->notebook>=4.4.1->widgetsnbextension~=3.6.0->ipywidgets>=7.6.0->leafmap) (1.2.2)\n"
          ]
        }
      ],
      "source": [
        "%pip install leafmap rarfile lonboard\n",
        "#%pip install lonboard"
      ]
    },
    {
      "cell_type": "code",
      "execution_count": 13,
      "metadata": {
        "id": "x8rK2nYwg_CR"
      },
      "outputs": [],
      "source": [
        "import duckdb\n",
        "import leafmap\n",
        "import rarfile\n",
        "import requests\n",
        "import os\n",
        "import pandas as pd\n",
        "import shutil"
      ]
    },
    {
      "cell_type": "code",
      "execution_count": 14,
      "metadata": {
        "id": "srcYshMnilnA"
      },
      "outputs": [],
      "source": [
        "#download file function\n",
        "def download_file(url, output_path):\n",
        "    # Send a HTTP request to the specified URL\n",
        "    response = requests.get(url)\n",
        "\n",
        "    # Check if the request was successful (status code 200)\n",
        "    if response.status_code == 200:\n",
        "        # Open the output file in binary mode and write the content\n",
        "        with open(output_path, 'wb') as file:\n",
        "            file.write(response.content)\n",
        "        print(f\"Downloaded file to {output_path}\")\n",
        "    else:\n",
        "        print(f\"Failed to download file. Status code: {response.status_code}\")\n",
        "\n",
        "#uncompress rar file\n",
        "def extract_rar(rar_file, extract_dir):\n",
        "    # Open the rar file\n",
        "    with rarfile.RarFile(rar_file) as rf:\n",
        "        # Extract all contents to the specified directory\n",
        "        rf.extractall(extract_dir)\n",
        "        print(f\"Extracted {rar_file} to {extract_dir}\")\n",
        "\n",
        "def extract_table_to_dataframe(url):\n",
        "    # Send an HTTP request to the URL\n",
        "    response = requests.get(url)\n",
        "\n",
        "    # Check if the request was successful\n",
        "    if response.status_code == 200:\n",
        "        # Use pandas to read the HTML and extract tables\n",
        "        tables = pd.read_html(response.text)\n",
        "\n",
        "        # If tables were found, return the first table as a DataFrame\n",
        "        if tables:\n",
        "            df = tables[0]\n",
        "            print(f\"Extracted table with {df.shape[0]} rows and {df.shape[1]} columns\")\n",
        "            return df\n",
        "        else:\n",
        "            print(\"No tables found on the webpage.\")\n",
        "            return None\n",
        "    else:\n",
        "        print(f\"Failed to fetch the webpage. Status code: {response.status_code}\")\n",
        "        return None\n",
        "\n",
        "def find_shp_files(base_dir):\n",
        "    shp_files = []\n",
        "\n",
        "    # Walk through the directory and subdirectories\n",
        "    for root, dirs, files in os.walk(base_dir):\n",
        "        # Search for .shp files\n",
        "        for file in files:\n",
        "            if file.endswith('.shp'):\n",
        "                shp_path = os.path.join(root, file)\n",
        "                shp_files.append(shp_path)\n",
        "                print(f\"Found shapefile: {shp_path}\")\n",
        "\n",
        "    if shp_files:\n",
        "        print(f\"Found {len(shp_files)} shapefile(s).\")\n",
        "        return shp_files\n",
        "    else:\n",
        "        print(\"No shapefiles found.\")\n",
        "        return None\n"
      ]
    },
    {
      "cell_type": "code",
      "execution_count": 15,
      "metadata": {
        "id": "fVkbITe9xUkx"
      },
      "outputs": [],
      "source": [
        "admin_url='https://raw.githubusercontent.com/rauledop1/TEWS/refs/heads/main/Catastro_BN.csv'"
      ]
    },
    {
      "cell_type": "code",
      "execution_count": 16,
      "metadata": {
        "id": "W2HbPLBLxcb4"
      },
      "outputs": [],
      "source": [
        "df=pd.read_csv(admin_url)"
      ]
    },
    {
      "cell_type": "code",
      "execution_count": 17,
      "metadata": {
        "id": "VLdbtbiN04ac"
      },
      "outputs": [],
      "source": [
        "#df=df.query(\"cod_region == 'CL-MA'\")\n",
        "url_catastro=df.file_url.to_list()\n",
        "year_update=df.year_update.to_list()\n",
        "cod_region=df.cod_region.to_list()\n",
        "crs_file=df.crs.to_list()"
      ]
    },
    {
      "cell_type": "code",
      "execution_count": 38,
      "metadata": {
        "id": "fiu-8w8tHcIv"
      },
      "outputs": [],
      "source": [
        "#Create a temporal DB\n",
        "con = duckdb.connect()\n",
        "\n",
        "#Load spatial and http extensions\n",
        "con.sql('''\n",
        "install httpfs;\n",
        "load httpfs;\n",
        "INSTALL spatial;\n",
        "LOAD spatial;\n",
        "''')"
      ]
    },
    {
      "cell_type": "code",
      "execution_count": 39,
      "metadata": {
        "colab": {
          "base_uri": "https://localhost:8080/",
          "height": 1000,
          "referenced_widgets": [
            "6125da729393490ba28f759e58765908",
            "0e74d172c5e54d4faa7a3df45635fc70",
            "aca0a9bb026f419f8070d69ed7802f83",
            "89c63e8aa208449ab750c2401ea27862",
            "b74a8cf0f6384f03bd8ce61736c8959c",
            "32a53a63bfb8412882c74fc493f3117e",
            "4cc749b41ef648a188a0ec35c4e02e32",
            "31c8857a1ffb48c6ad9dd868ec0002bf",
            "6ff97a611d13425cb7baf6986b60329c",
            "87752488446e42089ead6f9caa742347",
            "f95c67ad290f42ea9a90c6cef202a39f",
            "7e84df2a5c214bd2a4463795e676aea1",
            "b962a28771d444bdb55c545934196d44",
            "f7c6f9b1c9f94d0783c0bc62bfd043f2",
            "902a78e49c8146e5ac29610b9288489f",
            "d084cca8421f4c64ac95b28915f432c7",
            "5baf2a5e6d424b6c91da02c8771ea34b",
            "1b7bbbf9e6dc4818ab69448da191f203",
            "f830265e057e4e06bf4de01ac42fa8d0",
            "69e39afd60bb47838bf4c64765cb29fa",
            "c45568e8343e41d3a737a2a93fceea57",
            "6af1390812384e7cba36eee812c4c96f",
            "82428627bcbc4fb0a782884a64033db0",
            "233da3b251d948e5b89dc2a641327ef3",
            "efd1f4b8658a4da8815ed697bbc4c9a5",
            "bed224b68a124f27a5bdeebdef3d713e",
            "a13d24e2209c44b898397f75b1c00dac",
            "b9ddb200dff8409784c0d859ac399550",
            "d7cd3e1c8225488c96cc94b2e3e7b4e5",
            "4f7fa24ad12540bd903d7add3c72e5c7",
            "b1547b47f130484f810f8fda00843fa8",
            "cdc2283dfec44b9da8616ff01d03e994",
            "c182461e01604c5389e4522021a852e5",
            "287e2a49afee4bd7a3b3209f2fbf0dff",
            "a3d7f98e54dd41049ca57ecc08b8c085",
            "97d325b198d1438a8c46ab497f17569c",
            "534a0c34c9a64caeba1eed2c35542e47",
            "2a6c1fd2925f4e958d9e326a64bd2a82",
            "90f87c8914c143f784e93f6dd68f74a6",
            "3abc6ec50fe349ee9bc021abeb8dcdbf",
            "24849cde2ecf42cda50ec13ea7bedcc9",
            "573fa84d679a4bd0902ef4ed921fb36b",
            "3fbc76ca786c43fe9ed025ee348f6806"
          ]
        },
        "id": "tLkJ2j_li1t_",
        "outputId": "0b90bca4-4592-43d6-9de4-c0ea13f3182e"
      },
      "outputs": [
        {
          "metadata": {
            "tags": null
          },
          "name": "stdout",
          "output_type": "stream",
          "text": [
            "Downloaded file to CL-AI_2011.rar\n",
            "Extracted CL-AI_2011.rar to CL-AI_2011_BN\n",
            "Found shapefile: CL-AI_2011_BN/11. Región de Aysén/Catastro_RV_R11_2011_v2.shp\n",
            "Found 1 shapefile(s).\n"
          ]
        },
        {
          "data": {
            "application/vnd.jupyter.widget-view+json": {
              "model_id": "6125da729393490ba28f759e58765908",
              "version_major": 2,
              "version_minor": 0
            },
            "text/plain": [
              "FloatProgress(value=0.0, layout=Layout(width='auto'), style=ProgressStyle(bar_color='black'))"
            ]
          },
          "metadata": {
            "application/vnd.jupyter.widget-view+json": {
              "colab": {
                "custom_widget_manager": {
                  "url": "https://ssl.gstatic.com/colaboratory-static/widgets/colab-cdn-widget-manager/2b70e893a8ba7c0f/manager.min.js"
                }
              }
            }
          },
          "output_type": "display_data"
        },
        {
          "metadata": {
            "tags": null
          },
          "name": "stdout",
          "output_type": "stream",
          "text": [
            "Downloaded file to CL-AN_2019.rar\n",
            "Extracted CL-AN_2019.rar to CL-AN_2019_BN\n",
            "Found shapefile: CL-AN_2019_BN/CBN_REG02_2019/CBN_REG02_2019.shp\n",
            "Found 1 shapefile(s).\n"
          ]
        },
        {
          "data": {
            "application/vnd.jupyter.widget-view+json": {
              "model_id": "89c63e8aa208449ab750c2401ea27862",
              "version_major": 2,
              "version_minor": 0
            },
            "text/plain": [
              "FloatProgress(value=0.0, layout=Layout(width='auto'), style=ProgressStyle(bar_color='black'))"
            ]
          },
          "metadata": {
            "application/vnd.jupyter.widget-view+json": {
              "colab": {
                "custom_widget_manager": {
                  "url": "https://ssl.gstatic.com/colaboratory-static/widgets/colab-cdn-widget-manager/2b70e893a8ba7c0f/manager.min.js"
                }
              }
            }
          },
          "output_type": "display_data"
        },
        {
          "metadata": {
            "tags": null
          },
          "name": "stdout",
          "output_type": "stream",
          "text": [
            "Downloaded file to CL-AP_2015.rar\n",
            "Extracted CL-AP_2015.rar to CL-AP_2015_BN\n",
            "Found shapefile: CL-AP_2015_BN/catastro_rv_r15_2015_v2/catastro_rv_r15_2015_v2.shp\n",
            "Found 1 shapefile(s).\n",
            "Downloaded file to CL-AT_2018.rar\n",
            "Extracted CL-AT_2018.rar to CL-AT_2018_BN\n",
            "Found shapefile: CL-AT_2018_BN/catastro_rv_r03_2018/catastro_rv_r03_2018.shp\n",
            "Found 1 shapefile(s).\n"
          ]
        },
        {
          "data": {
            "application/vnd.jupyter.widget-view+json": {
              "model_id": "4cc749b41ef648a188a0ec35c4e02e32",
              "version_major": 2,
              "version_minor": 0
            },
            "text/plain": [
              "FloatProgress(value=0.0, layout=Layout(width='auto'), style=ProgressStyle(bar_color='black'))"
            ]
          },
          "metadata": {
            "application/vnd.jupyter.widget-view+json": {
              "colab": {
                "custom_widget_manager": {
                  "url": "https://ssl.gstatic.com/colaboratory-static/widgets/colab-cdn-widget-manager/2b70e893a8ba7c0f/manager.min.js"
                }
              }
            }
          },
          "output_type": "display_data"
        },
        {
          "metadata": {
            "tags": null
          },
          "name": "stdout",
          "output_type": "stream",
          "text": [
            "Downloaded file to CL-BI_2015.rar\n",
            "Extracted CL-BI_2015.rar to CL-BI_2015_BN\n",
            "Found shapefile: CL-BI_2015_BN/Catastro_RV_R08_2015.shp\n",
            "Found 1 shapefile(s).\n"
          ]
        },
        {
          "data": {
            "application/vnd.jupyter.widget-view+json": {
              "model_id": "87752488446e42089ead6f9caa742347",
              "version_major": 2,
              "version_minor": 0
            },
            "text/plain": [
              "FloatProgress(value=0.0, layout=Layout(width='auto'), style=ProgressStyle(bar_color='black'))"
            ]
          },
          "metadata": {
            "application/vnd.jupyter.widget-view+json": {
              "colab": {
                "custom_widget_manager": {
                  "url": "https://ssl.gstatic.com/colaboratory-static/widgets/colab-cdn-widget-manager/2b70e893a8ba7c0f/manager.min.js"
                }
              }
            }
          },
          "output_type": "display_data"
        },
        {
          "metadata": {
            "tags": null
          },
          "name": "stdout",
          "output_type": "stream",
          "text": [
            "Downloaded file to CL-CO_2014.rar\n",
            "Extracted CL-CO_2014.rar to CL-CO_2014_BN\n",
            "Found shapefile: CL-CO_2014_BN/04.Región de Coquimbo/Catastro_RV_R04_2014.shp\n",
            "Found 1 shapefile(s).\n"
          ]
        },
        {
          "data": {
            "application/vnd.jupyter.widget-view+json": {
              "model_id": "b962a28771d444bdb55c545934196d44",
              "version_major": 2,
              "version_minor": 0
            },
            "text/plain": [
              "FloatProgress(value=0.0, layout=Layout(width='auto'), style=ProgressStyle(bar_color='black'))"
            ]
          },
          "metadata": {
            "application/vnd.jupyter.widget-view+json": {
              "colab": {
                "custom_widget_manager": {
                  "url": "https://ssl.gstatic.com/colaboratory-static/widgets/colab-cdn-widget-manager/2b70e893a8ba7c0f/manager.min.js"
                }
              }
            }
          },
          "output_type": "display_data"
        },
        {
          "metadata": {
            "tags": null
          },
          "name": "stdout",
          "output_type": "stream",
          "text": [
            "Downloaded file to CL-AR_2017.rar\n",
            "Extracted CL-AR_2017.rar to CL-AR_2017_BN\n",
            "Found shapefile: CL-AR_2017_BN/cbn_09reg_2017/cbn_09reg_2017.shp\n",
            "Found 1 shapefile(s).\n"
          ]
        },
        {
          "data": {
            "application/vnd.jupyter.widget-view+json": {
              "model_id": "d084cca8421f4c64ac95b28915f432c7",
              "version_major": 2,
              "version_minor": 0
            },
            "text/plain": [
              "FloatProgress(value=0.0, layout=Layout(width='auto'), style=ProgressStyle(bar_color='black'))"
            ]
          },
          "metadata": {
            "application/vnd.jupyter.widget-view+json": {
              "colab": {
                "custom_widget_manager": {
                  "url": "https://ssl.gstatic.com/colaboratory-static/widgets/colab-cdn-widget-manager/2b70e893a8ba7c0f/manager.min.js"
                }
              }
            }
          },
          "output_type": "display_data"
        },
        {
          "metadata": {
            "tags": null
          },
          "name": "stdout",
          "output_type": "stream",
          "text": [
            "Downloaded file to CL-LI_2013.rar\n",
            "Extracted CL-LI_2013.rar to CL-LI_2013_BN\n",
            "Found shapefile: CL-LI_2013_BN/06. Región de OHiggins/Catastro_RV_R06_2013.shp\n",
            "Found 1 shapefile(s).\n"
          ]
        },
        {
          "data": {
            "application/vnd.jupyter.widget-view+json": {
              "model_id": "f830265e057e4e06bf4de01ac42fa8d0",
              "version_major": 2,
              "version_minor": 0
            },
            "text/plain": [
              "FloatProgress(value=0.0, layout=Layout(width='auto'), style=ProgressStyle(bar_color='black'))"
            ]
          },
          "metadata": {
            "application/vnd.jupyter.widget-view+json": {
              "colab": {
                "custom_widget_manager": {
                  "url": "https://ssl.gstatic.com/colaboratory-static/widgets/colab-cdn-widget-manager/2b70e893a8ba7c0f/manager.min.js"
                }
              }
            }
          },
          "output_type": "display_data"
        },
        {
          "metadata": {
            "tags": null
          },
          "name": "stdout",
          "output_type": "stream",
          "text": [
            "Downloaded file to CL-LL_2018.rar\n",
            "Extracted CL-LL_2018.rar to CL-LL_2018_BN\n",
            "Found shapefile: CL-LL_2018_BN/cbn_10reg_2018/cbn_10reg_2018.shp\n",
            "Found 1 shapefile(s).\n"
          ]
        },
        {
          "data": {
            "application/vnd.jupyter.widget-view+json": {
              "model_id": "6af1390812384e7cba36eee812c4c96f",
              "version_major": 2,
              "version_minor": 0
            },
            "text/plain": [
              "FloatProgress(value=0.0, layout=Layout(width='auto'), style=ProgressStyle(bar_color='black'))"
            ]
          },
          "metadata": {
            "application/vnd.jupyter.widget-view+json": {
              "colab": {
                "custom_widget_manager": {
                  "url": "https://ssl.gstatic.com/colaboratory-static/widgets/colab-cdn-widget-manager/2b70e893a8ba7c0f/manager.min.js"
                }
              }
            }
          },
          "output_type": "display_data"
        },
        {
          "metadata": {
            "tags": null
          },
          "name": "stdout",
          "output_type": "stream",
          "text": [
            "Downloaded file to CL-LR_2017.rar\n",
            "Extracted CL-LR_2017.rar to CL-LR_2017_BN\n",
            "Found shapefile: CL-LR_2017_BN/cbn_14reg_2017/cbn_14reg_2017.shp\n",
            "Found 1 shapefile(s).\n"
          ]
        },
        {
          "data": {
            "application/vnd.jupyter.widget-view+json": {
              "model_id": "efd1f4b8658a4da8815ed697bbc4c9a5",
              "version_major": 2,
              "version_minor": 0
            },
            "text/plain": [
              "FloatProgress(value=0.0, layout=Layout(width='auto'), style=ProgressStyle(bar_color='black'))"
            ]
          },
          "metadata": {
            "application/vnd.jupyter.widget-view+json": {
              "colab": {
                "custom_widget_manager": {
                  "url": "https://ssl.gstatic.com/colaboratory-static/widgets/colab-cdn-widget-manager/2b70e893a8ba7c0f/manager.min.js"
                }
              }
            }
          },
          "output_type": "display_data"
        },
        {
          "metadata": {
            "tags": null
          },
          "name": "stdout",
          "output_type": "stream",
          "text": [
            "Downloaded file to CL-MA_2017.rar\n",
            "Extracted CL-MA_2017.rar to CL-MA_2017_BN\n",
            "Found shapefile: CL-MA_2017_BN/cbn_2017_2019_r12/cbn_2017_2019_r12.shp\n",
            "Found 1 shapefile(s).\n"
          ]
        },
        {
          "data": {
            "application/vnd.jupyter.widget-view+json": {
              "model_id": "bed224b68a124f27a5bdeebdef3d713e",
              "version_major": 2,
              "version_minor": 0
            },
            "text/plain": [
              "FloatProgress(value=0.0, layout=Layout(width='auto'), style=ProgressStyle(bar_color='black'))"
            ]
          },
          "metadata": {
            "application/vnd.jupyter.widget-view+json": {
              "colab": {
                "custom_widget_manager": {
                  "url": "https://ssl.gstatic.com/colaboratory-static/widgets/colab-cdn-widget-manager/2b70e893a8ba7c0f/manager.min.js"
                }
              }
            }
          },
          "output_type": "display_data"
        },
        {
          "metadata": {
            "tags": null
          },
          "name": "stdout",
          "output_type": "stream",
          "text": [
            "Downloaded file to CL-ML_2016.rar\n",
            "Extracted CL-ML_2016.rar to CL-ML_2016_BN\n",
            "Found shapefile: CL-ML_2016_BN/07.Región del Maule/Catastro_RV_R07_2016.shp\n",
            "Found 1 shapefile(s).\n"
          ]
        },
        {
          "data": {
            "application/vnd.jupyter.widget-view+json": {
              "model_id": "d7cd3e1c8225488c96cc94b2e3e7b4e5",
              "version_major": 2,
              "version_minor": 0
            },
            "text/plain": [
              "FloatProgress(value=0.0, layout=Layout(width='auto'), style=ProgressStyle(bar_color='black'))"
            ]
          },
          "metadata": {
            "application/vnd.jupyter.widget-view+json": {
              "colab": {
                "custom_widget_manager": {
                  "url": "https://ssl.gstatic.com/colaboratory-static/widgets/colab-cdn-widget-manager/2b70e893a8ba7c0f/manager.min.js"
                }
              }
            }
          },
          "output_type": "display_data"
        },
        {
          "output_type": "stream",
          "name": "stdout",
          "text": [
            "Downloaded file to CL-RM_2019.rar\n",
            "Extracted CL-RM_2019.rar to CL-RM_2019_BN\n",
            "Found shapefile: CL-RM_2019_BN/cbn_rm_2019_21feb24/cbn_rm_2019_21feb24.shp\n",
            "Found 1 shapefile(s).\n"
          ]
        },
        {
          "output_type": "display_data",
          "data": {
            "text/plain": [
              "FloatProgress(value=0.0, layout=Layout(width='auto'), style=ProgressStyle(bar_color='black'))"
            ],
            "application/vnd.jupyter.widget-view+json": {
              "version_major": 2,
              "version_minor": 0,
              "model_id": "287e2a49afee4bd7a3b3209f2fbf0dff"
            }
          },
          "metadata": {
            "application/vnd.jupyter.widget-view+json": {
              "colab": {
                "custom_widget_manager": {
                  "url": "https://ssl.gstatic.com/colaboratory-static/widgets/colab-cdn-widget-manager/2b70e893a8ba7c0f/manager.min.js"
                }
              }
            }
          }
        },
        {
          "output_type": "stream",
          "name": "stdout",
          "text": [
            "Downloaded file to CL-TA_2016.rar\n",
            "Extracted CL-TA_2016.rar to CL-TA_2016_BN\n",
            "Found shapefile: CL-TA_2016_BN/01.Región de Tarapaca Año 2016/Catastro_RV_R01_2016.shp\n",
            "Found 1 shapefile(s).\n"
          ]
        },
        {
          "output_type": "display_data",
          "data": {
            "text/plain": [
              "FloatProgress(value=0.0, layout=Layout(width='auto'), style=ProgressStyle(bar_color='black'))"
            ],
            "application/vnd.jupyter.widget-view+json": {
              "version_major": 2,
              "version_minor": 0,
              "model_id": "534a0c34c9a64caeba1eed2c35542e47"
            }
          },
          "metadata": {
            "application/vnd.jupyter.widget-view+json": {
              "colab": {
                "custom_widget_manager": {
                  "url": "https://ssl.gstatic.com/colaboratory-static/widgets/colab-cdn-widget-manager/2b70e893a8ba7c0f/manager.min.js"
                }
              }
            }
          }
        },
        {
          "output_type": "stream",
          "name": "stdout",
          "text": [
            "Downloaded file to CL-VS_2019.rar\n",
            "Extracted CL-VS_2019.rar to CL-VS_2019_BN\n",
            "Found shapefile: CL-VS_2019_BN/cbn_05reg_2019_v2/cbn_05reg_2019_v2.shp\n",
            "Found 1 shapefile(s).\n"
          ]
        },
        {
          "output_type": "display_data",
          "data": {
            "text/plain": [
              "FloatProgress(value=0.0, layout=Layout(width='auto'), style=ProgressStyle(bar_color='black'))"
            ],
            "application/vnd.jupyter.widget-view+json": {
              "version_major": 2,
              "version_minor": 0,
              "model_id": "3abc6ec50fe349ee9bc021abeb8dcdbf"
            }
          },
          "metadata": {
            "application/vnd.jupyter.widget-view+json": {
              "colab": {
                "custom_widget_manager": {
                  "url": "https://ssl.gstatic.com/colaboratory-static/widgets/colab-cdn-widget-manager/2b70e893a8ba7c0f/manager.min.js"
                }
              }
            }
          }
        },
        {
          "output_type": "stream",
          "name": "stdout",
          "text": [
            "Downloaded file to CL-NB_2015.rar\n",
            "Extracted CL-NB_2015.rar to CL-NB_2015_BN\n",
            "Found shapefile: CL-NB_2015_BN/Catastro_RV_R16_2015.shp\n",
            "Found 1 shapefile(s).\n"
          ]
        },
        {
          "output_type": "display_data",
          "data": {
            "text/plain": [
              "FloatProgress(value=0.0, layout=Layout(width='auto'), style=ProgressStyle(bar_color='black'))"
            ],
            "application/vnd.jupyter.widget-view+json": {
              "version_major": 2,
              "version_minor": 0,
              "model_id": "3fbc76ca786c43fe9ed025ee348f6806"
            }
          },
          "metadata": {
            "application/vnd.jupyter.widget-view+json": {
              "colab": {
                "custom_widget_manager": {
                  "url": "https://ssl.gstatic.com/colaboratory-static/widgets/colab-cdn-widget-manager/2b70e893a8ba7c0f/manager.min.js"
                }
              }
            }
          }
        }
      ],
      "source": [
        "for i,j,k,c in zip(url_catastro, year_update,cod_region, crs_file):\n",
        "\n",
        "  compress_file=f'{k}_{j}.rar'\n",
        "  folder_p=f'{k}_{j}_BN'\n",
        "  table_name=k.replace('-','_')+f'_{j}'\n",
        "\n",
        "  download_file(i,compress_file)\n",
        "\n",
        "  if not os.path.exists(folder_p):\n",
        "    os.makedirs(folder_p)\n",
        "\n",
        "  extract_rar(compress_file, folder_p)\n",
        "\n",
        "  shp=find_shp_files(folder_p)\n",
        "\n",
        "  shp=shp[0]\n",
        "\n",
        "  con.sql(f'''\n",
        "    create table '{table_name}' as\n",
        "    SELECT *, '{table_name}' as cod_catastro, st_transform(geom, '{c}','EPSG:4326') as geo_geom\n",
        "      from st_read('{shp}')\n",
        "    ''')\n",
        "  os.remove(compress_file)\n",
        "  shutil.rmtree(folder_p)"
      ]
    },
    {
      "cell_type": "code",
      "execution_count": 45,
      "metadata": {
        "id": "s5EkIdAsg6ao",
        "colab": {
          "base_uri": "https://localhost:8080/"
        },
        "outputId": "c5c939ef-e772-4494-b4b4-3f70b6ec2f9e"
      },
      "outputs": [
        {
          "output_type": "execute_result",
          "data": {
            "text/plain": [
              "┌──────────┬─────────┬────────────┬───────────────────────────────────────────────────────────────────────────────────────────────────────────────────────────────────────────────────────────────────────────────────────────────────────────────────────────────────────────────────────────────────────────────────────────────────────────────────────────────────────────────────────────────────────────────────────────────────────────────────────────────────────────────────────────────────────────────────────────────────────────────────────────────────────────────────────────────────────────────────────────────────────────────────────────────────────────────────────────┬─────────────────────────────────────────────────────────────────────────────────────────────────────────────────────────────────────────────────────────────────────────────────────────────────────────────────────────────────────────────────────────────────────────────────────────────────────────────────────────────────────────────────────────────────────────────────────────────────────────────────────────────────────────────────────────────────────────────────────────────────────────────────────────────────────────────────────────────────────────┬───────────┐\n",
              "│ database │ schema  │    name    │                                                                                                                                                                                                                                                                                                                       column_names                                                                                                                                                                                                                                                                                                                        │                                                                                                                                                                                                                                                                              column_types                                                                                                                                                                                                                                                                               │ temporary │\n",
              "│ varchar  │ varchar │  varchar   │                                                                                                                                                                                                                                                                                                                         varchar[]                                                                                                                                                                                                                                                                                                                         │                                                                                                                                                                                                                                                                                varchar[]                                                                                                                                                                                                                                                                                │  boolean  │\n",
              "├──────────┼─────────┼────────────┼───────────────────────────────────────────────────────────────────────────────────────────────────────────────────────────────────────────────────────────────────────────────────────────────────────────────────────────────────────────────────────────────────────────────────────────────────────────────────────────────────────────────────────────────────────────────────────────────────────────────────────────────────────────────────────────────────────────────────────────────────────────────────────────────────────────────────────────────────────────────────────────────────────────────────────────────────────────────────────────┼─────────────────────────────────────────────────────────────────────────────────────────────────────────────────────────────────────────────────────────────────────────────────────────────────────────────────────────────────────────────────────────────────────────────────────────────────────────────────────────────────────────────────────────────────────────────────────────────────────────────────────────────────────────────────────────────────────────────────────────────────────────────────────────────────────────────────────────────────────────┼───────────┤\n",
              "│ memory   │ main    │ CL_AI_2011 │ [GID, ID_USO, ID_SUBUSO, ID_ESTRUC, ID_COBER, ID_ALTU, ID_TIFO, ID_STIF, ID_ESP1, ID_ESP2, ID_ESP3, ID_ESP4, ID_ESP5, ID_ESP6, CODREG, CODPROV, CODCOM, USO_TIERRA, USO, SUBUSO, ESTRUCTURA, COBERTURA, ALTURA, TIPO_FORES, SUBTIPOFOR, ESPECI1_CI, ESPECI2_CI, ESPECI3_CI, ESPECI4_CI, ESPECI5_CI, ESPECI6_CI, NOM_PROV, NOM_COM, NOM_REG, SUPERF_HA, TIPO_SNASP, SNASPE, geom, cod_catastro, geo_geom]                                                                                                                                                                                                                                                  │ [BIGINT, VARCHAR, VARCHAR, VARCHAR, VARCHAR, VARCHAR, VARCHAR, VARCHAR, VARCHAR, VARCHAR, VARCHAR, VARCHAR, VARCHAR, VARCHAR, VARCHAR, VARCHAR, VARCHAR, VARCHAR, VARCHAR, VARCHAR, VARCHAR, VARCHAR, VARCHAR, VARCHAR, VARCHAR, VARCHAR, VARCHAR, VARCHAR, VARCHAR, VARCHAR, VARCHAR, VARCHAR, VARCHAR, VARCHAR, DOUBLE, VARCHAR, VARCHAR, GEOMETRY, VARCHAR, GEOMETRY]                                                                                                                                                                                                │ false     │\n",
              "│ memory   │ main    │ CL_AN_2019 │ [OBJECTID, ID, ID_USO, ID_SUBUSO, ID_ESTRUC, ID_COBER, ID_ALTU, ID_TIFO, ID_STIF, ID_ESP1, ID_ESP2, ID_ESP3, ID_ESP4, ID_ESP5, ID_ESP6, ORG_ESP_CC, ID_ESP_CC1, ID_ESP_CC2, CODREG, CODPROV, CODCOM, USO_TIERRA, USO, SUBUSO, ESTRUCTURA, COBERTURA, ALTURA, TIPO_FORES, SUBTIPOFOR, ESPECI1_CI, ESPECI2_CI, ESPECI3_CI, ESPECI4_CI, ESPECI5_CI, ESPECI6_CI, ESPECI1_CO, ESPECI2_CO, ESPECI3_CO, ESPECI4_CO, ESPECI5_CO, ESPECI6_CO, ESP_C1, ESP_C2, COOR_ESTE, COOR_NORTE, NOM_SNASPE, TIPO_SNASP, NOM_REG, NOM_PROV, NOM_COM, TC, TIPO_POLI, SUPERF_HA, SHAPE_Leng, SHAPE_Area, geom, cod_catastro, geo_geom]                                           │ [DOUBLE, BIGINT, VARCHAR, VARCHAR, VARCHAR, VARCHAR, VARCHAR, VARCHAR, VARCHAR, VARCHAR, VARCHAR, VARCHAR, VARCHAR, VARCHAR, VARCHAR, VARCHAR, VARCHAR, VARCHAR, VARCHAR, VARCHAR, VARCHAR, VARCHAR, VARCHAR, VARCHAR, VARCHAR, VARCHAR, VARCHAR, VARCHAR, VARCHAR, VARCHAR, VARCHAR, VARCHAR, VARCHAR, VARCHAR, VARCHAR, VARCHAR, VARCHAR, VARCHAR, VARCHAR, VARCHAR, VARCHAR, VARCHAR, VARCHAR, DOUBLE, DOUBLE, VARCHAR, VARCHAR, VARCHAR, VARCHAR, VARCHAR, VARCHAR, VARCHAR, DOUBLE, DOUBLE, DOUBLE, GEOMETRY, VARCHAR, GEOMETRY]                                   │ false     │\n",
              "│ memory   │ main    │ CL_AP_2015 │ [gid, id, id_uso, id_subuso, id_estruc, id_cober, id_altu, id_tifo, id_stif, id_esp1, id_esp2, id_esp3, id_esp4, id_esp5, id_esp6, id_esp_cc1, id_esp_cc2, codreg, codprov, codcom, uso_tierra, uso, subuso, estructura, cobertura, altura, tipo_fores, subtipofor, especi1_ci, especi2_ci, especi3_ci, especi4_ci, especi5_ci, especi6_ci, especi1_co, especi2_co, especi3_co, especi4_co, especi5_co, especi6_co, esp_c1, esp_c2, coor_este, coor_norte, nom_reg, nom_prov, nom_com, superf_ha, unidad, categoria, geom, cod_catastro, geo_geom]                                                                                                        │ [BIGINT, DOUBLE, VARCHAR, VARCHAR, VARCHAR, VARCHAR, VARCHAR, VARCHAR, VARCHAR, VARCHAR, VARCHAR, VARCHAR, VARCHAR, VARCHAR, VARCHAR, VARCHAR, VARCHAR, VARCHAR, VARCHAR, VARCHAR, VARCHAR, VARCHAR, VARCHAR, VARCHAR, VARCHAR, VARCHAR, VARCHAR, VARCHAR, VARCHAR, VARCHAR, VARCHAR, VARCHAR, VARCHAR, VARCHAR, VARCHAR, VARCHAR, VARCHAR, VARCHAR, VARCHAR, VARCHAR, VARCHAR, VARCHAR, DOUBLE, DOUBLE, VARCHAR, VARCHAR, VARCHAR, DOUBLE, VARCHAR, VARCHAR, GEOMETRY, VARCHAR, GEOMETRY]                                                                              │ false     │\n",
              "│ memory   │ main    │ CL_AR_2017 │ [ID, ID_USO, ID_SUBUSO, ID_ESTRUC, ID_COBER, ID_ALTU, ID_TIFO, ID_STIF, ID_ESP1, ID_ESP2, ID_ESP3, ID_ESP4, ID_ESP5, ID_ESP6, ID_ESP_C1, ID_ESP_C2, BN, EST_ORIGEN, CODREG, CODPROV, CODCOM, USO_TIERR, USO, SUBUSO, ESTRUCTURA, COBERTURA, ALTURA, TIPO_FORE, SUBTIPOFO, ESPECI1_CI, ESPECI1_CO, ESPECI2_CI, ESPECI2_CO, ESPECI3_CI, ESPECI3_CO, ESPECI4_CI, ESPECI4_CO, ESPECI5_CI, ESPECI5_CO, ESPECI6_CI, ESPECI6_CO, ESP_C1, ESP_C2, TC, TIPO_POLI, NOM_SNASPE, TIPO_SNASP, NOM_REG, NOM_PROV, NOM_COM, SUPERF_HA, geom, cod_catastro, geo_geom]                                                                                                     │ [DOUBLE, VARCHAR, VARCHAR, VARCHAR, VARCHAR, VARCHAR, VARCHAR, VARCHAR, VARCHAR, VARCHAR, VARCHAR, VARCHAR, VARCHAR, VARCHAR, VARCHAR, VARCHAR, VARCHAR, VARCHAR, VARCHAR, VARCHAR, VARCHAR, VARCHAR, VARCHAR, VARCHAR, VARCHAR, VARCHAR, VARCHAR, VARCHAR, VARCHAR, VARCHAR, VARCHAR, VARCHAR, VARCHAR, VARCHAR, VARCHAR, VARCHAR, VARCHAR, VARCHAR, VARCHAR, VARCHAR, VARCHAR, VARCHAR, VARCHAR, VARCHAR, VARCHAR, VARCHAR, VARCHAR, VARCHAR, VARCHAR, VARCHAR, DOUBLE, GEOMETRY, VARCHAR, GEOMETRY]                                                                  │ false     │\n",
              "│ memory   │ main    │ CL_AT_2018 │ [gid, fid_1, id, id_uso, id_subuso, id_estruc, id_cober, id_altu, id_tifo, id_stif, id_esp1, id_esp2, id_esp3, id_esp4, id_esp5, id_esp6, org_esp_cc, id_esp_cc1, id_esp_cc2, codreg, codprov, codcom, uso_tierra, uso, subuso, estructura, cobertura, altura, tipo_fores, subtipofor, especi1_ci, especi2_ci, especi3_ci, especi4_ci, especi5_ci, especi6_ci, especi1_co, especi2_co, especi3_co, especi4_co, especi5_co, especi6_co, esp_c1, esp_c2, nom_snaspe, tipo_snasp, nom_reg, nom_prov, nom_com, tc, tipo_poli, superf_ha, geom, cod_catastro, geo_geom]                                                                                        │ [BIGINT, BIGINT, BIGINT, VARCHAR, VARCHAR, VARCHAR, VARCHAR, VARCHAR, VARCHAR, VARCHAR, VARCHAR, VARCHAR, VARCHAR, VARCHAR, VARCHAR, VARCHAR, VARCHAR, VARCHAR, VARCHAR, VARCHAR, VARCHAR, VARCHAR, VARCHAR, VARCHAR, VARCHAR, VARCHAR, VARCHAR, VARCHAR, VARCHAR, VARCHAR, VARCHAR, VARCHAR, VARCHAR, VARCHAR, VARCHAR, VARCHAR, VARCHAR, VARCHAR, VARCHAR, VARCHAR, VARCHAR, VARCHAR, VARCHAR, VARCHAR, VARCHAR, VARCHAR, VARCHAR, VARCHAR, VARCHAR, VARCHAR, VARCHAR, DOUBLE, GEOMETRY, VARCHAR, GEOMETRY]                                                           │ false     │\n",
              "│ memory   │ main    │ CL_BI_2015 │ [OBJECTID, ID, ID_USO, ID_SUBUSO, ID_ESTRUC, ID_COBER, ID_ALTU, ID_TIFO, ID_STIF, ID_ESP1, ID_ESP2, ID_ESP3, ID_ESP4, ID_ESP5, ID_ESP6, ORG_ESP_CC, ID_ESP_CC1, ID_ESP_CC2, CODREG, CODPROV, CODCOMUN, USO_TIERRA, USO, SUBUSO, ESTRUCTURA, COBERTURA, ALTURA, TIPO_FORES, SUBTIPOFOR, ESPECI1_CI, ESPECI2_CI, ESPECI3_CI, ESPECI4_CI, ESPECI5_CI, ESPECI6_CI, ESPECI1_CO, ESPECI2_CO, ESPECI3_CO, ESPECI4_CO, ESPECI5_CO, ESPECI6_CO, ESP_C1, ESP_C2, COOR_ESTE, COOR_NORTE, NOM_SNASPE, TIPO_SNASP, NOM_REG, NOM_PROV, NOM_COM, TC, TIPO_POLI, SUPERF_HA, BN, EST_ORIGEN, Shape_Leng, Shape_Area, MaxSimpTol, MinSimpTol, geom, cod_catastro, geo_geom] │ [BIGINT, DOUBLE, VARCHAR, VARCHAR, VARCHAR, VARCHAR, VARCHAR, VARCHAR, VARCHAR, VARCHAR, VARCHAR, VARCHAR, VARCHAR, VARCHAR, VARCHAR, VARCHAR, VARCHAR, VARCHAR, VARCHAR, VARCHAR, VARCHAR, VARCHAR, VARCHAR, VARCHAR, VARCHAR, VARCHAR, VARCHAR, VARCHAR, VARCHAR, VARCHAR, VARCHAR, VARCHAR, VARCHAR, VARCHAR, VARCHAR, VARCHAR, VARCHAR, VARCHAR, VARCHAR, VARCHAR, VARCHAR, VARCHAR, VARCHAR, DOUBLE, DOUBLE, VARCHAR, VARCHAR, VARCHAR, VARCHAR, VARCHAR, VARCHAR, VARCHAR, DOUBLE, VARCHAR, VARCHAR, DOUBLE, DOUBLE, DOUBLE, DOUBLE, GEOMETRY, VARCHAR, GEOMETRY] │ false     │\n",
              "│ memory   │ main    │ CL_CO_2014 │ [ID_USO, ID_SUBUSO, ID_ESTRUC, ID_COBER, ID_ALTU, ID_TIFO, ID_STIF, ID_ESP1, ID_ESP2, ID_ESP3, ID_ESP4, ID_ESP5, ID_ESP6, ID_ESP_CC1, ID_ESP_CC2, CODREG, CODPROV, CODCOM, USO_TIERRA, USO, SUBUSO, ESTRUCTURA, COBERTURA, ALTURA, TIPO_FORES, SUBTIPOFOR, ESPECI1_CI, ESPECI2_CI, ESPECI3_CI, ESPECI4_CI, ESPECI5_CI, ESPECI6_CI, ESPECI1_CO, ESPECI2_CO, ESPECI3_CO, ESPECI4_CO, ESPECI5_CO, ESPECI6_CO, ESP_C1, ESP_C2, COOR_ESTE, COOR_NORTE, NOM_REG, NOM_PROV, NOM_COM, TC, TIPO_POLI, SUPERF_HA, geom, cod_catastro, geo_geom]                                                                                                                     │ [VARCHAR, VARCHAR, VARCHAR, VARCHAR, VARCHAR, VARCHAR, VARCHAR, VARCHAR, VARCHAR, VARCHAR, VARCHAR, VARCHAR, VARCHAR, VARCHAR, VARCHAR, VARCHAR, VARCHAR, VARCHAR, VARCHAR, VARCHAR, VARCHAR, VARCHAR, VARCHAR, VARCHAR, VARCHAR, VARCHAR, VARCHAR, VARCHAR, VARCHAR, VARCHAR, VARCHAR, VARCHAR, VARCHAR, VARCHAR, VARCHAR, VARCHAR, VARCHAR, VARCHAR, VARCHAR, VARCHAR, DOUBLE, DOUBLE, VARCHAR, VARCHAR, VARCHAR, VARCHAR, VARCHAR, DOUBLE, GEOMETRY, VARCHAR, GEOMETRY]                                                                                              │ false     │\n",
              "│ memory   │ main    │ CL_LI_2013 │ [GID, FID_CBN_RE, ID, ID_USO, ID_SUBUSO, ID_ESTRUC, ID_COBER, ID_ALTU, ID_TIFO, ID_STIF, ID_ESP1, ID_ESP2, ID_ESP3, ID_ESP4, ID_ESP5, ID_ESP6, ID_ESP_CC1, ID_ESP_CC2, CODCOM, CODPROV, CODREG, USO_TIERRA, USO, SUBUSO, ESTRUCTURA, COBERTURA, ALTURA, TIPO_FORES, SUBTIPOFOR, ESPECI1_CI, ESPECI2_CI, ESPECI3_CI, ESPECI4_CI, ESPECI5_CI, ESPECI6_CI, ESPECI1_CO, ESPECI2_CO, ESPECI3_CO, ESPECI4_CO, ESPECI5_CO, ESPECI6_CO, ESP_C1, ESP_C2, COOR_ESTE, COOR_NORTE, NOM_COM, NOM_PROV, NOM_REG, SUPERF_HA, TC, POL_VISITA, FID_VI_COM, geom, cod_catastro, geo_geom]                                                                                   │ [BIGINT, BIGINT, DOUBLE, VARCHAR, VARCHAR, VARCHAR, VARCHAR, VARCHAR, VARCHAR, VARCHAR, VARCHAR, VARCHAR, VARCHAR, VARCHAR, VARCHAR, VARCHAR, VARCHAR, VARCHAR, VARCHAR, VARCHAR, VARCHAR, VARCHAR, VARCHAR, VARCHAR, VARCHAR, VARCHAR, VARCHAR, VARCHAR, VARCHAR, VARCHAR, VARCHAR, VARCHAR, VARCHAR, VARCHAR, VARCHAR, VARCHAR, VARCHAR, VARCHAR, VARCHAR, VARCHAR, VARCHAR, VARCHAR, VARCHAR, DOUBLE, DOUBLE, VARCHAR, VARCHAR, VARCHAR, DOUBLE, VARCHAR, VARCHAR, BIGINT, GEOMETRY, VARCHAR, GEOMETRY]                                                              │ false     │\n",
              "│ memory   │ main    │ CL_LL_2018 │ [ID, ID_USO, ID_SUBUSO, ID_ESTRUC, ID_COBER, ID_ALTU, ID_TIFO, ID_STIF, ID_ESP1, ID_ESP2, ID_ESP3, ID_ESP4, ID_ESP5, ID_ESP6, ID_ESP_C1, ID_ESP_C2, CODREG, CODPROV, CODCOM, USO_TIERRA, USO, SUBUSO, ESTRUCTURA, COBERTURA, ALTURA, TIPO_FORES, SUBTIPOFOR, ESPECI1_CI, ESPECI2_CI, ESPECI3_CI, ESPECI4_CI, ESPECI5_CI, ESPECI6_CI, ESPECI1_CO, ESPECI2_CO, ESPECI3_CO, ESPECI4_CO, ESPECI5_CO, ESPECI6_CO, ESP_C1, ESP_C2, TC, TIPO_POLI, NOM_SNASPE, TIPO_SNASP, NOM_REG, NOM_PROV, NOM_COM, SUPERF_HA, geom, cod_catastro, geo_geom]                                                                                                                  │ [BIGINT, VARCHAR, VARCHAR, VARCHAR, VARCHAR, VARCHAR, VARCHAR, VARCHAR, VARCHAR, VARCHAR, VARCHAR, VARCHAR, VARCHAR, VARCHAR, VARCHAR, VARCHAR, VARCHAR, VARCHAR, VARCHAR, VARCHAR, VARCHAR, VARCHAR, VARCHAR, VARCHAR, VARCHAR, VARCHAR, VARCHAR, VARCHAR, VARCHAR, VARCHAR, VARCHAR, VARCHAR, VARCHAR, VARCHAR, VARCHAR, VARCHAR, VARCHAR, VARCHAR, VARCHAR, VARCHAR, VARCHAR, VARCHAR, VARCHAR, VARCHAR, VARCHAR, VARCHAR, VARCHAR, VARCHAR, DOUBLE, GEOMETRY, VARCHAR, GEOMETRY]                                                                                    │ false     │\n",
              "│ memory   │ main    │ CL_LR_2017 │ [ID, ID_USO, ID_SUBUSO, ID_ESTRUC, ID_COBER, ID_ALTU, ID_TIFO, ID_STIF, ID_ESP1, ID_ESP2, ID_ESP3, ID_ESP4, ID_ESP5, ID_ESP6, ID_ESP_C1, ID_ESP_C2, CODREG, CODPROV, CODCOM, USO_TIERRA, USO, SUBUSO, ESTRUCTURA, COBERTURA, ALTURA, TIPO_FORES, SUBTIPOFOR, ESPECI1_CI, ESPECI2_CI, ESPECI3_CI, ESPECI4_CI, ESPECI5_CI, ESPECI6_CI, ESPECI1_CO, ESPECI2_CO, ESPECI3_CO, ESPECI4_CO, ESPECI5_CO, ESPECI6_CO, ESP_C1, ESP_C2, TC, TIPO_POLI, NOM_SNASPE, TIPO_SNASP, NOM_REG, NOM_PROV, NOM_COM, SUPERF_HA, geom, cod_catastro, geo_geom]                                                                                                                  │ [BIGINT, VARCHAR, VARCHAR, VARCHAR, VARCHAR, VARCHAR, VARCHAR, VARCHAR, VARCHAR, VARCHAR, VARCHAR, VARCHAR, VARCHAR, VARCHAR, VARCHAR, VARCHAR, VARCHAR, VARCHAR, VARCHAR, VARCHAR, VARCHAR, VARCHAR, VARCHAR, VARCHAR, VARCHAR, VARCHAR, VARCHAR, VARCHAR, VARCHAR, VARCHAR, VARCHAR, VARCHAR, VARCHAR, VARCHAR, VARCHAR, VARCHAR, VARCHAR, VARCHAR, VARCHAR, VARCHAR, VARCHAR, VARCHAR, VARCHAR, VARCHAR, VARCHAR, VARCHAR, VARCHAR, VARCHAR, DOUBLE, GEOMETRY, VARCHAR, GEOMETRY]                                                                                    │ false     │\n",
              "│ memory   │ main    │ CL_MA_2017 │ [OBJECTID, ID, ID_USO, ID_SUBUSO, ID_ESTRUC, ID_COBER, ID_ALTU, ID_TIFO, ID_STIF, ID_ESP1, ID_ESP2, ID_ESP3, ID_ESP4, ID_ESP5, ID_ESP6, ORG_ESP_CC, ID_ESP_CC1, ID_ESP_CC2, CODREG, CODPROV, CODCOM, USO_TIERRA, USO, SUBUSO, ESTRUCTURA, COBERTURA, ALTURA, TIPO_FORES, SUBTIPOFOR, ESPECI1_CI, ESPECI2_CI, ESPECI3_CI, ESPECI4_CI, ESPECI5_CI, ESPECI6_CI, ESPECI1_CO, ESPECI2_CO, ESPECI3_CO, ESPECI4_CO, ESPECI5_CO, ESPECI6_CO, ESP_C1, ESP_C2, COOR_ESTE, COOR_NORTE, NOM_SNASPE, TIPO_SNASP, NOM_REG, NOM_PROV, NOM_COM, TC, TIPO_POLI, SUPERF_HA, SHAPE_Leng, SHAPE_Area, layer, path, geom, cod_catastro, geo_geom]                              │ [DOUBLE, BIGINT, VARCHAR, VARCHAR, VARCHAR, VARCHAR, VARCHAR, VARCHAR, VARCHAR, VARCHAR, VARCHAR, VARCHAR, VARCHAR, VARCHAR, VARCHAR, VARCHAR, VARCHAR, VARCHAR, VARCHAR, VARCHAR, VARCHAR, VARCHAR, VARCHAR, VARCHAR, VARCHAR, VARCHAR, VARCHAR, VARCHAR, VARCHAR, VARCHAR, VARCHAR, VARCHAR, VARCHAR, VARCHAR, VARCHAR, VARCHAR, VARCHAR, VARCHAR, VARCHAR, VARCHAR, VARCHAR, VARCHAR, VARCHAR, DOUBLE, DOUBLE, VARCHAR, VARCHAR, VARCHAR, VARCHAR, VARCHAR, VARCHAR, VARCHAR, DOUBLE, DOUBLE, DOUBLE, VARCHAR, VARCHAR, GEOMETRY, VARCHAR, GEOMETRY]                 │ false     │\n",
              "│ memory   │ main    │ CL_ML_2016 │ [OBJECTID, ID, ID_USO, ID_SUBUSO, ID_ESTRUC, ID_COBER, ID_ALTU, ID_TIFO, ID_STIF, ID_ESP1, ID_ESP2, ID_ESP3, ID_ESP4, ID_ESP5, ID_ESP6, ORG_ESP_CC, ID_ESP_CC1, ID_ESP_CC2, CODREG, CODPROV, CODCOM, USO_TIERRA, USO, SUBUSO, ESTRUCTURA, COBERTURA, ALTURA, TIPO_FORES, SUBTIPOFOR, ESPECI1_CI, ESPECI2_CI, ESPECI3_CI, ESPECI4_CI, ESPECI5_CI, ESPECI6_CI, ESPECI1_CO, ESPECI2_CO, ESPECI3_CO, ESPECI4_CO, ESPECI5_CO, ESPECI6_CO, ESP_C1, ESP_C2, COOR_ESTE, COOR_NORTE, NOM_SNASPE, TIPO_SNASP, NOM_REG, NOM_PROV, NOM_COM, TC, TIPO_POLI, SUPERF_HA, geom, cod_catastro, geo_geom]                                                                   │ [INTEGER, BIGINT, VARCHAR, VARCHAR, VARCHAR, VARCHAR, VARCHAR, VARCHAR, VARCHAR, VARCHAR, VARCHAR, VARCHAR, VARCHAR, VARCHAR, VARCHAR, VARCHAR, VARCHAR, VARCHAR, VARCHAR, VARCHAR, VARCHAR, VARCHAR, VARCHAR, VARCHAR, VARCHAR, VARCHAR, VARCHAR, VARCHAR, VARCHAR, VARCHAR, VARCHAR, VARCHAR, VARCHAR, VARCHAR, VARCHAR, VARCHAR, VARCHAR, VARCHAR, VARCHAR, VARCHAR, VARCHAR, VARCHAR, VARCHAR, DOUBLE, DOUBLE, VARCHAR, VARCHAR, VARCHAR, VARCHAR, VARCHAR, VARCHAR, VARCHAR, DOUBLE, GEOMETRY, VARCHAR, GEOMETRY]                                                  │ false     │\n",
              "│ memory   │ main    │ CL_NB_2015 │ [OBJECTID, ID, ID_USO, ID_SUBUSO, ID_ESTRUC, ID_COBER, ID_ALTU, ID_TIFO, ID_STIF, ID_ESP1, ID_ESP2, ID_ESP3, ID_ESP4, ID_ESP5, ID_ESP6, ORG_ESP_CC, ID_ESP_CC1, ID_ESP_CC2, CODREG, CODPROV, CODCOM, USO_TIERRA, USO, SUBUSO, ESTRUCTURA, COBERTURA, ALTURA, TIPO_FORES, SUBTIPOFOR, ESPECI1_CI, ESPECI2_CI, ESPECI3_CI, ESPECI4_CI, ESPECI5_CI, ESPECI6_CI, ESPECI1_CO, ESPECI2_CO, ESPECI3_CO, ESPECI4_CO, ESPECI5_CO, ESPECI6_CO, ESP_C1, ESP_C2, COOR_ESTE, COOR_NORTE, NOM_SNASPE, TIPO_SNASP, NOM_REG, NOM_PROV, NOM_COM, TC, TIPO_POLI, SUPERF_HA, BN, EST_ORIGEN, geom, cod_catastro, geo_geom]                                                   │ [BIGINT, DOUBLE, VARCHAR, VARCHAR, VARCHAR, VARCHAR, VARCHAR, VARCHAR, VARCHAR, VARCHAR, VARCHAR, VARCHAR, VARCHAR, VARCHAR, VARCHAR, VARCHAR, VARCHAR, VARCHAR, VARCHAR, VARCHAR, VARCHAR, VARCHAR, VARCHAR, VARCHAR, VARCHAR, VARCHAR, VARCHAR, VARCHAR, VARCHAR, VARCHAR, VARCHAR, VARCHAR, VARCHAR, VARCHAR, VARCHAR, VARCHAR, VARCHAR, VARCHAR, VARCHAR, VARCHAR, VARCHAR, VARCHAR, VARCHAR, DOUBLE, DOUBLE, VARCHAR, VARCHAR, VARCHAR, VARCHAR, VARCHAR, VARCHAR, VARCHAR, DOUBLE, VARCHAR, VARCHAR, GEOMETRY, VARCHAR, GEOMETRY]                                 │ false     │\n",
              "│ memory   │ main    │ CL_RM_2019 │ [objectid_1, id_uso, id_subuso, id_estruc, id_cober, id_altu, id_tifo, id_stif, id_esp1, id_esp2, id_esp3, id_esp4, id_esp5, id_esp6, org_esp_cc, id_esp_cc1, id_esp_cc2, codreg, codprov, codcom, uso_tierra, uso, subuso, estructura, cobertura, altura, tipo_fores, subtipofor, especi1_ci, especi2_ci, especi3_ci, especi4_ci, especi5_ci, especi6_ci, especi1_co, especi2_co, especi3_co, especi4_co, especi5_co, especi6_co, esp_c1, esp_c2, coor_este, coor_norte, nom_snaspe, tipo_snasp, nom_reg, nom_prov, nom_com, tc, tipo_poli, superf_ha, bn, geom, cod_catastro, geo_geom]                                                                 │ [BIGINT, VARCHAR, VARCHAR, VARCHAR, VARCHAR, VARCHAR, VARCHAR, VARCHAR, VARCHAR, VARCHAR, VARCHAR, VARCHAR, VARCHAR, VARCHAR, VARCHAR, VARCHAR, VARCHAR, VARCHAR, VARCHAR, VARCHAR, VARCHAR, VARCHAR, VARCHAR, VARCHAR, VARCHAR, VARCHAR, VARCHAR, VARCHAR, VARCHAR, VARCHAR, VARCHAR, VARCHAR, VARCHAR, VARCHAR, VARCHAR, VARCHAR, VARCHAR, VARCHAR, VARCHAR, VARCHAR, VARCHAR, VARCHAR, DOUBLE, DOUBLE, VARCHAR, VARCHAR, VARCHAR, VARCHAR, VARCHAR, VARCHAR, VARCHAR, DOUBLE, VARCHAR, GEOMETRY, VARCHAR, GEOMETRY]                                                  │ false     │\n",
              "│ memory   │ main    │ CL_TA_2016 │ [ID, ID_USO, ID_SUBUSO, ID_ESTRUC, ID_COBER, ID_ALTU, ID_TIFO, ID_STIF, ID_ESP1, ID_ESP2, ID_ESP3, ID_ESP4, ID_ESP5, ID_ESP6, ORG_ESP_CC, ID_ESP_CC1, ID_ESP_CC2, CODREG, CODPROV, CODCOM, USO_TIERRA, USO, SUBUSO, ESTRUCTURA, COBERTURA, ALTURA, TIPO_FORES, SUBTIPOFOR, ESPECI1_CI, ESPECI2_CI, ESPECI3_CI, ESPECI4_CI, ESPECI5_CI, ESPECI6_CI, ESPECI1_CO, ESPECI2_CO, ESPECI3_CO, ESPECI4_CO, ESPECI5_CO, ESPECI6_CO, ESP_C1, ESP_C2, COOR_ESTE, COOR_NORTE, NOM_SNASPE, TIPO_SNASP, NOM_REG, NOM_PROV, NOM_COM, TC, TIPO_POLI, SUPERF_HA, geom, cod_catastro, geo_geom]                                                                             │ [BIGINT, VARCHAR, VARCHAR, VARCHAR, VARCHAR, VARCHAR, VARCHAR, VARCHAR, VARCHAR, VARCHAR, VARCHAR, VARCHAR, VARCHAR, VARCHAR, VARCHAR, VARCHAR, VARCHAR, VARCHAR, VARCHAR, VARCHAR, VARCHAR, VARCHAR, VARCHAR, VARCHAR, VARCHAR, VARCHAR, VARCHAR, VARCHAR, VARCHAR, VARCHAR, VARCHAR, VARCHAR, VARCHAR, VARCHAR, VARCHAR, VARCHAR, VARCHAR, VARCHAR, VARCHAR, VARCHAR, VARCHAR, VARCHAR, DOUBLE, DOUBLE, VARCHAR, VARCHAR, VARCHAR, VARCHAR, VARCHAR, VARCHAR, VARCHAR, DOUBLE, GEOMETRY, VARCHAR, GEOMETRY]                                                           │ false     │\n",
              "│ memory   │ main    │ CL_VS_2019 │ [ID, ID_USO, ID_SUBUSO, ID_ESTRUC, ID_COBER, ID_ALTU, ID_TIFO, ID_STIF, ID_ESP1, ID_ESP2, ID_ESP3, ID_ESP4, ID_ESP5, ID_ESP6, ORG_ESP_CC, ID_ESP_CC1, ID_ESP_CC2, CODREG, CODPROV, CODCOM, USO_TIERRA, USO, SUBUSO, ESTRUCTURA, COBERTURA, ALTURA, TIPO_FORES, SUBTIPOFOR, ESPECI1_CI, ESPECI2_CI, ESPECI3_CI, ESPECI4_CI, ESPECI5_CI, ESPECI6_CI, ESPECI1_CO, ESPECI2_CO, ESPECI3_CO, ESPECI4_CO, ESPECI5_CO, ESPECI6_CO, ESP_C1, ESP_C2, COOR_ESTE, COOR_NORTE, NOM_SNASPE, TIPO_SNASP, NOM_REG, NOM_PROV, NOM_COM, TC, TIPO_POLI, SUPERF_HA, geom, cod_catastro, geo_geom]                                                                             │ [BIGINT, VARCHAR, VARCHAR, VARCHAR, VARCHAR, VARCHAR, VARCHAR, VARCHAR, VARCHAR, VARCHAR, VARCHAR, VARCHAR, VARCHAR, VARCHAR, VARCHAR, VARCHAR, VARCHAR, VARCHAR, VARCHAR, VARCHAR, VARCHAR, VARCHAR, VARCHAR, VARCHAR, VARCHAR, VARCHAR, VARCHAR, VARCHAR, VARCHAR, VARCHAR, VARCHAR, VARCHAR, VARCHAR, VARCHAR, VARCHAR, VARCHAR, VARCHAR, VARCHAR, VARCHAR, VARCHAR, VARCHAR, VARCHAR, DOUBLE, DOUBLE, VARCHAR, VARCHAR, VARCHAR, VARCHAR, VARCHAR, VARCHAR, VARCHAR, DOUBLE, GEOMETRY, VARCHAR, GEOMETRY]                                                           │ false     │\n",
              "├──────────┴─────────┴────────────┴───────────────────────────────────────────────────────────────────────────────────────────────────────────────────────────────────────────────────────────────────────────────────────────────────────────────────────────────────────────────────────────────────────────────────────────────────────────────────────────────────────────────────────────────────────────────────────────────────────────────────────────────────────────────────────────────────────────────────────────────────────────────────────────────────────────────────────────────────────────────────────────────────────────────────────────────────────────────────────────┴─────────────────────────────────────────────────────────────────────────────────────────────────────────────────────────────────────────────────────────────────────────────────────────────────────────────────────────────────────────────────────────────────────────────────────────────────────────────────────────────────────────────────────────────────────────────────────────────────────────────────────────────────────────────────────────────────────────────────────────────────────────────────────────────────────────────────────────────────────────┴───────────┤\n",
              "│ 16 rows                                                                                                                                                                                                                                                                                                                                                                                                                                                                                                                                                                                                                                                                                                                                                                                                                                                                                                                                                                                                                                                                                                                                                                                                                                                                 6 columns │\n",
              "└───────────────────────────────────────────────────────────────────────────────────────────────────────────────────────────────────────────────────────────────────────────────────────────────────────────────────────────────────────────────────────────────────────────────────────────────────────────────────────────────────────────────────────────────────────────────────────────────────────────────────────────────────────────────────────────────────────────────────────────────────────────────────────────────────────────────────────────────────────────────────────────────────────────────────────────────────────────────────────────────────────────────────────────────────────────────────────────────────────────────────────────────────────────────────────────────────────────────────────────────────────────────────────────────────────────────────────────────────────────────────────────────────────────────────────────────────────────────────────────────────────────────────────────────────────────────────────────────────────────────────────────────────────────────────────────────────────────────────────────────────────────────────────────────────────────────────────────────────────────────────────────────────────────────────┘"
            ]
          },
          "metadata": {},
          "execution_count": 45
        }
      ],
      "source": [
        "con.sql('''\n",
        "SHOW ALL TABLES\n",
        "''')"
      ]
    },
    {
      "cell_type": "code",
      "execution_count": 48,
      "metadata": {
        "id": "7AOEBYhVlgPf",
        "colab": {
          "base_uri": "https://localhost:8080/",
          "height": 460,
          "referenced_widgets": [
            "418b9b7b021840c7b5e9e18f2202d983",
            "5afb9162415644018d133ab6ad0a311f",
            "0efd10c856964532ab94eb84367240a8"
          ]
        },
        "outputId": "724e9e92-bf9b-4b31-8c72-ccb140c9dd1f"
      },
      "outputs": [
        {
          "output_type": "display_data",
          "data": {
            "text/plain": [
              "FloatProgress(value=0.0, layout=Layout(width='auto'), style=ProgressStyle(bar_color='black'))"
            ],
            "application/vnd.jupyter.widget-view+json": {
              "version_major": 2,
              "version_minor": 0,
              "model_id": "418b9b7b021840c7b5e9e18f2202d983"
            }
          },
          "metadata": {
            "application/vnd.jupyter.widget-view+json": {
              "colab": {
                "custom_widget_manager": {
                  "url": "https://ssl.gstatic.com/colaboratory-static/widgets/colab-cdn-widget-manager/2b70e893a8ba7c0f/manager.min.js"
                }
              }
            }
          }
        },
        {
          "output_type": "execute_result",
          "data": {
            "text/plain": [
              "┌──────────────┬──────────┬────────────────────┬────────────────────┐\n",
              "│ cod_catastro │ npolygon │       sup_c        │       sup_g        │\n",
              "│   varchar    │  int64   │       double       │       double       │\n",
              "├──────────────┼──────────┼────────────────────┼────────────────────┤\n",
              "│ CL_CO_2014   │    42025 │  4061627.690000006 │  4074280.125308202 │\n",
              "│ CL_AI_2011   │   103165 │ 10736056.099999996 │ 10736069.988596505 │\n",
              "│ CL_AN_2019   │    16724 │ 12605963.981340915 │ 12719062.451548794 │\n",
              "│ CL_VS_2019   │    65344 │ 1597536.3473222095 │ 1601869.1724999126 │\n",
              "│ CL_RM_2019   │    48716 │   1539631.94898864 │ 1545029.9923214463 │\n",
              "│ CL_AR_2017   │   196130 │  3178217.853233667 │  3180308.143380683 │\n",
              "│ CL_NB_2015   │    84031 │ 1310236.3590671052 │ 1310236.3590669618 │\n",
              "│ CL_AP_2015   │     5946 │ 1694479.6499999997 │ 1707846.1031168094 │\n",
              "│ CL_LL_2018   │   159146 │  4839491.890000015 │  4839492.264896011 │\n",
              "│ CL_LI_2013   │    71475 │ 1634436.2599999972 │ 1638333.2723468617 │\n",
              "│ CL_TA_2016   │    15344 │         4228366.52 │  4264258.299337942 │\n",
              "│ CL_LR_2017   │    65162 │ 1834964.1399999957 │ 1834964.1990637986 │\n",
              "│ CL_AT_2018   │    22784 │  7563725.901999997 │  7609958.900781026 │\n",
              "│ CL_BI_2015   │   188284 │ 2399067.6901271925 │  2399067.690127183 │\n",
              "│ CL_ML_2016   │   117165 │  3030764.780000001 │ 3030765.2602380803 │\n",
              "│ CL_MA_2017   │   286529 │ 13469451.389840588 │ 13469451.389839761 │\n",
              "├──────────────┴──────────┴────────────────────┴────────────────────┤\n",
              "│ 16 rows                                                 4 columns │\n",
              "└───────────────────────────────────────────────────────────────────┘"
            ]
          },
          "metadata": {},
          "execution_count": 48
        }
      ],
      "source": [
        "con.sql('''with aa as (\n",
        "SELECT cod_catastro, superf_ha,  geo_geom FROM CL_NB_2015\n",
        "union\n",
        "SELECT cod_catastro, superf_ha, geo_geom FROM CL_AI_2011\n",
        "union\n",
        "SELECT cod_catastro, superf_ha, geo_geom FROM CL_AN_2019\n",
        "union\n",
        "SELECT cod_catastro, superf_ha, geo_geom FROM CL_AP_2015\n",
        "union\n",
        "SELECT cod_catastro, superf_ha, geo_geom FROM CL_AT_2018\n",
        "union\n",
        "SELECT cod_catastro, superf_ha, geo_geom FROM CL_BI_2015\n",
        "union\n",
        "SELECT cod_catastro, superf_ha, geo_geom FROM CL_CO_2014\n",
        "union\n",
        "SELECT cod_catastro, superf_ha, geo_geom FROM CL_AR_2017\n",
        "union\n",
        "SELECT cod_catastro, superf_ha, geo_geom FROM CL_LI_2013\n",
        "union\n",
        "SELECT cod_catastro, superf_ha, geo_geom FROM CL_LL_2018\n",
        "union\n",
        "SELECT cod_catastro, superf_ha, geo_geom FROM CL_LR_2017\n",
        "union\n",
        "SELECT cod_catastro, superf_ha, geo_geom FROM CL_MA_2017\n",
        "union\n",
        "SELECT cod_catastro, superf_ha, geo_geom FROM CL_ML_2016\n",
        "union\n",
        "SELECT cod_catastro, superf_ha, geo_geom FROM CL_RM_2019\n",
        "union\n",
        "SELECT cod_catastro, superf_ha, geo_geom FROM CL_TA_2016\n",
        "union\n",
        "SELECT cod_catastro, superf_ha, geo_geom FROM CL_VS_2019\n",
        ")\n",
        "select cod_catastro,\n",
        "count(*) as npolygon,\n",
        "sum(superf_ha) as sup_c,\n",
        "sum(st_area(st_transform(geo_geom,'EPSG:4326','EPSG:32718'))/10000) as sup_g\n",
        "from aa\n",
        "group by cod_catastro\n",
        "''')\n"
      ]
    },
    {
      "cell_type": "code",
      "source": [
        "df"
      ],
      "metadata": {
        "colab": {
          "base_uri": "https://localhost:8080/",
          "height": 727
        },
        "id": "RFDDnkWs_eRW",
        "outputId": "604d37f7-05aa-4aeb-e0fc-86a3714ebbb9"
      },
      "execution_count": 27,
      "outputs": [
        {
          "output_type": "execute_result",
          "data": {
            "text/plain": [
              "   Category cod_region                                name_region  \\\n",
              "0    region      CL-AI  Aisén del General Carlos Ibañez del Campo   \n",
              "1    region      CL-AN                                Antofagasta   \n",
              "2    region      CL-AP                         Arica y Parinacota   \n",
              "3    region      CL-AT                                    Atacama   \n",
              "4    region      CL-BI                                     Biobío   \n",
              "5    region      CL-CO                                   Coquimbo   \n",
              "6    region      CL-AR                               La Araucanía   \n",
              "7    region      CL-LI      Libertador General Bernardo O'Higgins   \n",
              "8    region      CL-LL                                  Los Lagos   \n",
              "9    region      CL-LR                                   Los Ríos   \n",
              "10   region      CL-MA                                 Magallanes   \n",
              "11   region      CL-ML                                      Maule   \n",
              "12   region      CL-RM           Región Metropolitana de Santiago   \n",
              "13   region      CL-TA                                   Tarapacá   \n",
              "14   region      CL-VS                                 Valparaíso   \n",
              "15   region      CL-NB                                      Ñuble   \n",
              "\n",
              "     desc_region lenaguage  year_update         crs             file_name  \\\n",
              "0   Aysén, Aisén        es         2011  EPSG:32718  Catastro_RV_R11_2011   \n",
              "1            NaN        es         2019  EPSG:32719        cbn_reg02_2019   \n",
              "2            NaN        es         2015  EPSG:32719  catastro_RV_R15_2015   \n",
              "3            NaN        es         2018  EPSG:32719  catastro_rv_r03_2018   \n",
              "4            NaN        es         2015  EPSG:32718  Catastro_RV_R08_2015   \n",
              "5            NaN        es         2014  EPSG:32719  Catastro_RV_R04_2014   \n",
              "6            NaN        es         2017  EPSG:32718        cbn_09reg_2017   \n",
              "7      O'Higgins        es         2013  EPSG:32719  Catastro_RV_R06_2013   \n",
              "8            NaN        es         2018  EPSG:32718        cbn_10reg_2018   \n",
              "9            NaN        es         2017  EPSG:32718        cbn_14reg_2017   \n",
              "10           NaN        es         2017  EPSG:32718     cbn_2017_2019_r12   \n",
              "11           NaN        es         2016  EPSG:32718  Catastro_RV_R07_2016   \n",
              "12           NaN        es         2019  EPSG:32719   cbn_rm_2019_21feb24   \n",
              "13           NaN        es         2016  EPSG:32719  Catastro_RV_R01_2016   \n",
              "14           NaN        es         2019  EPSG:32719     cbn_05reg_2019_v2   \n",
              "15           NaN        es         2015  EPSG:32718  Catastro_RV_R16_2015   \n",
              "\n",
              "                                             file_url  \n",
              "0   https://ide.minagri.gob.cl/geoweb/storage/DESC...  \n",
              "1   https://ide.minagri.gob.cl/geoweb/storage/DESC...  \n",
              "2   https://ide.minagri.gob.cl/geoweb/storage/DESC...  \n",
              "3   https://ide.minagri.gob.cl/geoweb/storage/DESC...  \n",
              "4   https://ide.minagri.gob.cl/geoweb/storage/DESC...  \n",
              "5   https://ide.minagri.gob.cl/geoweb/storage/DESC...  \n",
              "6   https://ide.minagri.gob.cl/geoweb/storage/DESC...  \n",
              "7   https://ide.minagri.gob.cl/geoweb/storage/DESC...  \n",
              "8   https://ide.minagri.gob.cl/geoweb/storage/DESC...  \n",
              "9   https://ide.minagri.gob.cl/geoweb/storage/DESC...  \n",
              "10  https://ide.minagri.gob.cl/geoweb/storage/DESC...  \n",
              "11  https://ide.minagri.gob.cl/geoweb/storage/DESC...  \n",
              "12  https://ide.minagri.gob.cl/geoweb/storage/DESC...  \n",
              "13  https://ide.minagri.gob.cl/geoweb/storage/DESC...  \n",
              "14  https://ide.minagri.gob.cl/geoweb/storage/DESC...  \n",
              "15  https://ide.minagri.gob.cl/geoweb/storage/DESC...  "
            ],
            "text/html": [
              "\n",
              "  <div id=\"df-cec29de9-b7ae-4b7d-bbe1-ed70dae64b39\" class=\"colab-df-container\">\n",
              "    <div>\n",
              "<style scoped>\n",
              "    .dataframe tbody tr th:only-of-type {\n",
              "        vertical-align: middle;\n",
              "    }\n",
              "\n",
              "    .dataframe tbody tr th {\n",
              "        vertical-align: top;\n",
              "    }\n",
              "\n",
              "    .dataframe thead th {\n",
              "        text-align: right;\n",
              "    }\n",
              "</style>\n",
              "<table border=\"1\" class=\"dataframe\">\n",
              "  <thead>\n",
              "    <tr style=\"text-align: right;\">\n",
              "      <th></th>\n",
              "      <th>Category</th>\n",
              "      <th>cod_region</th>\n",
              "      <th>name_region</th>\n",
              "      <th>desc_region</th>\n",
              "      <th>lenaguage</th>\n",
              "      <th>year_update</th>\n",
              "      <th>crs</th>\n",
              "      <th>file_name</th>\n",
              "      <th>file_url</th>\n",
              "    </tr>\n",
              "  </thead>\n",
              "  <tbody>\n",
              "    <tr>\n",
              "      <th>0</th>\n",
              "      <td>region</td>\n",
              "      <td>CL-AI</td>\n",
              "      <td>Aisén del General Carlos Ibañez del Campo</td>\n",
              "      <td>Aysén, Aisén</td>\n",
              "      <td>es</td>\n",
              "      <td>2011</td>\n",
              "      <td>EPSG:32718</td>\n",
              "      <td>Catastro_RV_R11_2011</td>\n",
              "      <td>https://ide.minagri.gob.cl/geoweb/storage/DESC...</td>\n",
              "    </tr>\n",
              "    <tr>\n",
              "      <th>1</th>\n",
              "      <td>region</td>\n",
              "      <td>CL-AN</td>\n",
              "      <td>Antofagasta</td>\n",
              "      <td>NaN</td>\n",
              "      <td>es</td>\n",
              "      <td>2019</td>\n",
              "      <td>EPSG:32719</td>\n",
              "      <td>cbn_reg02_2019</td>\n",
              "      <td>https://ide.minagri.gob.cl/geoweb/storage/DESC...</td>\n",
              "    </tr>\n",
              "    <tr>\n",
              "      <th>2</th>\n",
              "      <td>region</td>\n",
              "      <td>CL-AP</td>\n",
              "      <td>Arica y Parinacota</td>\n",
              "      <td>NaN</td>\n",
              "      <td>es</td>\n",
              "      <td>2015</td>\n",
              "      <td>EPSG:32719</td>\n",
              "      <td>catastro_RV_R15_2015</td>\n",
              "      <td>https://ide.minagri.gob.cl/geoweb/storage/DESC...</td>\n",
              "    </tr>\n",
              "    <tr>\n",
              "      <th>3</th>\n",
              "      <td>region</td>\n",
              "      <td>CL-AT</td>\n",
              "      <td>Atacama</td>\n",
              "      <td>NaN</td>\n",
              "      <td>es</td>\n",
              "      <td>2018</td>\n",
              "      <td>EPSG:32719</td>\n",
              "      <td>catastro_rv_r03_2018</td>\n",
              "      <td>https://ide.minagri.gob.cl/geoweb/storage/DESC...</td>\n",
              "    </tr>\n",
              "    <tr>\n",
              "      <th>4</th>\n",
              "      <td>region</td>\n",
              "      <td>CL-BI</td>\n",
              "      <td>Biobío</td>\n",
              "      <td>NaN</td>\n",
              "      <td>es</td>\n",
              "      <td>2015</td>\n",
              "      <td>EPSG:32718</td>\n",
              "      <td>Catastro_RV_R08_2015</td>\n",
              "      <td>https://ide.minagri.gob.cl/geoweb/storage/DESC...</td>\n",
              "    </tr>\n",
              "    <tr>\n",
              "      <th>5</th>\n",
              "      <td>region</td>\n",
              "      <td>CL-CO</td>\n",
              "      <td>Coquimbo</td>\n",
              "      <td>NaN</td>\n",
              "      <td>es</td>\n",
              "      <td>2014</td>\n",
              "      <td>EPSG:32719</td>\n",
              "      <td>Catastro_RV_R04_2014</td>\n",
              "      <td>https://ide.minagri.gob.cl/geoweb/storage/DESC...</td>\n",
              "    </tr>\n",
              "    <tr>\n",
              "      <th>6</th>\n",
              "      <td>region</td>\n",
              "      <td>CL-AR</td>\n",
              "      <td>La Araucanía</td>\n",
              "      <td>NaN</td>\n",
              "      <td>es</td>\n",
              "      <td>2017</td>\n",
              "      <td>EPSG:32718</td>\n",
              "      <td>cbn_09reg_2017</td>\n",
              "      <td>https://ide.minagri.gob.cl/geoweb/storage/DESC...</td>\n",
              "    </tr>\n",
              "    <tr>\n",
              "      <th>7</th>\n",
              "      <td>region</td>\n",
              "      <td>CL-LI</td>\n",
              "      <td>Libertador General Bernardo O'Higgins</td>\n",
              "      <td>O'Higgins</td>\n",
              "      <td>es</td>\n",
              "      <td>2013</td>\n",
              "      <td>EPSG:32719</td>\n",
              "      <td>Catastro_RV_R06_2013</td>\n",
              "      <td>https://ide.minagri.gob.cl/geoweb/storage/DESC...</td>\n",
              "    </tr>\n",
              "    <tr>\n",
              "      <th>8</th>\n",
              "      <td>region</td>\n",
              "      <td>CL-LL</td>\n",
              "      <td>Los Lagos</td>\n",
              "      <td>NaN</td>\n",
              "      <td>es</td>\n",
              "      <td>2018</td>\n",
              "      <td>EPSG:32718</td>\n",
              "      <td>cbn_10reg_2018</td>\n",
              "      <td>https://ide.minagri.gob.cl/geoweb/storage/DESC...</td>\n",
              "    </tr>\n",
              "    <tr>\n",
              "      <th>9</th>\n",
              "      <td>region</td>\n",
              "      <td>CL-LR</td>\n",
              "      <td>Los Ríos</td>\n",
              "      <td>NaN</td>\n",
              "      <td>es</td>\n",
              "      <td>2017</td>\n",
              "      <td>EPSG:32718</td>\n",
              "      <td>cbn_14reg_2017</td>\n",
              "      <td>https://ide.minagri.gob.cl/geoweb/storage/DESC...</td>\n",
              "    </tr>\n",
              "    <tr>\n",
              "      <th>10</th>\n",
              "      <td>region</td>\n",
              "      <td>CL-MA</td>\n",
              "      <td>Magallanes</td>\n",
              "      <td>NaN</td>\n",
              "      <td>es</td>\n",
              "      <td>2017</td>\n",
              "      <td>EPSG:32718</td>\n",
              "      <td>cbn_2017_2019_r12</td>\n",
              "      <td>https://ide.minagri.gob.cl/geoweb/storage/DESC...</td>\n",
              "    </tr>\n",
              "    <tr>\n",
              "      <th>11</th>\n",
              "      <td>region</td>\n",
              "      <td>CL-ML</td>\n",
              "      <td>Maule</td>\n",
              "      <td>NaN</td>\n",
              "      <td>es</td>\n",
              "      <td>2016</td>\n",
              "      <td>EPSG:32718</td>\n",
              "      <td>Catastro_RV_R07_2016</td>\n",
              "      <td>https://ide.minagri.gob.cl/geoweb/storage/DESC...</td>\n",
              "    </tr>\n",
              "    <tr>\n",
              "      <th>12</th>\n",
              "      <td>region</td>\n",
              "      <td>CL-RM</td>\n",
              "      <td>Región Metropolitana de Santiago</td>\n",
              "      <td>NaN</td>\n",
              "      <td>es</td>\n",
              "      <td>2019</td>\n",
              "      <td>EPSG:32719</td>\n",
              "      <td>cbn_rm_2019_21feb24</td>\n",
              "      <td>https://ide.minagri.gob.cl/geoweb/storage/DESC...</td>\n",
              "    </tr>\n",
              "    <tr>\n",
              "      <th>13</th>\n",
              "      <td>region</td>\n",
              "      <td>CL-TA</td>\n",
              "      <td>Tarapacá</td>\n",
              "      <td>NaN</td>\n",
              "      <td>es</td>\n",
              "      <td>2016</td>\n",
              "      <td>EPSG:32719</td>\n",
              "      <td>Catastro_RV_R01_2016</td>\n",
              "      <td>https://ide.minagri.gob.cl/geoweb/storage/DESC...</td>\n",
              "    </tr>\n",
              "    <tr>\n",
              "      <th>14</th>\n",
              "      <td>region</td>\n",
              "      <td>CL-VS</td>\n",
              "      <td>Valparaíso</td>\n",
              "      <td>NaN</td>\n",
              "      <td>es</td>\n",
              "      <td>2019</td>\n",
              "      <td>EPSG:32719</td>\n",
              "      <td>cbn_05reg_2019_v2</td>\n",
              "      <td>https://ide.minagri.gob.cl/geoweb/storage/DESC...</td>\n",
              "    </tr>\n",
              "    <tr>\n",
              "      <th>15</th>\n",
              "      <td>region</td>\n",
              "      <td>CL-NB</td>\n",
              "      <td>Ñuble</td>\n",
              "      <td>NaN</td>\n",
              "      <td>es</td>\n",
              "      <td>2015</td>\n",
              "      <td>EPSG:32718</td>\n",
              "      <td>Catastro_RV_R16_2015</td>\n",
              "      <td>https://ide.minagri.gob.cl/geoweb/storage/DESC...</td>\n",
              "    </tr>\n",
              "  </tbody>\n",
              "</table>\n",
              "</div>\n",
              "    <div class=\"colab-df-buttons\">\n",
              "\n",
              "  <div class=\"colab-df-container\">\n",
              "    <button class=\"colab-df-convert\" onclick=\"convertToInteractive('df-cec29de9-b7ae-4b7d-bbe1-ed70dae64b39')\"\n",
              "            title=\"Convert this dataframe to an interactive table.\"\n",
              "            style=\"display:none;\">\n",
              "\n",
              "  <svg xmlns=\"http://www.w3.org/2000/svg\" height=\"24px\" viewBox=\"0 -960 960 960\">\n",
              "    <path d=\"M120-120v-720h720v720H120Zm60-500h600v-160H180v160Zm220 220h160v-160H400v160Zm0 220h160v-160H400v160ZM180-400h160v-160H180v160Zm440 0h160v-160H620v160ZM180-180h160v-160H180v160Zm440 0h160v-160H620v160Z\"/>\n",
              "  </svg>\n",
              "    </button>\n",
              "\n",
              "  <style>\n",
              "    .colab-df-container {\n",
              "      display:flex;\n",
              "      gap: 12px;\n",
              "    }\n",
              "\n",
              "    .colab-df-convert {\n",
              "      background-color: #E8F0FE;\n",
              "      border: none;\n",
              "      border-radius: 50%;\n",
              "      cursor: pointer;\n",
              "      display: none;\n",
              "      fill: #1967D2;\n",
              "      height: 32px;\n",
              "      padding: 0 0 0 0;\n",
              "      width: 32px;\n",
              "    }\n",
              "\n",
              "    .colab-df-convert:hover {\n",
              "      background-color: #E2EBFA;\n",
              "      box-shadow: 0px 1px 2px rgba(60, 64, 67, 0.3), 0px 1px 3px 1px rgba(60, 64, 67, 0.15);\n",
              "      fill: #174EA6;\n",
              "    }\n",
              "\n",
              "    .colab-df-buttons div {\n",
              "      margin-bottom: 4px;\n",
              "    }\n",
              "\n",
              "    [theme=dark] .colab-df-convert {\n",
              "      background-color: #3B4455;\n",
              "      fill: #D2E3FC;\n",
              "    }\n",
              "\n",
              "    [theme=dark] .colab-df-convert:hover {\n",
              "      background-color: #434B5C;\n",
              "      box-shadow: 0px 1px 3px 1px rgba(0, 0, 0, 0.15);\n",
              "      filter: drop-shadow(0px 1px 2px rgba(0, 0, 0, 0.3));\n",
              "      fill: #FFFFFF;\n",
              "    }\n",
              "  </style>\n",
              "\n",
              "    <script>\n",
              "      const buttonEl =\n",
              "        document.querySelector('#df-cec29de9-b7ae-4b7d-bbe1-ed70dae64b39 button.colab-df-convert');\n",
              "      buttonEl.style.display =\n",
              "        google.colab.kernel.accessAllowed ? 'block' : 'none';\n",
              "\n",
              "      async function convertToInteractive(key) {\n",
              "        const element = document.querySelector('#df-cec29de9-b7ae-4b7d-bbe1-ed70dae64b39');\n",
              "        const dataTable =\n",
              "          await google.colab.kernel.invokeFunction('convertToInteractive',\n",
              "                                                    [key], {});\n",
              "        if (!dataTable) return;\n",
              "\n",
              "        const docLinkHtml = 'Like what you see? Visit the ' +\n",
              "          '<a target=\"_blank\" href=https://colab.research.google.com/notebooks/data_table.ipynb>data table notebook</a>'\n",
              "          + ' to learn more about interactive tables.';\n",
              "        element.innerHTML = '';\n",
              "        dataTable['output_type'] = 'display_data';\n",
              "        await google.colab.output.renderOutput(dataTable, element);\n",
              "        const docLink = document.createElement('div');\n",
              "        docLink.innerHTML = docLinkHtml;\n",
              "        element.appendChild(docLink);\n",
              "      }\n",
              "    </script>\n",
              "  </div>\n",
              "\n",
              "\n",
              "<div id=\"df-2fe5c278-7560-457d-92c5-669deeedf2ec\">\n",
              "  <button class=\"colab-df-quickchart\" onclick=\"quickchart('df-2fe5c278-7560-457d-92c5-669deeedf2ec')\"\n",
              "            title=\"Suggest charts\"\n",
              "            style=\"display:none;\">\n",
              "\n",
              "<svg xmlns=\"http://www.w3.org/2000/svg\" height=\"24px\"viewBox=\"0 0 24 24\"\n",
              "     width=\"24px\">\n",
              "    <g>\n",
              "        <path d=\"M19 3H5c-1.1 0-2 .9-2 2v14c0 1.1.9 2 2 2h14c1.1 0 2-.9 2-2V5c0-1.1-.9-2-2-2zM9 17H7v-7h2v7zm4 0h-2V7h2v10zm4 0h-2v-4h2v4z\"/>\n",
              "    </g>\n",
              "</svg>\n",
              "  </button>\n",
              "\n",
              "<style>\n",
              "  .colab-df-quickchart {\n",
              "      --bg-color: #E8F0FE;\n",
              "      --fill-color: #1967D2;\n",
              "      --hover-bg-color: #E2EBFA;\n",
              "      --hover-fill-color: #174EA6;\n",
              "      --disabled-fill-color: #AAA;\n",
              "      --disabled-bg-color: #DDD;\n",
              "  }\n",
              "\n",
              "  [theme=dark] .colab-df-quickchart {\n",
              "      --bg-color: #3B4455;\n",
              "      --fill-color: #D2E3FC;\n",
              "      --hover-bg-color: #434B5C;\n",
              "      --hover-fill-color: #FFFFFF;\n",
              "      --disabled-bg-color: #3B4455;\n",
              "      --disabled-fill-color: #666;\n",
              "  }\n",
              "\n",
              "  .colab-df-quickchart {\n",
              "    background-color: var(--bg-color);\n",
              "    border: none;\n",
              "    border-radius: 50%;\n",
              "    cursor: pointer;\n",
              "    display: none;\n",
              "    fill: var(--fill-color);\n",
              "    height: 32px;\n",
              "    padding: 0;\n",
              "    width: 32px;\n",
              "  }\n",
              "\n",
              "  .colab-df-quickchart:hover {\n",
              "    background-color: var(--hover-bg-color);\n",
              "    box-shadow: 0 1px 2px rgba(60, 64, 67, 0.3), 0 1px 3px 1px rgba(60, 64, 67, 0.15);\n",
              "    fill: var(--button-hover-fill-color);\n",
              "  }\n",
              "\n",
              "  .colab-df-quickchart-complete:disabled,\n",
              "  .colab-df-quickchart-complete:disabled:hover {\n",
              "    background-color: var(--disabled-bg-color);\n",
              "    fill: var(--disabled-fill-color);\n",
              "    box-shadow: none;\n",
              "  }\n",
              "\n",
              "  .colab-df-spinner {\n",
              "    border: 2px solid var(--fill-color);\n",
              "    border-color: transparent;\n",
              "    border-bottom-color: var(--fill-color);\n",
              "    animation:\n",
              "      spin 1s steps(1) infinite;\n",
              "  }\n",
              "\n",
              "  @keyframes spin {\n",
              "    0% {\n",
              "      border-color: transparent;\n",
              "      border-bottom-color: var(--fill-color);\n",
              "      border-left-color: var(--fill-color);\n",
              "    }\n",
              "    20% {\n",
              "      border-color: transparent;\n",
              "      border-left-color: var(--fill-color);\n",
              "      border-top-color: var(--fill-color);\n",
              "    }\n",
              "    30% {\n",
              "      border-color: transparent;\n",
              "      border-left-color: var(--fill-color);\n",
              "      border-top-color: var(--fill-color);\n",
              "      border-right-color: var(--fill-color);\n",
              "    }\n",
              "    40% {\n",
              "      border-color: transparent;\n",
              "      border-right-color: var(--fill-color);\n",
              "      border-top-color: var(--fill-color);\n",
              "    }\n",
              "    60% {\n",
              "      border-color: transparent;\n",
              "      border-right-color: var(--fill-color);\n",
              "    }\n",
              "    80% {\n",
              "      border-color: transparent;\n",
              "      border-right-color: var(--fill-color);\n",
              "      border-bottom-color: var(--fill-color);\n",
              "    }\n",
              "    90% {\n",
              "      border-color: transparent;\n",
              "      border-bottom-color: var(--fill-color);\n",
              "    }\n",
              "  }\n",
              "</style>\n",
              "\n",
              "  <script>\n",
              "    async function quickchart(key) {\n",
              "      const quickchartButtonEl =\n",
              "        document.querySelector('#' + key + ' button');\n",
              "      quickchartButtonEl.disabled = true;  // To prevent multiple clicks.\n",
              "      quickchartButtonEl.classList.add('colab-df-spinner');\n",
              "      try {\n",
              "        const charts = await google.colab.kernel.invokeFunction(\n",
              "            'suggestCharts', [key], {});\n",
              "      } catch (error) {\n",
              "        console.error('Error during call to suggestCharts:', error);\n",
              "      }\n",
              "      quickchartButtonEl.classList.remove('colab-df-spinner');\n",
              "      quickchartButtonEl.classList.add('colab-df-quickchart-complete');\n",
              "    }\n",
              "    (() => {\n",
              "      let quickchartButtonEl =\n",
              "        document.querySelector('#df-2fe5c278-7560-457d-92c5-669deeedf2ec button');\n",
              "      quickchartButtonEl.style.display =\n",
              "        google.colab.kernel.accessAllowed ? 'block' : 'none';\n",
              "    })();\n",
              "  </script>\n",
              "</div>\n",
              "\n",
              "  <div id=\"id_7d07b903-4093-44d6-92ff-29a879eb5257\">\n",
              "    <style>\n",
              "      .colab-df-generate {\n",
              "        background-color: #E8F0FE;\n",
              "        border: none;\n",
              "        border-radius: 50%;\n",
              "        cursor: pointer;\n",
              "        display: none;\n",
              "        fill: #1967D2;\n",
              "        height: 32px;\n",
              "        padding: 0 0 0 0;\n",
              "        width: 32px;\n",
              "      }\n",
              "\n",
              "      .colab-df-generate:hover {\n",
              "        background-color: #E2EBFA;\n",
              "        box-shadow: 0px 1px 2px rgba(60, 64, 67, 0.3), 0px 1px 3px 1px rgba(60, 64, 67, 0.15);\n",
              "        fill: #174EA6;\n",
              "      }\n",
              "\n",
              "      [theme=dark] .colab-df-generate {\n",
              "        background-color: #3B4455;\n",
              "        fill: #D2E3FC;\n",
              "      }\n",
              "\n",
              "      [theme=dark] .colab-df-generate:hover {\n",
              "        background-color: #434B5C;\n",
              "        box-shadow: 0px 1px 3px 1px rgba(0, 0, 0, 0.15);\n",
              "        filter: drop-shadow(0px 1px 2px rgba(0, 0, 0, 0.3));\n",
              "        fill: #FFFFFF;\n",
              "      }\n",
              "    </style>\n",
              "    <button class=\"colab-df-generate\" onclick=\"generateWithVariable('df')\"\n",
              "            title=\"Generate code using this dataframe.\"\n",
              "            style=\"display:none;\">\n",
              "\n",
              "  <svg xmlns=\"http://www.w3.org/2000/svg\" height=\"24px\"viewBox=\"0 0 24 24\"\n",
              "       width=\"24px\">\n",
              "    <path d=\"M7,19H8.4L18.45,9,17,7.55,7,17.6ZM5,21V16.75L18.45,3.32a2,2,0,0,1,2.83,0l1.4,1.43a1.91,1.91,0,0,1,.58,1.4,1.91,1.91,0,0,1-.58,1.4L9.25,21ZM18.45,9,17,7.55Zm-12,3A5.31,5.31,0,0,0,4.9,8.1,5.31,5.31,0,0,0,1,6.5,5.31,5.31,0,0,0,4.9,4.9,5.31,5.31,0,0,0,6.5,1,5.31,5.31,0,0,0,8.1,4.9,5.31,5.31,0,0,0,12,6.5,5.46,5.46,0,0,0,6.5,12Z\"/>\n",
              "  </svg>\n",
              "    </button>\n",
              "    <script>\n",
              "      (() => {\n",
              "      const buttonEl =\n",
              "        document.querySelector('#id_7d07b903-4093-44d6-92ff-29a879eb5257 button.colab-df-generate');\n",
              "      buttonEl.style.display =\n",
              "        google.colab.kernel.accessAllowed ? 'block' : 'none';\n",
              "\n",
              "      buttonEl.onclick = () => {\n",
              "        google.colab.notebook.generateWithVariable('df');\n",
              "      }\n",
              "      })();\n",
              "    </script>\n",
              "  </div>\n",
              "\n",
              "    </div>\n",
              "  </div>\n"
            ],
            "application/vnd.google.colaboratory.intrinsic+json": {
              "type": "dataframe",
              "variable_name": "df",
              "summary": "{\n  \"name\": \"df\",\n  \"rows\": 16,\n  \"fields\": [\n    {\n      \"column\": \"Category\",\n      \"properties\": {\n        \"dtype\": \"category\",\n        \"num_unique_values\": 1,\n        \"samples\": [\n          \"region\"\n        ],\n        \"semantic_type\": \"\",\n        \"description\": \"\"\n      }\n    },\n    {\n      \"column\": \"cod_region\",\n      \"properties\": {\n        \"dtype\": \"string\",\n        \"num_unique_values\": 16,\n        \"samples\": [\n          \"CL-AI\"\n        ],\n        \"semantic_type\": \"\",\n        \"description\": \"\"\n      }\n    },\n    {\n      \"column\": \"name_region\",\n      \"properties\": {\n        \"dtype\": \"string\",\n        \"num_unique_values\": 16,\n        \"samples\": [\n          \"Ais\\u00e9n del General Carlos Iba\\u00f1ez del Campo\"\n        ],\n        \"semantic_type\": \"\",\n        \"description\": \"\"\n      }\n    },\n    {\n      \"column\": \"desc_region\",\n      \"properties\": {\n        \"dtype\": \"category\",\n        \"num_unique_values\": 2,\n        \"samples\": [\n          \"O'Higgins\"\n        ],\n        \"semantic_type\": \"\",\n        \"description\": \"\"\n      }\n    },\n    {\n      \"column\": \"lenaguage\",\n      \"properties\": {\n        \"dtype\": \"category\",\n        \"num_unique_values\": 1,\n        \"samples\": [\n          \"es\"\n        ],\n        \"semantic_type\": \"\",\n        \"description\": \"\"\n      }\n    },\n    {\n      \"column\": \"year_update\",\n      \"properties\": {\n        \"dtype\": \"number\",\n        \"std\": 2,\n        \"min\": 2011,\n        \"max\": 2019,\n        \"num_unique_values\": 8,\n        \"samples\": [\n          2019\n        ],\n        \"semantic_type\": \"\",\n        \"description\": \"\"\n      }\n    },\n    {\n      \"column\": \"crs\",\n      \"properties\": {\n        \"dtype\": \"category\",\n        \"num_unique_values\": 2,\n        \"samples\": [\n          \"EPSG:32719\"\n        ],\n        \"semantic_type\": \"\",\n        \"description\": \"\"\n      }\n    },\n    {\n      \"column\": \"file_name\",\n      \"properties\": {\n        \"dtype\": \"string\",\n        \"num_unique_values\": 16,\n        \"samples\": [\n          \"Catastro_RV_R11_2011\"\n        ],\n        \"semantic_type\": \"\",\n        \"description\": \"\"\n      }\n    },\n    {\n      \"column\": \"file_url\",\n      \"properties\": {\n        \"dtype\": \"string\",\n        \"num_unique_values\": 16,\n        \"samples\": [\n          \"https://ide.minagri.gob.cl/geoweb/storage/DESCARGAS/CAPAS/PLANIFICACION_CATASTRAL/CATASTRO_CONAF/11.%20Regin%20de%20Aysn.rar\"\n        ],\n        \"semantic_type\": \"\",\n        \"description\": \"\"\n      }\n    }\n  ]\n}"
            }
          },
          "metadata": {},
          "execution_count": 27
        }
      ]
    }
  ],
  "metadata": {
    "colab": {
      "provenance": [],
      "gpuType": "V28",
      "mount_file_id": "11ncdfH7IfRj9bmiwg2WqybRGIm4-E5ee",
      "authorship_tag": "ABX9TyNmde9EgGyTnRxoDX4Xsvi0",
      "include_colab_link": true
    },
    "kernelspec": {
      "display_name": "Python 3",
      "name": "python3"
    },
    "language_info": {
      "name": "python"
    },
    "widgets": {
      "application/vnd.jupyter.widget-state+json": {
        "6125da729393490ba28f759e58765908": {
          "model_module": "@jupyter-widgets/controls",
          "model_name": "FloatProgressModel",
          "model_module_version": "1.5.0",
          "state": {
            "_dom_classes": [],
            "_model_module": "@jupyter-widgets/controls",
            "_model_module_version": "1.5.0",
            "_model_name": "FloatProgressModel",
            "_view_count": null,
            "_view_module": "@jupyter-widgets/controls",
            "_view_module_version": "1.5.0",
            "_view_name": "ProgressView",
            "bar_style": "",
            "description": "",
            "description_tooltip": null,
            "layout": "IPY_MODEL_0e74d172c5e54d4faa7a3df45635fc70",
            "max": 100,
            "min": 0,
            "orientation": "horizontal",
            "style": "IPY_MODEL_aca0a9bb026f419f8070d69ed7802f83",
            "value": 100
          }
        },
        "0e74d172c5e54d4faa7a3df45635fc70": {
          "model_module": "@jupyter-widgets/base",
          "model_name": "LayoutModel",
          "model_module_version": "1.2.0",
          "state": {
            "_model_module": "@jupyter-widgets/base",
            "_model_module_version": "1.2.0",
            "_model_name": "LayoutModel",
            "_view_count": null,
            "_view_module": "@jupyter-widgets/base",
            "_view_module_version": "1.2.0",
            "_view_name": "LayoutView",
            "align_content": null,
            "align_items": null,
            "align_self": null,
            "border": null,
            "bottom": null,
            "display": null,
            "flex": null,
            "flex_flow": null,
            "grid_area": null,
            "grid_auto_columns": null,
            "grid_auto_flow": null,
            "grid_auto_rows": null,
            "grid_column": null,
            "grid_gap": null,
            "grid_row": null,
            "grid_template_areas": null,
            "grid_template_columns": null,
            "grid_template_rows": null,
            "height": null,
            "justify_content": null,
            "justify_items": null,
            "left": null,
            "margin": null,
            "max_height": null,
            "max_width": null,
            "min_height": null,
            "min_width": null,
            "object_fit": null,
            "object_position": null,
            "order": null,
            "overflow": null,
            "overflow_x": null,
            "overflow_y": null,
            "padding": null,
            "right": null,
            "top": null,
            "visibility": null,
            "width": "auto"
          }
        },
        "aca0a9bb026f419f8070d69ed7802f83": {
          "model_module": "@jupyter-widgets/controls",
          "model_name": "ProgressStyleModel",
          "model_module_version": "1.5.0",
          "state": {
            "_model_module": "@jupyter-widgets/controls",
            "_model_module_version": "1.5.0",
            "_model_name": "ProgressStyleModel",
            "_view_count": null,
            "_view_module": "@jupyter-widgets/base",
            "_view_module_version": "1.2.0",
            "_view_name": "StyleView",
            "bar_color": "black",
            "description_width": ""
          }
        },
        "89c63e8aa208449ab750c2401ea27862": {
          "model_module": "@jupyter-widgets/controls",
          "model_name": "FloatProgressModel",
          "model_module_version": "1.5.0",
          "state": {
            "_dom_classes": [],
            "_model_module": "@jupyter-widgets/controls",
            "_model_module_version": "1.5.0",
            "_model_name": "FloatProgressModel",
            "_view_count": null,
            "_view_module": "@jupyter-widgets/controls",
            "_view_module_version": "1.5.0",
            "_view_name": "ProgressView",
            "bar_style": "",
            "description": "",
            "description_tooltip": null,
            "layout": "IPY_MODEL_b74a8cf0f6384f03bd8ce61736c8959c",
            "max": 100,
            "min": 0,
            "orientation": "horizontal",
            "style": "IPY_MODEL_32a53a63bfb8412882c74fc493f3117e",
            "value": 100
          }
        },
        "b74a8cf0f6384f03bd8ce61736c8959c": {
          "model_module": "@jupyter-widgets/base",
          "model_name": "LayoutModel",
          "model_module_version": "1.2.0",
          "state": {
            "_model_module": "@jupyter-widgets/base",
            "_model_module_version": "1.2.0",
            "_model_name": "LayoutModel",
            "_view_count": null,
            "_view_module": "@jupyter-widgets/base",
            "_view_module_version": "1.2.0",
            "_view_name": "LayoutView",
            "align_content": null,
            "align_items": null,
            "align_self": null,
            "border": null,
            "bottom": null,
            "display": null,
            "flex": null,
            "flex_flow": null,
            "grid_area": null,
            "grid_auto_columns": null,
            "grid_auto_flow": null,
            "grid_auto_rows": null,
            "grid_column": null,
            "grid_gap": null,
            "grid_row": null,
            "grid_template_areas": null,
            "grid_template_columns": null,
            "grid_template_rows": null,
            "height": null,
            "justify_content": null,
            "justify_items": null,
            "left": null,
            "margin": null,
            "max_height": null,
            "max_width": null,
            "min_height": null,
            "min_width": null,
            "object_fit": null,
            "object_position": null,
            "order": null,
            "overflow": null,
            "overflow_x": null,
            "overflow_y": null,
            "padding": null,
            "right": null,
            "top": null,
            "visibility": null,
            "width": "auto"
          }
        },
        "32a53a63bfb8412882c74fc493f3117e": {
          "model_module": "@jupyter-widgets/controls",
          "model_name": "ProgressStyleModel",
          "model_module_version": "1.5.0",
          "state": {
            "_model_module": "@jupyter-widgets/controls",
            "_model_module_version": "1.5.0",
            "_model_name": "ProgressStyleModel",
            "_view_count": null,
            "_view_module": "@jupyter-widgets/base",
            "_view_module_version": "1.2.0",
            "_view_name": "StyleView",
            "bar_color": "black",
            "description_width": ""
          }
        },
        "4cc749b41ef648a188a0ec35c4e02e32": {
          "model_module": "@jupyter-widgets/controls",
          "model_name": "FloatProgressModel",
          "model_module_version": "1.5.0",
          "state": {
            "_dom_classes": [],
            "_model_module": "@jupyter-widgets/controls",
            "_model_module_version": "1.5.0",
            "_model_name": "FloatProgressModel",
            "_view_count": null,
            "_view_module": "@jupyter-widgets/controls",
            "_view_module_version": "1.5.0",
            "_view_name": "ProgressView",
            "bar_style": "",
            "description": "",
            "description_tooltip": null,
            "layout": "IPY_MODEL_31c8857a1ffb48c6ad9dd868ec0002bf",
            "max": 100,
            "min": 0,
            "orientation": "horizontal",
            "style": "IPY_MODEL_6ff97a611d13425cb7baf6986b60329c",
            "value": 100
          }
        },
        "31c8857a1ffb48c6ad9dd868ec0002bf": {
          "model_module": "@jupyter-widgets/base",
          "model_name": "LayoutModel",
          "model_module_version": "1.2.0",
          "state": {
            "_model_module": "@jupyter-widgets/base",
            "_model_module_version": "1.2.0",
            "_model_name": "LayoutModel",
            "_view_count": null,
            "_view_module": "@jupyter-widgets/base",
            "_view_module_version": "1.2.0",
            "_view_name": "LayoutView",
            "align_content": null,
            "align_items": null,
            "align_self": null,
            "border": null,
            "bottom": null,
            "display": null,
            "flex": null,
            "flex_flow": null,
            "grid_area": null,
            "grid_auto_columns": null,
            "grid_auto_flow": null,
            "grid_auto_rows": null,
            "grid_column": null,
            "grid_gap": null,
            "grid_row": null,
            "grid_template_areas": null,
            "grid_template_columns": null,
            "grid_template_rows": null,
            "height": null,
            "justify_content": null,
            "justify_items": null,
            "left": null,
            "margin": null,
            "max_height": null,
            "max_width": null,
            "min_height": null,
            "min_width": null,
            "object_fit": null,
            "object_position": null,
            "order": null,
            "overflow": null,
            "overflow_x": null,
            "overflow_y": null,
            "padding": null,
            "right": null,
            "top": null,
            "visibility": null,
            "width": "auto"
          }
        },
        "6ff97a611d13425cb7baf6986b60329c": {
          "model_module": "@jupyter-widgets/controls",
          "model_name": "ProgressStyleModel",
          "model_module_version": "1.5.0",
          "state": {
            "_model_module": "@jupyter-widgets/controls",
            "_model_module_version": "1.5.0",
            "_model_name": "ProgressStyleModel",
            "_view_count": null,
            "_view_module": "@jupyter-widgets/base",
            "_view_module_version": "1.2.0",
            "_view_name": "StyleView",
            "bar_color": "black",
            "description_width": ""
          }
        },
        "87752488446e42089ead6f9caa742347": {
          "model_module": "@jupyter-widgets/controls",
          "model_name": "FloatProgressModel",
          "model_module_version": "1.5.0",
          "state": {
            "_dom_classes": [],
            "_model_module": "@jupyter-widgets/controls",
            "_model_module_version": "1.5.0",
            "_model_name": "FloatProgressModel",
            "_view_count": null,
            "_view_module": "@jupyter-widgets/controls",
            "_view_module_version": "1.5.0",
            "_view_name": "ProgressView",
            "bar_style": "",
            "description": "",
            "description_tooltip": null,
            "layout": "IPY_MODEL_f95c67ad290f42ea9a90c6cef202a39f",
            "max": 100,
            "min": 0,
            "orientation": "horizontal",
            "style": "IPY_MODEL_7e84df2a5c214bd2a4463795e676aea1",
            "value": 100
          }
        },
        "f95c67ad290f42ea9a90c6cef202a39f": {
          "model_module": "@jupyter-widgets/base",
          "model_name": "LayoutModel",
          "model_module_version": "1.2.0",
          "state": {
            "_model_module": "@jupyter-widgets/base",
            "_model_module_version": "1.2.0",
            "_model_name": "LayoutModel",
            "_view_count": null,
            "_view_module": "@jupyter-widgets/base",
            "_view_module_version": "1.2.0",
            "_view_name": "LayoutView",
            "align_content": null,
            "align_items": null,
            "align_self": null,
            "border": null,
            "bottom": null,
            "display": null,
            "flex": null,
            "flex_flow": null,
            "grid_area": null,
            "grid_auto_columns": null,
            "grid_auto_flow": null,
            "grid_auto_rows": null,
            "grid_column": null,
            "grid_gap": null,
            "grid_row": null,
            "grid_template_areas": null,
            "grid_template_columns": null,
            "grid_template_rows": null,
            "height": null,
            "justify_content": null,
            "justify_items": null,
            "left": null,
            "margin": null,
            "max_height": null,
            "max_width": null,
            "min_height": null,
            "min_width": null,
            "object_fit": null,
            "object_position": null,
            "order": null,
            "overflow": null,
            "overflow_x": null,
            "overflow_y": null,
            "padding": null,
            "right": null,
            "top": null,
            "visibility": null,
            "width": "auto"
          }
        },
        "7e84df2a5c214bd2a4463795e676aea1": {
          "model_module": "@jupyter-widgets/controls",
          "model_name": "ProgressStyleModel",
          "model_module_version": "1.5.0",
          "state": {
            "_model_module": "@jupyter-widgets/controls",
            "_model_module_version": "1.5.0",
            "_model_name": "ProgressStyleModel",
            "_view_count": null,
            "_view_module": "@jupyter-widgets/base",
            "_view_module_version": "1.2.0",
            "_view_name": "StyleView",
            "bar_color": "black",
            "description_width": ""
          }
        },
        "b962a28771d444bdb55c545934196d44": {
          "model_module": "@jupyter-widgets/controls",
          "model_name": "FloatProgressModel",
          "model_module_version": "1.5.0",
          "state": {
            "_dom_classes": [],
            "_model_module": "@jupyter-widgets/controls",
            "_model_module_version": "1.5.0",
            "_model_name": "FloatProgressModel",
            "_view_count": null,
            "_view_module": "@jupyter-widgets/controls",
            "_view_module_version": "1.5.0",
            "_view_name": "ProgressView",
            "bar_style": "",
            "description": "",
            "description_tooltip": null,
            "layout": "IPY_MODEL_f7c6f9b1c9f94d0783c0bc62bfd043f2",
            "max": 100,
            "min": 0,
            "orientation": "horizontal",
            "style": "IPY_MODEL_902a78e49c8146e5ac29610b9288489f",
            "value": 100
          }
        },
        "f7c6f9b1c9f94d0783c0bc62bfd043f2": {
          "model_module": "@jupyter-widgets/base",
          "model_name": "LayoutModel",
          "model_module_version": "1.2.0",
          "state": {
            "_model_module": "@jupyter-widgets/base",
            "_model_module_version": "1.2.0",
            "_model_name": "LayoutModel",
            "_view_count": null,
            "_view_module": "@jupyter-widgets/base",
            "_view_module_version": "1.2.0",
            "_view_name": "LayoutView",
            "align_content": null,
            "align_items": null,
            "align_self": null,
            "border": null,
            "bottom": null,
            "display": null,
            "flex": null,
            "flex_flow": null,
            "grid_area": null,
            "grid_auto_columns": null,
            "grid_auto_flow": null,
            "grid_auto_rows": null,
            "grid_column": null,
            "grid_gap": null,
            "grid_row": null,
            "grid_template_areas": null,
            "grid_template_columns": null,
            "grid_template_rows": null,
            "height": null,
            "justify_content": null,
            "justify_items": null,
            "left": null,
            "margin": null,
            "max_height": null,
            "max_width": null,
            "min_height": null,
            "min_width": null,
            "object_fit": null,
            "object_position": null,
            "order": null,
            "overflow": null,
            "overflow_x": null,
            "overflow_y": null,
            "padding": null,
            "right": null,
            "top": null,
            "visibility": null,
            "width": "auto"
          }
        },
        "902a78e49c8146e5ac29610b9288489f": {
          "model_module": "@jupyter-widgets/controls",
          "model_name": "ProgressStyleModel",
          "model_module_version": "1.5.0",
          "state": {
            "_model_module": "@jupyter-widgets/controls",
            "_model_module_version": "1.5.0",
            "_model_name": "ProgressStyleModel",
            "_view_count": null,
            "_view_module": "@jupyter-widgets/base",
            "_view_module_version": "1.2.0",
            "_view_name": "StyleView",
            "bar_color": "black",
            "description_width": ""
          }
        },
        "d084cca8421f4c64ac95b28915f432c7": {
          "model_module": "@jupyter-widgets/controls",
          "model_name": "FloatProgressModel",
          "model_module_version": "1.5.0",
          "state": {
            "_dom_classes": [],
            "_model_module": "@jupyter-widgets/controls",
            "_model_module_version": "1.5.0",
            "_model_name": "FloatProgressModel",
            "_view_count": null,
            "_view_module": "@jupyter-widgets/controls",
            "_view_module_version": "1.5.0",
            "_view_name": "ProgressView",
            "bar_style": "",
            "description": "",
            "description_tooltip": null,
            "layout": "IPY_MODEL_5baf2a5e6d424b6c91da02c8771ea34b",
            "max": 100,
            "min": 0,
            "orientation": "horizontal",
            "style": "IPY_MODEL_1b7bbbf9e6dc4818ab69448da191f203",
            "value": 100
          }
        },
        "5baf2a5e6d424b6c91da02c8771ea34b": {
          "model_module": "@jupyter-widgets/base",
          "model_name": "LayoutModel",
          "model_module_version": "1.2.0",
          "state": {
            "_model_module": "@jupyter-widgets/base",
            "_model_module_version": "1.2.0",
            "_model_name": "LayoutModel",
            "_view_count": null,
            "_view_module": "@jupyter-widgets/base",
            "_view_module_version": "1.2.0",
            "_view_name": "LayoutView",
            "align_content": null,
            "align_items": null,
            "align_self": null,
            "border": null,
            "bottom": null,
            "display": null,
            "flex": null,
            "flex_flow": null,
            "grid_area": null,
            "grid_auto_columns": null,
            "grid_auto_flow": null,
            "grid_auto_rows": null,
            "grid_column": null,
            "grid_gap": null,
            "grid_row": null,
            "grid_template_areas": null,
            "grid_template_columns": null,
            "grid_template_rows": null,
            "height": null,
            "justify_content": null,
            "justify_items": null,
            "left": null,
            "margin": null,
            "max_height": null,
            "max_width": null,
            "min_height": null,
            "min_width": null,
            "object_fit": null,
            "object_position": null,
            "order": null,
            "overflow": null,
            "overflow_x": null,
            "overflow_y": null,
            "padding": null,
            "right": null,
            "top": null,
            "visibility": null,
            "width": "auto"
          }
        },
        "1b7bbbf9e6dc4818ab69448da191f203": {
          "model_module": "@jupyter-widgets/controls",
          "model_name": "ProgressStyleModel",
          "model_module_version": "1.5.0",
          "state": {
            "_model_module": "@jupyter-widgets/controls",
            "_model_module_version": "1.5.0",
            "_model_name": "ProgressStyleModel",
            "_view_count": null,
            "_view_module": "@jupyter-widgets/base",
            "_view_module_version": "1.2.0",
            "_view_name": "StyleView",
            "bar_color": "black",
            "description_width": ""
          }
        },
        "f830265e057e4e06bf4de01ac42fa8d0": {
          "model_module": "@jupyter-widgets/controls",
          "model_name": "FloatProgressModel",
          "model_module_version": "1.5.0",
          "state": {
            "_dom_classes": [],
            "_model_module": "@jupyter-widgets/controls",
            "_model_module_version": "1.5.0",
            "_model_name": "FloatProgressModel",
            "_view_count": null,
            "_view_module": "@jupyter-widgets/controls",
            "_view_module_version": "1.5.0",
            "_view_name": "ProgressView",
            "bar_style": "",
            "description": "",
            "description_tooltip": null,
            "layout": "IPY_MODEL_69e39afd60bb47838bf4c64765cb29fa",
            "max": 100,
            "min": 0,
            "orientation": "horizontal",
            "style": "IPY_MODEL_c45568e8343e41d3a737a2a93fceea57",
            "value": 100
          }
        },
        "69e39afd60bb47838bf4c64765cb29fa": {
          "model_module": "@jupyter-widgets/base",
          "model_name": "LayoutModel",
          "model_module_version": "1.2.0",
          "state": {
            "_model_module": "@jupyter-widgets/base",
            "_model_module_version": "1.2.0",
            "_model_name": "LayoutModel",
            "_view_count": null,
            "_view_module": "@jupyter-widgets/base",
            "_view_module_version": "1.2.0",
            "_view_name": "LayoutView",
            "align_content": null,
            "align_items": null,
            "align_self": null,
            "border": null,
            "bottom": null,
            "display": null,
            "flex": null,
            "flex_flow": null,
            "grid_area": null,
            "grid_auto_columns": null,
            "grid_auto_flow": null,
            "grid_auto_rows": null,
            "grid_column": null,
            "grid_gap": null,
            "grid_row": null,
            "grid_template_areas": null,
            "grid_template_columns": null,
            "grid_template_rows": null,
            "height": null,
            "justify_content": null,
            "justify_items": null,
            "left": null,
            "margin": null,
            "max_height": null,
            "max_width": null,
            "min_height": null,
            "min_width": null,
            "object_fit": null,
            "object_position": null,
            "order": null,
            "overflow": null,
            "overflow_x": null,
            "overflow_y": null,
            "padding": null,
            "right": null,
            "top": null,
            "visibility": null,
            "width": "auto"
          }
        },
        "c45568e8343e41d3a737a2a93fceea57": {
          "model_module": "@jupyter-widgets/controls",
          "model_name": "ProgressStyleModel",
          "model_module_version": "1.5.0",
          "state": {
            "_model_module": "@jupyter-widgets/controls",
            "_model_module_version": "1.5.0",
            "_model_name": "ProgressStyleModel",
            "_view_count": null,
            "_view_module": "@jupyter-widgets/base",
            "_view_module_version": "1.2.0",
            "_view_name": "StyleView",
            "bar_color": "black",
            "description_width": ""
          }
        },
        "6af1390812384e7cba36eee812c4c96f": {
          "model_module": "@jupyter-widgets/controls",
          "model_name": "FloatProgressModel",
          "model_module_version": "1.5.0",
          "state": {
            "_dom_classes": [],
            "_model_module": "@jupyter-widgets/controls",
            "_model_module_version": "1.5.0",
            "_model_name": "FloatProgressModel",
            "_view_count": null,
            "_view_module": "@jupyter-widgets/controls",
            "_view_module_version": "1.5.0",
            "_view_name": "ProgressView",
            "bar_style": "",
            "description": "",
            "description_tooltip": null,
            "layout": "IPY_MODEL_82428627bcbc4fb0a782884a64033db0",
            "max": 100,
            "min": 0,
            "orientation": "horizontal",
            "style": "IPY_MODEL_233da3b251d948e5b89dc2a641327ef3",
            "value": 100
          }
        },
        "82428627bcbc4fb0a782884a64033db0": {
          "model_module": "@jupyter-widgets/base",
          "model_name": "LayoutModel",
          "model_module_version": "1.2.0",
          "state": {
            "_model_module": "@jupyter-widgets/base",
            "_model_module_version": "1.2.0",
            "_model_name": "LayoutModel",
            "_view_count": null,
            "_view_module": "@jupyter-widgets/base",
            "_view_module_version": "1.2.0",
            "_view_name": "LayoutView",
            "align_content": null,
            "align_items": null,
            "align_self": null,
            "border": null,
            "bottom": null,
            "display": null,
            "flex": null,
            "flex_flow": null,
            "grid_area": null,
            "grid_auto_columns": null,
            "grid_auto_flow": null,
            "grid_auto_rows": null,
            "grid_column": null,
            "grid_gap": null,
            "grid_row": null,
            "grid_template_areas": null,
            "grid_template_columns": null,
            "grid_template_rows": null,
            "height": null,
            "justify_content": null,
            "justify_items": null,
            "left": null,
            "margin": null,
            "max_height": null,
            "max_width": null,
            "min_height": null,
            "min_width": null,
            "object_fit": null,
            "object_position": null,
            "order": null,
            "overflow": null,
            "overflow_x": null,
            "overflow_y": null,
            "padding": null,
            "right": null,
            "top": null,
            "visibility": null,
            "width": "auto"
          }
        },
        "233da3b251d948e5b89dc2a641327ef3": {
          "model_module": "@jupyter-widgets/controls",
          "model_name": "ProgressStyleModel",
          "model_module_version": "1.5.0",
          "state": {
            "_model_module": "@jupyter-widgets/controls",
            "_model_module_version": "1.5.0",
            "_model_name": "ProgressStyleModel",
            "_view_count": null,
            "_view_module": "@jupyter-widgets/base",
            "_view_module_version": "1.2.0",
            "_view_name": "StyleView",
            "bar_color": "black",
            "description_width": ""
          }
        },
        "bed224b68a124f27a5bdeebdef3d713e": {
          "model_module": "@jupyter-widgets/controls",
          "model_name": "FloatProgressModel",
          "model_module_version": "1.5.0",
          "state": {
            "_dom_classes": [],
            "_model_module": "@jupyter-widgets/controls",
            "_model_module_version": "1.5.0",
            "_model_name": "FloatProgressModel",
            "_view_count": null,
            "_view_module": "@jupyter-widgets/controls",
            "_view_module_version": "1.5.0",
            "_view_name": "ProgressView",
            "bar_style": "",
            "description": "",
            "description_tooltip": null,
            "layout": "IPY_MODEL_a13d24e2209c44b898397f75b1c00dac",
            "max": 100,
            "min": 0,
            "orientation": "horizontal",
            "style": "IPY_MODEL_b9ddb200dff8409784c0d859ac399550",
            "value": 100
          }
        },
        "a13d24e2209c44b898397f75b1c00dac": {
          "model_module": "@jupyter-widgets/base",
          "model_name": "LayoutModel",
          "model_module_version": "1.2.0",
          "state": {
            "_model_module": "@jupyter-widgets/base",
            "_model_module_version": "1.2.0",
            "_model_name": "LayoutModel",
            "_view_count": null,
            "_view_module": "@jupyter-widgets/base",
            "_view_module_version": "1.2.0",
            "_view_name": "LayoutView",
            "align_content": null,
            "align_items": null,
            "align_self": null,
            "border": null,
            "bottom": null,
            "display": null,
            "flex": null,
            "flex_flow": null,
            "grid_area": null,
            "grid_auto_columns": null,
            "grid_auto_flow": null,
            "grid_auto_rows": null,
            "grid_column": null,
            "grid_gap": null,
            "grid_row": null,
            "grid_template_areas": null,
            "grid_template_columns": null,
            "grid_template_rows": null,
            "height": null,
            "justify_content": null,
            "justify_items": null,
            "left": null,
            "margin": null,
            "max_height": null,
            "max_width": null,
            "min_height": null,
            "min_width": null,
            "object_fit": null,
            "object_position": null,
            "order": null,
            "overflow": null,
            "overflow_x": null,
            "overflow_y": null,
            "padding": null,
            "right": null,
            "top": null,
            "visibility": null,
            "width": "auto"
          }
        },
        "b9ddb200dff8409784c0d859ac399550": {
          "model_module": "@jupyter-widgets/controls",
          "model_name": "ProgressStyleModel",
          "model_module_version": "1.5.0",
          "state": {
            "_model_module": "@jupyter-widgets/controls",
            "_model_module_version": "1.5.0",
            "_model_name": "ProgressStyleModel",
            "_view_count": null,
            "_view_module": "@jupyter-widgets/base",
            "_view_module_version": "1.2.0",
            "_view_name": "StyleView",
            "bar_color": "black",
            "description_width": ""
          }
        },
        "d7cd3e1c8225488c96cc94b2e3e7b4e5": {
          "model_module": "@jupyter-widgets/controls",
          "model_name": "FloatProgressModel",
          "model_module_version": "1.5.0",
          "state": {
            "_dom_classes": [],
            "_model_module": "@jupyter-widgets/controls",
            "_model_module_version": "1.5.0",
            "_model_name": "FloatProgressModel",
            "_view_count": null,
            "_view_module": "@jupyter-widgets/controls",
            "_view_module_version": "1.5.0",
            "_view_name": "ProgressView",
            "bar_style": "",
            "description": "",
            "description_tooltip": null,
            "layout": "IPY_MODEL_4f7fa24ad12540bd903d7add3c72e5c7",
            "max": 100,
            "min": 0,
            "orientation": "horizontal",
            "style": "IPY_MODEL_b1547b47f130484f810f8fda00843fa8",
            "value": 100
          }
        },
        "4f7fa24ad12540bd903d7add3c72e5c7": {
          "model_module": "@jupyter-widgets/base",
          "model_name": "LayoutModel",
          "model_module_version": "1.2.0",
          "state": {
            "_model_module": "@jupyter-widgets/base",
            "_model_module_version": "1.2.0",
            "_model_name": "LayoutModel",
            "_view_count": null,
            "_view_module": "@jupyter-widgets/base",
            "_view_module_version": "1.2.0",
            "_view_name": "LayoutView",
            "align_content": null,
            "align_items": null,
            "align_self": null,
            "border": null,
            "bottom": null,
            "display": null,
            "flex": null,
            "flex_flow": null,
            "grid_area": null,
            "grid_auto_columns": null,
            "grid_auto_flow": null,
            "grid_auto_rows": null,
            "grid_column": null,
            "grid_gap": null,
            "grid_row": null,
            "grid_template_areas": null,
            "grid_template_columns": null,
            "grid_template_rows": null,
            "height": null,
            "justify_content": null,
            "justify_items": null,
            "left": null,
            "margin": null,
            "max_height": null,
            "max_width": null,
            "min_height": null,
            "min_width": null,
            "object_fit": null,
            "object_position": null,
            "order": null,
            "overflow": null,
            "overflow_x": null,
            "overflow_y": null,
            "padding": null,
            "right": null,
            "top": null,
            "visibility": null,
            "width": "auto"
          }
        },
        "b1547b47f130484f810f8fda00843fa8": {
          "model_module": "@jupyter-widgets/controls",
          "model_name": "ProgressStyleModel",
          "model_module_version": "1.5.0",
          "state": {
            "_model_module": "@jupyter-widgets/controls",
            "_model_module_version": "1.5.0",
            "_model_name": "ProgressStyleModel",
            "_view_count": null,
            "_view_module": "@jupyter-widgets/base",
            "_view_module_version": "1.2.0",
            "_view_name": "StyleView",
            "bar_color": "black",
            "description_width": ""
          }
        },
        "cdc2283dfec44b9da8616ff01d03e994": {
          "model_module": "@jupyter-widgets/base",
          "model_name": "LayoutModel",
          "model_module_version": "1.2.0",
          "state": {
            "_model_module": "@jupyter-widgets/base",
            "_model_module_version": "1.2.0",
            "_model_name": "LayoutModel",
            "_view_count": null,
            "_view_module": "@jupyter-widgets/base",
            "_view_module_version": "1.2.0",
            "_view_name": "LayoutView",
            "align_content": null,
            "align_items": null,
            "align_self": null,
            "border": null,
            "bottom": null,
            "display": null,
            "flex": null,
            "flex_flow": null,
            "grid_area": null,
            "grid_auto_columns": null,
            "grid_auto_flow": null,
            "grid_auto_rows": null,
            "grid_column": null,
            "grid_gap": null,
            "grid_row": null,
            "grid_template_areas": null,
            "grid_template_columns": null,
            "grid_template_rows": null,
            "height": null,
            "justify_content": null,
            "justify_items": null,
            "left": null,
            "margin": null,
            "max_height": null,
            "max_width": null,
            "min_height": null,
            "min_width": null,
            "object_fit": null,
            "object_position": null,
            "order": null,
            "overflow": null,
            "overflow_x": null,
            "overflow_y": null,
            "padding": null,
            "right": null,
            "top": null,
            "visibility": null,
            "width": "auto"
          }
        },
        "c182461e01604c5389e4522021a852e5": {
          "model_module": "@jupyter-widgets/controls",
          "model_name": "ProgressStyleModel",
          "model_module_version": "1.5.0",
          "state": {
            "_model_module": "@jupyter-widgets/controls",
            "_model_module_version": "1.5.0",
            "_model_name": "ProgressStyleModel",
            "_view_count": null,
            "_view_module": "@jupyter-widgets/base",
            "_view_module_version": "1.2.0",
            "_view_name": "StyleView",
            "bar_color": "black",
            "description_width": ""
          }
        },
        "287e2a49afee4bd7a3b3209f2fbf0dff": {
          "model_module": "@jupyter-widgets/controls",
          "model_name": "FloatProgressModel",
          "model_module_version": "1.5.0",
          "state": {
            "_dom_classes": [],
            "_model_module": "@jupyter-widgets/controls",
            "_model_module_version": "1.5.0",
            "_model_name": "FloatProgressModel",
            "_view_count": null,
            "_view_module": "@jupyter-widgets/controls",
            "_view_module_version": "1.5.0",
            "_view_name": "ProgressView",
            "bar_style": "",
            "description": "",
            "description_tooltip": null,
            "layout": "IPY_MODEL_cdc2283dfec44b9da8616ff01d03e994",
            "max": 100,
            "min": 0,
            "orientation": "horizontal",
            "style": "IPY_MODEL_c182461e01604c5389e4522021a852e5",
            "value": 100
          }
        },
        "a3d7f98e54dd41049ca57ecc08b8c085": {
          "model_module": "@jupyter-widgets/base",
          "model_name": "LayoutModel",
          "model_module_version": "1.2.0",
          "state": {
            "_model_module": "@jupyter-widgets/base",
            "_model_module_version": "1.2.0",
            "_model_name": "LayoutModel",
            "_view_count": null,
            "_view_module": "@jupyter-widgets/base",
            "_view_module_version": "1.2.0",
            "_view_name": "LayoutView",
            "align_content": null,
            "align_items": null,
            "align_self": null,
            "border": null,
            "bottom": null,
            "display": null,
            "flex": null,
            "flex_flow": null,
            "grid_area": null,
            "grid_auto_columns": null,
            "grid_auto_flow": null,
            "grid_auto_rows": null,
            "grid_column": null,
            "grid_gap": null,
            "grid_row": null,
            "grid_template_areas": null,
            "grid_template_columns": null,
            "grid_template_rows": null,
            "height": null,
            "justify_content": null,
            "justify_items": null,
            "left": null,
            "margin": null,
            "max_height": null,
            "max_width": null,
            "min_height": null,
            "min_width": null,
            "object_fit": null,
            "object_position": null,
            "order": null,
            "overflow": null,
            "overflow_x": null,
            "overflow_y": null,
            "padding": null,
            "right": null,
            "top": null,
            "visibility": null,
            "width": "auto"
          }
        },
        "97d325b198d1438a8c46ab497f17569c": {
          "model_module": "@jupyter-widgets/controls",
          "model_name": "ProgressStyleModel",
          "model_module_version": "1.5.0",
          "state": {
            "_model_module": "@jupyter-widgets/controls",
            "_model_module_version": "1.5.0",
            "_model_name": "ProgressStyleModel",
            "_view_count": null,
            "_view_module": "@jupyter-widgets/base",
            "_view_module_version": "1.2.0",
            "_view_name": "StyleView",
            "bar_color": "black",
            "description_width": ""
          }
        },
        "534a0c34c9a64caeba1eed2c35542e47": {
          "model_module": "@jupyter-widgets/controls",
          "model_name": "FloatProgressModel",
          "model_module_version": "1.5.0",
          "state": {
            "_dom_classes": [],
            "_model_module": "@jupyter-widgets/controls",
            "_model_module_version": "1.5.0",
            "_model_name": "FloatProgressModel",
            "_view_count": null,
            "_view_module": "@jupyter-widgets/controls",
            "_view_module_version": "1.5.0",
            "_view_name": "ProgressView",
            "bar_style": "",
            "description": "",
            "description_tooltip": null,
            "layout": "IPY_MODEL_a3d7f98e54dd41049ca57ecc08b8c085",
            "max": 100,
            "min": 0,
            "orientation": "horizontal",
            "style": "IPY_MODEL_97d325b198d1438a8c46ab497f17569c",
            "value": 100
          }
        },
        "2a6c1fd2925f4e958d9e326a64bd2a82": {
          "model_module": "@jupyter-widgets/base",
          "model_name": "LayoutModel",
          "model_module_version": "1.2.0",
          "state": {
            "_model_module": "@jupyter-widgets/base",
            "_model_module_version": "1.2.0",
            "_model_name": "LayoutModel",
            "_view_count": null,
            "_view_module": "@jupyter-widgets/base",
            "_view_module_version": "1.2.0",
            "_view_name": "LayoutView",
            "align_content": null,
            "align_items": null,
            "align_self": null,
            "border": null,
            "bottom": null,
            "display": null,
            "flex": null,
            "flex_flow": null,
            "grid_area": null,
            "grid_auto_columns": null,
            "grid_auto_flow": null,
            "grid_auto_rows": null,
            "grid_column": null,
            "grid_gap": null,
            "grid_row": null,
            "grid_template_areas": null,
            "grid_template_columns": null,
            "grid_template_rows": null,
            "height": null,
            "justify_content": null,
            "justify_items": null,
            "left": null,
            "margin": null,
            "max_height": null,
            "max_width": null,
            "min_height": null,
            "min_width": null,
            "object_fit": null,
            "object_position": null,
            "order": null,
            "overflow": null,
            "overflow_x": null,
            "overflow_y": null,
            "padding": null,
            "right": null,
            "top": null,
            "visibility": null,
            "width": "auto"
          }
        },
        "90f87c8914c143f784e93f6dd68f74a6": {
          "model_module": "@jupyter-widgets/controls",
          "model_name": "ProgressStyleModel",
          "model_module_version": "1.5.0",
          "state": {
            "_model_module": "@jupyter-widgets/controls",
            "_model_module_version": "1.5.0",
            "_model_name": "ProgressStyleModel",
            "_view_count": null,
            "_view_module": "@jupyter-widgets/base",
            "_view_module_version": "1.2.0",
            "_view_name": "StyleView",
            "bar_color": "black",
            "description_width": ""
          }
        },
        "3abc6ec50fe349ee9bc021abeb8dcdbf": {
          "model_module": "@jupyter-widgets/controls",
          "model_name": "FloatProgressModel",
          "model_module_version": "1.5.0",
          "state": {
            "_dom_classes": [],
            "_model_module": "@jupyter-widgets/controls",
            "_model_module_version": "1.5.0",
            "_model_name": "FloatProgressModel",
            "_view_count": null,
            "_view_module": "@jupyter-widgets/controls",
            "_view_module_version": "1.5.0",
            "_view_name": "ProgressView",
            "bar_style": "",
            "description": "",
            "description_tooltip": null,
            "layout": "IPY_MODEL_2a6c1fd2925f4e958d9e326a64bd2a82",
            "max": 100,
            "min": 0,
            "orientation": "horizontal",
            "style": "IPY_MODEL_90f87c8914c143f784e93f6dd68f74a6",
            "value": 100
          }
        },
        "24849cde2ecf42cda50ec13ea7bedcc9": {
          "model_module": "@jupyter-widgets/base",
          "model_name": "LayoutModel",
          "model_module_version": "1.2.0",
          "state": {
            "_model_module": "@jupyter-widgets/base",
            "_model_module_version": "1.2.0",
            "_model_name": "LayoutModel",
            "_view_count": null,
            "_view_module": "@jupyter-widgets/base",
            "_view_module_version": "1.2.0",
            "_view_name": "LayoutView",
            "align_content": null,
            "align_items": null,
            "align_self": null,
            "border": null,
            "bottom": null,
            "display": null,
            "flex": null,
            "flex_flow": null,
            "grid_area": null,
            "grid_auto_columns": null,
            "grid_auto_flow": null,
            "grid_auto_rows": null,
            "grid_column": null,
            "grid_gap": null,
            "grid_row": null,
            "grid_template_areas": null,
            "grid_template_columns": null,
            "grid_template_rows": null,
            "height": null,
            "justify_content": null,
            "justify_items": null,
            "left": null,
            "margin": null,
            "max_height": null,
            "max_width": null,
            "min_height": null,
            "min_width": null,
            "object_fit": null,
            "object_position": null,
            "order": null,
            "overflow": null,
            "overflow_x": null,
            "overflow_y": null,
            "padding": null,
            "right": null,
            "top": null,
            "visibility": null,
            "width": "auto"
          }
        },
        "573fa84d679a4bd0902ef4ed921fb36b": {
          "model_module": "@jupyter-widgets/controls",
          "model_name": "ProgressStyleModel",
          "model_module_version": "1.5.0",
          "state": {
            "_model_module": "@jupyter-widgets/controls",
            "_model_module_version": "1.5.0",
            "_model_name": "ProgressStyleModel",
            "_view_count": null,
            "_view_module": "@jupyter-widgets/base",
            "_view_module_version": "1.2.0",
            "_view_name": "StyleView",
            "bar_color": "black",
            "description_width": ""
          }
        },
        "3fbc76ca786c43fe9ed025ee348f6806": {
          "model_module": "@jupyter-widgets/controls",
          "model_name": "FloatProgressModel",
          "model_module_version": "1.5.0",
          "state": {
            "_dom_classes": [],
            "_model_module": "@jupyter-widgets/controls",
            "_model_module_version": "1.5.0",
            "_model_name": "FloatProgressModel",
            "_view_count": null,
            "_view_module": "@jupyter-widgets/controls",
            "_view_module_version": "1.5.0",
            "_view_name": "ProgressView",
            "bar_style": "",
            "description": "",
            "description_tooltip": null,
            "layout": "IPY_MODEL_24849cde2ecf42cda50ec13ea7bedcc9",
            "max": 100,
            "min": 0,
            "orientation": "horizontal",
            "style": "IPY_MODEL_573fa84d679a4bd0902ef4ed921fb36b",
            "value": 100
          }
        },
        "418b9b7b021840c7b5e9e18f2202d983": {
          "model_module": "@jupyter-widgets/controls",
          "model_name": "FloatProgressModel",
          "model_module_version": "1.5.0",
          "state": {
            "_dom_classes": [],
            "_model_module": "@jupyter-widgets/controls",
            "_model_module_version": "1.5.0",
            "_model_name": "FloatProgressModel",
            "_view_count": null,
            "_view_module": "@jupyter-widgets/controls",
            "_view_module_version": "1.5.0",
            "_view_name": "ProgressView",
            "bar_style": "",
            "description": "",
            "description_tooltip": null,
            "layout": "IPY_MODEL_5afb9162415644018d133ab6ad0a311f",
            "max": 100,
            "min": 0,
            "orientation": "horizontal",
            "style": "IPY_MODEL_0efd10c856964532ab94eb84367240a8",
            "value": 100
          }
        },
        "5afb9162415644018d133ab6ad0a311f": {
          "model_module": "@jupyter-widgets/base",
          "model_name": "LayoutModel",
          "model_module_version": "1.2.0",
          "state": {
            "_model_module": "@jupyter-widgets/base",
            "_model_module_version": "1.2.0",
            "_model_name": "LayoutModel",
            "_view_count": null,
            "_view_module": "@jupyter-widgets/base",
            "_view_module_version": "1.2.0",
            "_view_name": "LayoutView",
            "align_content": null,
            "align_items": null,
            "align_self": null,
            "border": null,
            "bottom": null,
            "display": null,
            "flex": null,
            "flex_flow": null,
            "grid_area": null,
            "grid_auto_columns": null,
            "grid_auto_flow": null,
            "grid_auto_rows": null,
            "grid_column": null,
            "grid_gap": null,
            "grid_row": null,
            "grid_template_areas": null,
            "grid_template_columns": null,
            "grid_template_rows": null,
            "height": null,
            "justify_content": null,
            "justify_items": null,
            "left": null,
            "margin": null,
            "max_height": null,
            "max_width": null,
            "min_height": null,
            "min_width": null,
            "object_fit": null,
            "object_position": null,
            "order": null,
            "overflow": null,
            "overflow_x": null,
            "overflow_y": null,
            "padding": null,
            "right": null,
            "top": null,
            "visibility": null,
            "width": "auto"
          }
        },
        "0efd10c856964532ab94eb84367240a8": {
          "model_module": "@jupyter-widgets/controls",
          "model_name": "ProgressStyleModel",
          "model_module_version": "1.5.0",
          "state": {
            "_model_module": "@jupyter-widgets/controls",
            "_model_module_version": "1.5.0",
            "_model_name": "ProgressStyleModel",
            "_view_count": null,
            "_view_module": "@jupyter-widgets/base",
            "_view_module_version": "1.2.0",
            "_view_name": "StyleView",
            "bar_color": "black",
            "description_width": ""
          }
        }
      }
    },
    "accelerator": "TPU"
  },
  "nbformat": 4,
  "nbformat_minor": 0
}